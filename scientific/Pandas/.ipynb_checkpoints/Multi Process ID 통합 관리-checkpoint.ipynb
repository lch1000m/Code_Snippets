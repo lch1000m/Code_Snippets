{
 "cells": [
  {
   "cell_type": "markdown",
   "metadata": {},
   "source": [
    "<br>\n",
    "# Multi Process ID 통합\n",
    "<br>"
   ]
  },
  {
   "cell_type": "code",
   "execution_count": 1,
   "metadata": {
    "collapsed": true
   },
   "outputs": [],
   "source": [
    "import pandas as pd"
   ]
  },
  {
   "cell_type": "code",
   "execution_count": 5,
   "metadata": {},
   "outputs": [],
   "source": [
    "df = pd.read_table(\n",
    "    'multi processid.txt',\n",
    ")"
   ]
  },
  {
   "cell_type": "code",
   "execution_count": 6,
   "metadata": {},
   "outputs": [
    {
     "data": {
      "text/html": [
       "<div>\n",
       "<style>\n",
       "    .dataframe thead tr:only-child th {\n",
       "        text-align: right;\n",
       "    }\n",
       "\n",
       "    .dataframe thead th {\n",
       "        text-align: left;\n",
       "    }\n",
       "\n",
       "    .dataframe tbody tr th {\n",
       "        vertical-align: top;\n",
       "    }\n",
       "</style>\n",
       "<table border=\"1\" class=\"dataframe\">\n",
       "  <thead>\n",
       "    <tr style=\"text-align: right;\">\n",
       "      <th></th>\n",
       "      <th>NO</th>\n",
       "      <th>STEP</th>\n",
       "      <th>ITEM</th>\n",
       "      <th>KNGF</th>\n",
       "      <th>KNGG</th>\n",
       "      <th>KNGN</th>\n",
       "    </tr>\n",
       "  </thead>\n",
       "  <tbody>\n",
       "    <tr>\n",
       "      <th>0</th>\n",
       "      <td>1</td>\n",
       "      <td>9.2 SP2</td>\n",
       "      <td>THK1</td>\n",
       "      <td>THK1</td>\n",
       "      <td>THK1</td>\n",
       "      <td>THK1</td>\n",
       "    </tr>\n",
       "    <tr>\n",
       "      <th>1</th>\n",
       "      <td>2</td>\n",
       "      <td>9.2 SP2</td>\n",
       "      <td>THK2</td>\n",
       "      <td>THK2</td>\n",
       "      <td>THK2</td>\n",
       "      <td>THK2</td>\n",
       "    </tr>\n",
       "    <tr>\n",
       "      <th>2</th>\n",
       "      <td>3</td>\n",
       "      <td>9.2 SP2</td>\n",
       "      <td>THK3</td>\n",
       "      <td>THK3</td>\n",
       "      <td>THK3</td>\n",
       "      <td>THK3</td>\n",
       "    </tr>\n",
       "    <tr>\n",
       "      <th>3</th>\n",
       "      <td>4</td>\n",
       "      <td>9.4 OCD</td>\n",
       "      <td>CD1</td>\n",
       "      <td>CD1</td>\n",
       "      <td>CD1</td>\n",
       "      <td>CD1</td>\n",
       "    </tr>\n",
       "    <tr>\n",
       "      <th>4</th>\n",
       "      <td>5</td>\n",
       "      <td>9.4 OCD</td>\n",
       "      <td>CD2</td>\n",
       "      <td>CD2</td>\n",
       "      <td>CD2</td>\n",
       "      <td>CD2</td>\n",
       "    </tr>\n",
       "    <tr>\n",
       "      <th>5</th>\n",
       "      <td>6</td>\n",
       "      <td>9.4 OCD</td>\n",
       "      <td>CD3</td>\n",
       "      <td>CD3</td>\n",
       "      <td>CD3</td>\n",
       "      <td>CD7</td>\n",
       "    </tr>\n",
       "    <tr>\n",
       "      <th>6</th>\n",
       "      <td>7</td>\n",
       "      <td>9.4 OCD</td>\n",
       "      <td>CD4</td>\n",
       "      <td>CD4</td>\n",
       "      <td>CD4</td>\n",
       "      <td>CD4</td>\n",
       "    </tr>\n",
       "    <tr>\n",
       "      <th>7</th>\n",
       "      <td>8</td>\n",
       "      <td>9.4 OCD</td>\n",
       "      <td>CD5</td>\n",
       "      <td>CD5</td>\n",
       "      <td>CD5</td>\n",
       "      <td>CD5</td>\n",
       "    </tr>\n",
       "    <tr>\n",
       "      <th>8</th>\n",
       "      <td>9</td>\n",
       "      <td>9.4 OCD</td>\n",
       "      <td>CD6</td>\n",
       "      <td>CD6</td>\n",
       "      <td>CD6</td>\n",
       "      <td>NaN</td>\n",
       "    </tr>\n",
       "    <tr>\n",
       "      <th>9</th>\n",
       "      <td>10</td>\n",
       "      <td>9.4 OCD</td>\n",
       "      <td>CD7</td>\n",
       "      <td>CD7</td>\n",
       "      <td>CD7</td>\n",
       "      <td>CD14</td>\n",
       "    </tr>\n",
       "  </tbody>\n",
       "</table>\n",
       "</div>"
      ],
      "text/plain": [
       "   NO     STEP  ITEM  KNGF  KNGG  KNGN\n",
       "0   1  9.2 SP2  THK1  THK1  THK1  THK1\n",
       "1   2  9.2 SP2  THK2  THK2  THK2  THK2\n",
       "2   3  9.2 SP2  THK3  THK3  THK3  THK3\n",
       "3   4  9.4 OCD   CD1   CD1   CD1   CD1\n",
       "4   5  9.4 OCD   CD2   CD2   CD2   CD2\n",
       "5   6  9.4 OCD   CD3   CD3   CD3   CD7\n",
       "6   7  9.4 OCD   CD4   CD4   CD4   CD4\n",
       "7   8  9.4 OCD   CD5   CD5   CD5   CD5\n",
       "8   9  9.4 OCD   CD6   CD6   CD6   NaN\n",
       "9  10  9.4 OCD   CD7   CD7   CD7  CD14"
      ]
     },
     "execution_count": 6,
     "metadata": {},
     "output_type": "execute_result"
    }
   ],
   "source": [
    "df"
   ]
  },
  {
   "cell_type": "code",
   "execution_count": null,
   "metadata": {
    "collapsed": true
   },
   "outputs": [],
   "source": []
  }
 ],
 "metadata": {
  "kernelspec": {
   "display_name": "Python 3",
   "language": "python",
   "name": "python3"
  },
  "language_info": {
   "codemirror_mode": {
    "name": "ipython",
    "version": 3
   },
   "file_extension": ".py",
   "mimetype": "text/x-python",
   "name": "python",
   "nbconvert_exporter": "python",
   "pygments_lexer": "ipython3",
   "version": "3.6.3"
  }
 },
 "nbformat": 4,
 "nbformat_minor": 2
}
