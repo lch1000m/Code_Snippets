{
 "cells": [
  {
   "cell_type": "markdown",
   "metadata": {},
   "source": [
    "# pymongo"
   ]
  },
  {
   "cell_type": "markdown",
   "metadata": {},
   "source": [
    "## python binding for MongoDB\n",
    "<br>"
   ]
  },
  {
   "cell_type": "markdown",
   "metadata": {},
   "source": [
    "# Table of Contets"
   ]
  },
  {
   "cell_type": "markdown",
   "metadata": {},
   "source": [
    "### 1. **Connection**"
   ]
  },
  {
   "cell_type": "markdown",
   "metadata": {},
   "source": [
    "- [Run MongoDB Server](#run_server)\n",
    "- [Connect to MongoDB](#connection)"
   ]
  },
  {
   "cell_type": "markdown",
   "metadata": {},
   "source": [
    "### 2. Basic Usage"
   ]
  },
  {
   "cell_type": "markdown",
   "metadata": {},
   "source": [
    "- [Create](#create)\n",
    "- [Read](#read)\n",
    "- [Update](#update)\n",
    "- [Delete](#delete)"
   ]
  },
  {
   "cell_type": "markdown",
   "metadata": {},
   "source": [
    "### 3. Query"
   ]
  },
  {
   "cell_type": "markdown",
   "metadata": {},
   "source": [
    "- [Query](#query)"
   ]
  },
  {
   "cell_type": "markdown",
   "metadata": {},
   "source": [
    "### 4. Indexing"
   ]
  },
  {
   "cell_type": "markdown",
   "metadata": {},
   "source": [
    "- [Indexing](#index)"
   ]
  },
  {
   "cell_type": "markdown",
   "metadata": {},
   "source": [
    "### 5. Sorting & Limit"
   ]
  },
  {
   "cell_type": "markdown",
   "metadata": {},
   "source": [
    "- [Sorting](#sort)\n",
    "- [Limit](#limit)"
   ]
  },
  {
   "cell_type": "markdown",
   "metadata": {},
   "source": [
    "### 6. MapReduce"
   ]
  },
  {
   "cell_type": "markdown",
   "metadata": {},
   "source": [
    "- [Basic MapReduce](#basic_mapreduce)"
   ]
  },
  {
   "cell_type": "markdown",
   "metadata": {},
   "source": [
    "### 7. Working with Pandas"
   ]
  },
  {
   "cell_type": "markdown",
   "metadata": {},
   "source": [
    "- [MongoDB cursor to pandas df](#mongodb_cursor_to_df)"
   ]
  },
  {
   "cell_type": "markdown",
   "metadata": {},
   "source": [
    "### 8. ETC"
   ]
  },
  {
   "cell_type": "markdown",
   "metadata": {},
   "source": [
    "- [Total Count of collections](#count_collection)"
   ]
  },
  {
   "cell_type": "markdown",
   "metadata": {},
   "source": [
    "<br><br><br><br><br><br><br><br><br><br><br><br><br><br><br><br><br><br><br><br><br><br>"
   ]
  },
  {
   "cell_type": "markdown",
   "metadata": {},
   "source": [
    "---"
   ]
  },
  {
   "cell_type": "markdown",
   "metadata": {},
   "source": [
    "<a id=\"run_server\"></a>\n",
    "# Run MongoDB Server"
   ]
  },
  {
   "cell_type": "markdown",
   "metadata": {},
   "source": [
    "### run mongodb server command\n",
    "\"C:\\Program Files\\MongoDB\\Server\\3.4\\bin\\mongod.exe\" --dbpath \"C:\\Codes\\mongodb\""
   ]
  },
  {
   "cell_type": "code",
   "execution_count": 1,
   "metadata": {
    "collapsed": true
   },
   "outputs": [],
   "source": [
    "import pymongo\n",
    "from pymongo import MongoClient\n",
    "\n",
    "from pprint import pprint"
   ]
  },
  {
   "cell_type": "markdown",
   "metadata": {},
   "source": [
    "---"
   ]
  },
  {
   "cell_type": "markdown",
   "metadata": {},
   "source": [
    "<a id=\"connection\"></a>\n",
    "## Connect to MongoDB"
   ]
  },
  {
   "cell_type": "markdown",
   "metadata": {},
   "source": [
    "### Create Client"
   ]
  },
  {
   "cell_type": "code",
   "execution_count": 2,
   "metadata": {
    "collapsed": true
   },
   "outputs": [],
   "source": [
    "mongo_client = MongoClient('localhost',27017)"
   ]
  },
  {
   "cell_type": "code",
   "execution_count": 3,
   "metadata": {},
   "outputs": [
    {
     "data": {
      "text/plain": [
       "MongoClient(host=['localhost:27017'], document_class=dict, tz_aware=False, connect=True)"
      ]
     },
     "execution_count": 3,
     "metadata": {},
     "output_type": "execute_result"
    }
   ],
   "source": [
    "mongo_client"
   ]
  },
  {
   "cell_type": "markdown",
   "metadata": {},
   "source": [
    "### connect to DB"
   ]
  },
  {
   "cell_type": "code",
   "execution_count": 4,
   "metadata": {
    "collapsed": true
   },
   "outputs": [],
   "source": [
    "mongo_db = mongo_client['test_db']"
   ]
  },
  {
   "cell_type": "code",
   "execution_count": 5,
   "metadata": {},
   "outputs": [
    {
     "data": {
      "text/plain": [
       "Database(MongoClient(host=['localhost:27017'], document_class=dict, tz_aware=False, connect=True), 'test_db')"
      ]
     },
     "execution_count": 5,
     "metadata": {},
     "output_type": "execute_result"
    }
   ],
   "source": [
    "mongo_db"
   ]
  },
  {
   "cell_type": "markdown",
   "metadata": {},
   "source": [
    "### connect to collection"
   ]
  },
  {
   "cell_type": "code",
   "execution_count": 6,
   "metadata": {
    "collapsed": true
   },
   "outputs": [],
   "source": [
    "mongo_collection = mongo_db['node_sample']"
   ]
  },
  {
   "cell_type": "code",
   "execution_count": 7,
   "metadata": {},
   "outputs": [
    {
     "data": {
      "text/plain": [
       "Collection(Database(MongoClient(host=['localhost:27017'], document_class=dict, tz_aware=False, connect=True), 'test_db'), 'node_sample')"
      ]
     },
     "execution_count": 7,
     "metadata": {},
     "output_type": "execute_result"
    }
   ],
   "source": [
    "mongo_collection"
   ]
  },
  {
   "cell_type": "markdown",
   "metadata": {},
   "source": [
    "---"
   ]
  },
  {
   "cell_type": "markdown",
   "metadata": {},
   "source": [
    "<a id=\"read\"></a>\n",
    "## read collection data"
   ]
  },
  {
   "cell_type": "markdown",
   "metadata": {},
   "source": [
    "**using find_one**"
   ]
  },
  {
   "cell_type": "code",
   "execution_count": 8,
   "metadata": {
    "collapsed": true
   },
   "outputs": [],
   "source": [
    "data = mongo_collection.find_one()"
   ]
  },
  {
   "cell_type": "code",
   "execution_count": 9,
   "metadata": {},
   "outputs": [
    {
     "data": {
      "text/plain": [
       "{'_id': ObjectId('5a1297c4aeea91055838099c'),\n",
       " 'comment': 'new comment',\n",
       " 'order': 2,\n",
       " 'title': 'also changed'}"
      ]
     },
     "execution_count": 9,
     "metadata": {},
     "output_type": "execute_result"
    }
   ],
   "source": [
    "# return 1st document of collection\n",
    "data"
   ]
  },
  {
   "cell_type": "markdown",
   "metadata": {},
   "source": [
    "**using find**"
   ]
  },
  {
   "cell_type": "code",
   "execution_count": 10,
   "metadata": {
    "collapsed": true
   },
   "outputs": [],
   "source": [
    "data = mongo_collection.find()"
   ]
  },
  {
   "cell_type": "code",
   "execution_count": 11,
   "metadata": {},
   "outputs": [
    {
     "data": {
      "text/plain": [
       "<pymongo.cursor.Cursor at 0x1aa500d1c18>"
      ]
     },
     "execution_count": 11,
     "metadata": {},
     "output_type": "execute_result"
    }
   ],
   "source": [
    "data"
   ]
  },
  {
   "cell_type": "code",
   "execution_count": 12,
   "metadata": {},
   "outputs": [
    {
     "name": "stdout",
     "output_type": "stream",
     "text": [
      "<class 'dict'>\n",
      "{'_id': ObjectId('5a1297c4aeea91055838099c'),\n",
      " 'comment': 'new comment',\n",
      " 'order': 2,\n",
      " 'title': 'also changed'}\n",
      "<class 'dict'>\n",
      "{'_id': ObjectId('5a1297c4aeea91055838099d'),\n",
      " 'comment': 'value3',\n",
      " 'order': 3,\n",
      " 'title': 'whoever'}\n",
      "<class 'dict'>\n",
      "{'_id': ObjectId('5a1a226baeea9118e02d64cc'),\n",
      " 'comment': 'insert by insert_many',\n",
      " 'order': 6,\n",
      " 'title': 'no matter'}\n",
      "<class 'dict'>\n",
      "{'_id': ObjectId('5a1a5a595b005df5c002db3c'),\n",
      " 'comment': 'insert by insert_many',\n",
      " 'order': 1,\n",
      " 'title': 'no matter'}\n",
      "<class 'dict'>\n",
      "{'_id': ObjectId('5a1a5a635b005df5c002db3f'),\n",
      " 'comment': 'insert by insert_many',\n",
      " 'order': 1,\n",
      " 'title': 'no matter what ????'}\n"
     ]
    }
   ],
   "source": [
    "for datum in data:\n",
    "    print(type(datum))\n",
    "    pprint(datum)"
   ]
  },
  {
   "cell_type": "markdown",
   "metadata": {},
   "source": [
    "---"
   ]
  },
  {
   "cell_type": "markdown",
   "metadata": {},
   "source": [
    "<a id=\"query\"></a>\n",
    "## Query"
   ]
  },
  {
   "cell_type": "code",
   "execution_count": 13,
   "metadata": {
    "collapsed": true
   },
   "outputs": [],
   "source": [
    "query = {\n",
    "    'order':2,\n",
    "}\n",
    "\n",
    "data = mongo_collection.find(query)"
   ]
  },
  {
   "cell_type": "code",
   "execution_count": 14,
   "metadata": {},
   "outputs": [
    {
     "data": {
      "text/plain": [
       "<pymongo.cursor.Cursor at 0x1aa500fd908>"
      ]
     },
     "execution_count": 14,
     "metadata": {},
     "output_type": "execute_result"
    }
   ],
   "source": [
    "data"
   ]
  },
  {
   "cell_type": "code",
   "execution_count": 15,
   "metadata": {},
   "outputs": [
    {
     "name": "stdout",
     "output_type": "stream",
     "text": [
      "<class 'dict'>\n",
      "{'_id': ObjectId('5a1297c4aeea91055838099c'),\n",
      " 'comment': 'new comment',\n",
      " 'order': 2,\n",
      " 'title': 'also changed'}\n"
     ]
    }
   ],
   "source": [
    "for datum in data:\n",
    "    print(type(datum))\n",
    "    pprint(datum)"
   ]
  },
  {
   "cell_type": "markdown",
   "metadata": {},
   "source": [
    "query with **multiple condition**"
   ]
  },
  {
   "cell_type": "code",
   "execution_count": 16,
   "metadata": {
    "collapsed": true
   },
   "outputs": [],
   "source": [
    "query = {\n",
    "    '$and':[\n",
    "        {'order':2},\n",
    "        {'title':'whenever'},\n",
    "    ]\n",
    "}\n",
    "\n",
    "data = mongo_collection.find_one(query)"
   ]
  },
  {
   "cell_type": "code",
   "execution_count": 17,
   "metadata": {},
   "outputs": [
    {
     "name": "stdout",
     "output_type": "stream",
     "text": [
      "None\n"
     ]
    }
   ],
   "source": [
    "pprint(data)"
   ]
  },
  {
   "cell_type": "markdown",
   "metadata": {},
   "source": [
    "query only **typical column**"
   ]
  },
  {
   "cell_type": "code",
   "execution_count": 18,
   "metadata": {
    "collapsed": true
   },
   "outputs": [],
   "source": [
    "query = {    \n",
    "    'order':2,\n",
    "}\n",
    "\n",
    "cols = {'order':1, 'comment':1}\n",
    "\n",
    "data = mongo_collection.find_one(query, cols)"
   ]
  },
  {
   "cell_type": "markdown",
   "metadata": {},
   "source": [
    "id pk field added by default"
   ]
  },
  {
   "cell_type": "code",
   "execution_count": 19,
   "metadata": {},
   "outputs": [
    {
     "name": "stdout",
     "output_type": "stream",
     "text": [
      "{'_id': ObjectId('5a1297c4aeea91055838099c'),\n",
      " 'comment': 'new comment',\n",
      " 'order': 2}\n"
     ]
    }
   ],
   "source": [
    "pprint(data)"
   ]
  },
  {
   "cell_type": "code",
   "execution_count": 20,
   "metadata": {
    "collapsed": true
   },
   "outputs": [],
   "source": [
    "query = {    \n",
    "    'order':2,\n",
    "}\n",
    "\n",
    "# force remove _id field\n",
    "cols = {\n",
    "    '_id':0,\n",
    "    'order':1, \n",
    "    'comment':1,\n",
    "}\n",
    "\n",
    "data = mongo_collection.find_one(query, cols)"
   ]
  },
  {
   "cell_type": "code",
   "execution_count": 21,
   "metadata": {},
   "outputs": [
    {
     "data": {
      "text/plain": [
       "{'comment': 'new comment', 'order': 2}"
      ]
     },
     "execution_count": 21,
     "metadata": {},
     "output_type": "execute_result"
    }
   ],
   "source": [
    "data"
   ]
  },
  {
   "cell_type": "markdown",
   "metadata": {},
   "source": [
    "---"
   ]
  },
  {
   "cell_type": "markdown",
   "metadata": {},
   "source": [
    "<a id=\"create\"></a>\n",
    "## Create"
   ]
  },
  {
   "cell_type": "markdown",
   "metadata": {},
   "source": [
    "Insert using **insert_one**"
   ]
  },
  {
   "cell_type": "code",
   "execution_count": 22,
   "metadata": {},
   "outputs": [
    {
     "data": {
      "text/plain": [
       "<pymongo.results.InsertOneResult at 0x1aa50107808>"
      ]
     },
     "execution_count": 22,
     "metadata": {},
     "output_type": "execute_result"
    }
   ],
   "source": [
    "document = {\n",
    "    'order':4,\n",
    "    'title':'no matter',\n",
    "    'comment':'insert by insert_one',\n",
    "}\n",
    "\n",
    "mongo_collection.insert_one(document)"
   ]
  },
  {
   "cell_type": "markdown",
   "metadata": {},
   "source": [
    "Bulk insert using **insert_many**"
   ]
  },
  {
   "cell_type": "code",
   "execution_count": 23,
   "metadata": {
    "collapsed": true
   },
   "outputs": [],
   "source": [
    "documents = [\n",
    "    {\n",
    "    'order':5,\n",
    "    'title':'no matter',\n",
    "    'comment':'insert by insert_many',\n",
    "    },\n",
    "    {\n",
    "    'order':6,\n",
    "    'title':'no matter',\n",
    "    'comment':'insert by insert_many',\n",
    "    },\n",
    "]"
   ]
  },
  {
   "cell_type": "code",
   "execution_count": 24,
   "metadata": {},
   "outputs": [
    {
     "data": {
      "text/plain": [
       "list"
      ]
     },
     "execution_count": 24,
     "metadata": {},
     "output_type": "execute_result"
    }
   ],
   "source": [
    "type(documents)"
   ]
  },
  {
   "cell_type": "code",
   "execution_count": 25,
   "metadata": {},
   "outputs": [
    {
     "data": {
      "text/plain": [
       "<pymongo.results.InsertManyResult at 0x1aa500da208>"
      ]
     },
     "execution_count": 25,
     "metadata": {},
     "output_type": "execute_result"
    }
   ],
   "source": [
    "mongo_collection.insert_many(documents)"
   ]
  },
  {
   "cell_type": "markdown",
   "metadata": {},
   "source": [
    "## Modify document"
   ]
  },
  {
   "cell_type": "code",
   "execution_count": 26,
   "metadata": {
    "collapsed": true
   },
   "outputs": [],
   "source": [
    "document = mongo_collection.find_one({'order':2})"
   ]
  },
  {
   "cell_type": "code",
   "execution_count": 27,
   "metadata": {},
   "outputs": [
    {
     "data": {
      "text/plain": [
       "{'_id': ObjectId('5a1297c4aeea91055838099c'),\n",
       " 'comment': 'new comment',\n",
       " 'order': 2,\n",
       " 'title': 'also changed'}"
      ]
     },
     "execution_count": 27,
     "metadata": {},
     "output_type": "execute_result"
    }
   ],
   "source": [
    "document"
   ]
  },
  {
   "cell_type": "markdown",
   "metadata": {},
   "source": [
    "only change **typical parts**"
   ]
  },
  {
   "cell_type": "code",
   "execution_count": 28,
   "metadata": {},
   "outputs": [
    {
     "name": "stderr",
     "output_type": "stream",
     "text": [
      "C:\\ProgramData\\Anaconda3\\lib\\site-packages\\ipykernel_launcher.py:4: DeprecationWarning: update is deprecated. Use replace_one, update_one or update_many instead.\n",
      "  after removing the cwd from sys.path.\n"
     ]
    },
    {
     "data": {
      "text/plain": [
       "{'n': 1, 'nModified': 0, 'ok': 1.0, 'updatedExisting': True}"
      ]
     },
     "execution_count": 28,
     "metadata": {},
     "output_type": "execute_result"
    }
   ],
   "source": [
    "mongo_collection.update(\n",
    "    {'order':2},\n",
    "    {'$set':\n",
    "        {'comment':'new comment', 'title': 'also changed'},        \n",
    "    },\n",
    ")"
   ]
  },
  {
   "cell_type": "markdown",
   "metadata": {},
   "source": [
    "**replace document**"
   ]
  },
  {
   "cell_type": "markdown",
   "metadata": {},
   "source": [
    "replace = {\n",
    "    'order':1.0,\n",
    "    'title':'new title',\n",
    "    'comment':'new comment',\n",
    "}\n",
    "\n",
    "mongo_collection.update(\n",
    "    {'order':1},\n",
    "    replace,\n",
    "    upsert=True,   # when upser=True, creates document when query result is None\n",
    ")"
   ]
  },
  {
   "cell_type": "markdown",
   "metadata": {},
   "source": [
    "---"
   ]
  },
  {
   "cell_type": "markdown",
   "metadata": {},
   "source": [
    "<a id=\"delete\"></a>\n",
    "# Delete"
   ]
  },
  {
   "cell_type": "markdown",
   "metadata": {},
   "source": [
    "using **delete_one**"
   ]
  },
  {
   "cell_type": "code",
   "execution_count": 30,
   "metadata": {},
   "outputs": [
    {
     "data": {
      "text/plain": [
       "<pymongo.results.DeleteResult at 0x1aa5010c108>"
      ]
     },
     "execution_count": 30,
     "metadata": {},
     "output_type": "execute_result"
    }
   ],
   "source": [
    "query = {\n",
    "    'order':1.1,\n",
    "}\n",
    "\n",
    "mongo_collection.delete_one(query)"
   ]
  },
  {
   "cell_type": "code",
   "execution_count": 31,
   "metadata": {},
   "outputs": [
    {
     "name": "stdout",
     "output_type": "stream",
     "text": [
      "{'_id': ObjectId('5a1297c4aeea91055838099c'),\n",
      " 'comment': 'new comment',\n",
      " 'order': 2,\n",
      " 'title': 'also changed'}\n",
      "{'_id': ObjectId('5a1297c4aeea91055838099d'),\n",
      " 'comment': 'value3',\n",
      " 'order': 3,\n",
      " 'title': 'whoever'}\n",
      "{'_id': ObjectId('5a1a226baeea9118e02d64cc'),\n",
      " 'comment': 'insert by insert_many',\n",
      " 'order': 6,\n",
      " 'title': 'no matter'}\n",
      "{'_id': ObjectId('5a1a5a595b005df5c002db3c'),\n",
      " 'comment': 'new comment',\n",
      " 'order': 1.0,\n",
      " 'title': 'new title'}\n",
      "{'_id': ObjectId('5a1a5a635b005df5c002db3f'),\n",
      " 'comment': 'insert by insert_many',\n",
      " 'order': 1,\n",
      " 'title': 'no matter what ????'}\n",
      "{'_id': ObjectId('5a1a9120aeea912a84277acf'),\n",
      " 'comment': 'insert by insert_one',\n",
      " 'order': 4,\n",
      " 'title': 'no matter'}\n",
      "{'_id': ObjectId('5a1a9120aeea912a84277ad0'),\n",
      " 'comment': 'insert by insert_many',\n",
      " 'order': 5,\n",
      " 'title': 'no matter'}\n",
      "{'_id': ObjectId('5a1a9120aeea912a84277ad1'),\n",
      " 'comment': 'insert by insert_many',\n",
      " 'order': 6,\n",
      " 'title': 'no matter'}\n"
     ]
    }
   ],
   "source": [
    "data = mongo_collection.find()\n",
    "\n",
    "for datum in data:\n",
    "    pprint(datum)"
   ]
  },
  {
   "cell_type": "markdown",
   "metadata": {},
   "source": [
    "using **delete_many**"
   ]
  },
  {
   "cell_type": "code",
   "execution_count": 32,
   "metadata": {},
   "outputs": [
    {
     "data": {
      "text/plain": [
       "<pymongo.results.DeleteResult at 0x1aa50107fc8>"
      ]
     },
     "execution_count": 32,
     "metadata": {},
     "output_type": "execute_result"
    }
   ],
   "source": [
    "query = {\n",
    "    '$and':[\n",
    "        {'order':{'$gte':4}},\n",
    "        {'order':{'$lte':5}},\n",
    "    ]\n",
    "}\n",
    "\n",
    "mongo_collection.delete_many(query)"
   ]
  },
  {
   "cell_type": "code",
   "execution_count": 33,
   "metadata": {},
   "outputs": [
    {
     "name": "stdout",
     "output_type": "stream",
     "text": [
      "{'_id': ObjectId('5a1297c4aeea91055838099c'),\n",
      " 'comment': 'new comment',\n",
      " 'order': 2,\n",
      " 'title': 'also changed'}\n",
      "{'_id': ObjectId('5a1297c4aeea91055838099d'),\n",
      " 'comment': 'value3',\n",
      " 'order': 3,\n",
      " 'title': 'whoever'}\n",
      "{'_id': ObjectId('5a1a226baeea9118e02d64cc'),\n",
      " 'comment': 'insert by insert_many',\n",
      " 'order': 6,\n",
      " 'title': 'no matter'}\n",
      "{'_id': ObjectId('5a1a5a595b005df5c002db3c'),\n",
      " 'comment': 'new comment',\n",
      " 'order': 1.0,\n",
      " 'title': 'new title'}\n",
      "{'_id': ObjectId('5a1a5a635b005df5c002db3f'),\n",
      " 'comment': 'insert by insert_many',\n",
      " 'order': 1,\n",
      " 'title': 'no matter what ????'}\n",
      "{'_id': ObjectId('5a1a9120aeea912a84277ad1'),\n",
      " 'comment': 'insert by insert_many',\n",
      " 'order': 6,\n",
      " 'title': 'no matter'}\n"
     ]
    }
   ],
   "source": [
    "data = mongo_collection.find()\n",
    "\n",
    "for datum in data:\n",
    "    pprint(datum)"
   ]
  },
  {
   "cell_type": "markdown",
   "metadata": {},
   "source": [
    "---"
   ]
  },
  {
   "cell_type": "markdown",
   "metadata": {},
   "source": [
    "<a id=\"count_collection\"></a>\n",
    "## Total Count of collections"
   ]
  },
  {
   "cell_type": "code",
   "execution_count": 34,
   "metadata": {},
   "outputs": [
    {
     "data": {
      "text/plain": [
       "6"
      ]
     },
     "execution_count": 34,
     "metadata": {},
     "output_type": "execute_result"
    }
   ],
   "source": [
    "mongo_collection.count()"
   ]
  },
  {
   "cell_type": "markdown",
   "metadata": {},
   "source": [
    "<a id=\"sort\"></a>\n",
    "## Sorting"
   ]
  },
  {
   "cell_type": "code",
   "execution_count": 35,
   "metadata": {
    "collapsed": true
   },
   "outputs": [],
   "source": [
    "data = mongo_collection.find().sort('order', pymongo.ASCENDING)"
   ]
  },
  {
   "cell_type": "code",
   "execution_count": 36,
   "metadata": {},
   "outputs": [
    {
     "name": "stdout",
     "output_type": "stream",
     "text": [
      "{'_id': ObjectId('5a1a5a595b005df5c002db3c'),\n",
      " 'comment': 'new comment',\n",
      " 'order': 1.0,\n",
      " 'title': 'new title'}\n",
      "{'_id': ObjectId('5a1a5a635b005df5c002db3f'),\n",
      " 'comment': 'insert by insert_many',\n",
      " 'order': 1,\n",
      " 'title': 'no matter what ????'}\n",
      "{'_id': ObjectId('5a1297c4aeea91055838099c'),\n",
      " 'comment': 'new comment',\n",
      " 'order': 2,\n",
      " 'title': 'also changed'}\n",
      "{'_id': ObjectId('5a1297c4aeea91055838099d'),\n",
      " 'comment': 'value3',\n",
      " 'order': 3,\n",
      " 'title': 'whoever'}\n",
      "{'_id': ObjectId('5a1a226baeea9118e02d64cc'),\n",
      " 'comment': 'insert by insert_many',\n",
      " 'order': 6,\n",
      " 'title': 'no matter'}\n",
      "{'_id': ObjectId('5a1a9120aeea912a84277ad1'),\n",
      " 'comment': 'insert by insert_many',\n",
      " 'order': 6,\n",
      " 'title': 'no matter'}\n"
     ]
    }
   ],
   "source": [
    "for datum in data:\n",
    "    pprint(datum)"
   ]
  },
  {
   "cell_type": "code",
   "execution_count": 37,
   "metadata": {
    "collapsed": true
   },
   "outputs": [],
   "source": [
    "data = mongo_collection.find().sort('order', pymongo.DESCENDING)"
   ]
  },
  {
   "cell_type": "code",
   "execution_count": 38,
   "metadata": {},
   "outputs": [
    {
     "name": "stdout",
     "output_type": "stream",
     "text": [
      "{'_id': ObjectId('5a1a9120aeea912a84277ad1'),\n",
      " 'comment': 'insert by insert_many',\n",
      " 'order': 6,\n",
      " 'title': 'no matter'}\n",
      "{'_id': ObjectId('5a1a226baeea9118e02d64cc'),\n",
      " 'comment': 'insert by insert_many',\n",
      " 'order': 6,\n",
      " 'title': 'no matter'}\n",
      "{'_id': ObjectId('5a1297c4aeea91055838099d'),\n",
      " 'comment': 'value3',\n",
      " 'order': 3,\n",
      " 'title': 'whoever'}\n",
      "{'_id': ObjectId('5a1297c4aeea91055838099c'),\n",
      " 'comment': 'new comment',\n",
      " 'order': 2,\n",
      " 'title': 'also changed'}\n",
      "{'_id': ObjectId('5a1a5a635b005df5c002db3f'),\n",
      " 'comment': 'insert by insert_many',\n",
      " 'order': 1,\n",
      " 'title': 'no matter what ????'}\n",
      "{'_id': ObjectId('5a1a5a595b005df5c002db3c'),\n",
      " 'comment': 'new comment',\n",
      " 'order': 1.0,\n",
      " 'title': 'new title'}\n"
     ]
    }
   ],
   "source": [
    "for datum in data:\n",
    "    pprint(datum)"
   ]
  },
  {
   "cell_type": "markdown",
   "metadata": {},
   "source": [
    "<a id=\"limit\"></a>\n",
    "## Limit"
   ]
  },
  {
   "cell_type": "code",
   "execution_count": 39,
   "metadata": {
    "collapsed": true
   },
   "outputs": [],
   "source": [
    "data = mongo_collection.find().sort('order', pymongo.DESCENDING).limit(3)"
   ]
  },
  {
   "cell_type": "code",
   "execution_count": 40,
   "metadata": {},
   "outputs": [
    {
     "name": "stdout",
     "output_type": "stream",
     "text": [
      "{'_id': ObjectId('5a1a9120aeea912a84277ad1'),\n",
      " 'comment': 'insert by insert_many',\n",
      " 'order': 6,\n",
      " 'title': 'no matter'}\n",
      "{'_id': ObjectId('5a1a226baeea9118e02d64cc'),\n",
      " 'comment': 'insert by insert_many',\n",
      " 'order': 6,\n",
      " 'title': 'no matter'}\n",
      "{'_id': ObjectId('5a1297c4aeea91055838099d'),\n",
      " 'comment': 'value3',\n",
      " 'order': 3,\n",
      " 'title': 'whoever'}\n"
     ]
    }
   ],
   "source": [
    "for datum in data:\n",
    "    pprint(datum)"
   ]
  },
  {
   "cell_type": "markdown",
   "metadata": {},
   "source": [
    "---"
   ]
  },
  {
   "cell_type": "markdown",
   "metadata": {},
   "source": [
    "<a id=\"index\"></a>\n",
    "# Indexing"
   ]
  },
  {
   "cell_type": "code",
   "execution_count": 41,
   "metadata": {},
   "outputs": [
    {
     "data": {
      "text/plain": [
       "{'_id_': {'key': [('_id', 1)], 'ns': 'test_db.node_sample', 'v': 2},\n",
       " 'order_1_title_1_comment_1': {'key': [('order', 1),\n",
       "   ('title', 1),\n",
       "   ('comment', 1)],\n",
       "  'ns': 'test_db.node_sample',\n",
       "  'v': 2}}"
      ]
     },
     "execution_count": 41,
     "metadata": {},
     "output_type": "execute_result"
    }
   ],
   "source": [
    "mongo_collection.index_information()"
   ]
  },
  {
   "cell_type": "markdown",
   "metadata": {},
   "source": [
    "### set Index of collection"
   ]
  },
  {
   "cell_type": "code",
   "execution_count": 42,
   "metadata": {
    "collapsed": true
   },
   "outputs": [],
   "source": [
    "result = mongo_collection.create_index(\n",
    "    [\n",
    "        ('order', pymongo.ASCENDING),\n",
    "        ('title', pymongo.ASCENDING),\n",
    "        ('comment', pymongo.ASCENDING),\n",
    "    ]\n",
    ")"
   ]
  },
  {
   "cell_type": "markdown",
   "metadata": {},
   "source": [
    "### get index information from collection"
   ]
  },
  {
   "cell_type": "code",
   "execution_count": 43,
   "metadata": {},
   "outputs": [
    {
     "name": "stdout",
     "output_type": "stream",
     "text": [
      "{'_id_': {'key': [('_id', 1)], 'ns': 'test_db.node_sample', 'v': 2},\n",
      " 'order_1_title_1_comment_1': {'key': [('order', 1),\n",
      "                                       ('title', 1),\n",
      "                                       ('comment', 1)],\n",
      "                               'ns': 'test_db.node_sample',\n",
      "                               'v': 2}}\n"
     ]
    }
   ],
   "source": [
    "pprint(mongo_collection.index_information())"
   ]
  },
  {
   "cell_type": "markdown",
   "metadata": {},
   "source": [
    "---"
   ]
  },
  {
   "cell_type": "markdown",
   "metadata": {},
   "source": [
    "<a id=\"basic_mapreduce\"></a>\n",
    "# Basic MapReduce"
   ]
  },
  {
   "cell_type": "code",
   "execution_count": 44,
   "metadata": {
    "collapsed": true
   },
   "outputs": [],
   "source": [
    "from bson.code import Code"
   ]
  },
  {
   "cell_type": "code",
   "execution_count": 45,
   "metadata": {
    "collapsed": true
   },
   "outputs": [],
   "source": [
    "map = Code(\"function () {\"\n",
    "           \"  this.order.forEach(function(z) {\"\n",
    "           \"    emit(z, 1);\"\n",
    "           \"  });\"\n",
    "           \"}\")"
   ]
  },
  {
   "cell_type": "code",
   "execution_count": 46,
   "metadata": {},
   "outputs": [
    {
     "data": {
      "text/plain": [
       "Code('function () {  this.order.forEach(function(z) {    emit(z, 1);  });}', None)"
      ]
     },
     "execution_count": 46,
     "metadata": {},
     "output_type": "execute_result"
    }
   ],
   "source": [
    "map"
   ]
  },
  {
   "cell_type": "code",
   "execution_count": 47,
   "metadata": {
    "collapsed": true
   },
   "outputs": [],
   "source": [
    "reduce = Code(\"function (key, values) {\"\n",
    "              \"  var total = 0;\"\n",
    "              \"  for (var i = 0; i < values.length; i++) {\"\n",
    "              \"    total += values[i];\"\n",
    "              \"  }\"\n",
    "              \"  return total;\"\n",
    "              \"}\")"
   ]
  },
  {
   "cell_type": "code",
   "execution_count": 48,
   "metadata": {},
   "outputs": [
    {
     "data": {
      "text/plain": [
       "Code('function (key, values) {  var total = 0;  for (var i = 0; i < values.length; i++) {    total += values[i];  }  return total;}', None)"
      ]
     },
     "execution_count": 48,
     "metadata": {},
     "output_type": "execute_result"
    }
   ],
   "source": [
    "reduce"
   ]
  },
  {
   "cell_type": "markdown",
   "metadata": {},
   "source": [
    "### mapreduce example on mongo shell"
   ]
  },
  {
   "cell_type": "code",
   "execution_count": 49,
   "metadata": {},
   "outputs": [
    {
     "data": {
      "text/plain": [
       "'\\nfunction map() {emit(this.order, this.comment)}\\nfunction reduce(key, value) { return value.join() }\\n\\ndb.node_sample.mapReduce(map, reduce, {out: {inline:1}});\\n'"
      ]
     },
     "execution_count": 49,
     "metadata": {},
     "output_type": "execute_result"
    }
   ],
   "source": [
    "\"\"\"\n",
    "function map() {emit(this.order, this.comment)}\n",
    "function reduce(key, value) { return value.join() }\n",
    "\n",
    "db.node_sample.mapReduce(map, reduce, {out: {inline:1}});\n",
    "\"\"\""
   ]
  },
  {
   "cell_type": "markdown",
   "metadata": {},
   "source": [
    "---"
   ]
  },
  {
   "cell_type": "markdown",
   "metadata": {
    "collapsed": true
   },
   "source": [
    "<a id=\"mongodb_cursor_to_df\"></a>\n",
    "# MongoDB cursor to pandas df"
   ]
  },
  {
   "cell_type": "code",
   "execution_count": 57,
   "metadata": {
    "collapsed": true
   },
   "outputs": [],
   "source": [
    "import pandas as pd"
   ]
  },
  {
   "cell_type": "code",
   "execution_count": 68,
   "metadata": {
    "collapsed": true
   },
   "outputs": [],
   "source": [
    "mongo_coll = mongo_collection.find()"
   ]
  },
  {
   "cell_type": "markdown",
   "metadata": {},
   "source": [
    "### mongodb cursor object to list of dictionary"
   ]
  },
  {
   "cell_type": "code",
   "execution_count": 69,
   "metadata": {
    "collapsed": true
   },
   "outputs": [],
   "source": [
    "mongo_coll_list = list(mongo_coll)"
   ]
  },
  {
   "cell_type": "code",
   "execution_count": 74,
   "metadata": {},
   "outputs": [
    {
     "data": {
      "text/plain": [
       "[{'_id': ObjectId('5a1297c4aeea91055838099c'),\n",
       "  'comment': 'new comment',\n",
       "  'order': 2,\n",
       "  'title': 'also changed'},\n",
       " {'_id': ObjectId('5a1297c4aeea91055838099d'),\n",
       "  'comment': 'value3',\n",
       "  'order': 3,\n",
       "  'title': 'whoever'},\n",
       " {'_id': ObjectId('5a1a226baeea9118e02d64cc'),\n",
       "  'comment': 'insert by insert_many',\n",
       "  'order': 6,\n",
       "  'title': 'no matter'}]"
      ]
     },
     "execution_count": 74,
     "metadata": {},
     "output_type": "execute_result"
    }
   ],
   "source": [
    "mongo_coll_list[:3]"
   ]
  },
  {
   "cell_type": "code",
   "execution_count": 71,
   "metadata": {
    "collapsed": true
   },
   "outputs": [],
   "source": [
    "df = pd.DataFrame(mongo_coll_list)"
   ]
  },
  {
   "cell_type": "code",
   "execution_count": 72,
   "metadata": {},
   "outputs": [
    {
     "data": {
      "text/html": [
       "<div>\n",
       "<style>\n",
       "    .dataframe thead tr:only-child th {\n",
       "        text-align: right;\n",
       "    }\n",
       "\n",
       "    .dataframe thead th {\n",
       "        text-align: left;\n",
       "    }\n",
       "\n",
       "    .dataframe tbody tr th {\n",
       "        vertical-align: top;\n",
       "    }\n",
       "</style>\n",
       "<table border=\"1\" class=\"dataframe\">\n",
       "  <thead>\n",
       "    <tr style=\"text-align: right;\">\n",
       "      <th></th>\n",
       "      <th>_id</th>\n",
       "      <th>comment</th>\n",
       "      <th>order</th>\n",
       "      <th>title</th>\n",
       "    </tr>\n",
       "  </thead>\n",
       "  <tbody>\n",
       "    <tr>\n",
       "      <th>0</th>\n",
       "      <td>5a1297c4aeea91055838099c</td>\n",
       "      <td>new comment</td>\n",
       "      <td>2.0</td>\n",
       "      <td>also changed</td>\n",
       "    </tr>\n",
       "    <tr>\n",
       "      <th>1</th>\n",
       "      <td>5a1297c4aeea91055838099d</td>\n",
       "      <td>value3</td>\n",
       "      <td>3.0</td>\n",
       "      <td>whoever</td>\n",
       "    </tr>\n",
       "    <tr>\n",
       "      <th>2</th>\n",
       "      <td>5a1a226baeea9118e02d64cc</td>\n",
       "      <td>insert by insert_many</td>\n",
       "      <td>6.0</td>\n",
       "      <td>no matter</td>\n",
       "    </tr>\n",
       "    <tr>\n",
       "      <th>3</th>\n",
       "      <td>5a1a5a595b005df5c002db3c</td>\n",
       "      <td>new comment</td>\n",
       "      <td>1.0</td>\n",
       "      <td>new title</td>\n",
       "    </tr>\n",
       "    <tr>\n",
       "      <th>4</th>\n",
       "      <td>5a1a5a635b005df5c002db3f</td>\n",
       "      <td>insert by insert_many</td>\n",
       "      <td>1.0</td>\n",
       "      <td>no matter what ????</td>\n",
       "    </tr>\n",
       "    <tr>\n",
       "      <th>5</th>\n",
       "      <td>5a1a9120aeea912a84277ad1</td>\n",
       "      <td>insert by insert_many</td>\n",
       "      <td>6.0</td>\n",
       "      <td>no matter</td>\n",
       "    </tr>\n",
       "  </tbody>\n",
       "</table>\n",
       "</div>"
      ],
      "text/plain": [
       "                        _id                comment  order                title\n",
       "0  5a1297c4aeea91055838099c            new comment    2.0         also changed\n",
       "1  5a1297c4aeea91055838099d                 value3    3.0              whoever\n",
       "2  5a1a226baeea9118e02d64cc  insert by insert_many    6.0            no matter\n",
       "3  5a1a5a595b005df5c002db3c            new comment    1.0            new title\n",
       "4  5a1a5a635b005df5c002db3f  insert by insert_many    1.0  no matter what ????\n",
       "5  5a1a9120aeea912a84277ad1  insert by insert_many    6.0            no matter"
      ]
     },
     "execution_count": 72,
     "metadata": {},
     "output_type": "execute_result"
    }
   ],
   "source": [
    "df"
   ]
  }
 ],
 "metadata": {
  "kernelspec": {
   "display_name": "Python 3",
   "language": "python",
   "name": "python3"
  },
  "language_info": {
   "codemirror_mode": {
    "name": "ipython",
    "version": 3
   },
   "file_extension": ".py",
   "mimetype": "text/x-python",
   "name": "python",
   "nbconvert_exporter": "python",
   "pygments_lexer": "ipython3",
   "version": "3.6.1"
  }
 },
 "nbformat": 4,
 "nbformat_minor": 2
}
