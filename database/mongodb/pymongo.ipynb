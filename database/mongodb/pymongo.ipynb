{
 "cells": [
  {
   "cell_type": "markdown",
   "metadata": {},
   "source": [
    "# pymongo"
   ]
  },
  {
   "cell_type": "markdown",
   "metadata": {},
   "source": [
    "## python binding for MongoDB\n",
    "<br>"
   ]
  },
  {
   "cell_type": "markdown",
   "metadata": {},
   "source": [
    "# Table of Contets"
   ]
  },
  {
   "cell_type": "markdown",
   "metadata": {},
   "source": [
    "### 1. **Connection**"
   ]
  },
  {
   "cell_type": "markdown",
   "metadata": {},
   "source": [
    "- [Run MongoDB Server](#run_server)\n",
    "- [Connect to MongoDB](#connection)"
   ]
  },
  {
   "cell_type": "markdown",
   "metadata": {},
   "source": [
    "### 2. Basic Usage"
   ]
  },
  {
   "cell_type": "markdown",
   "metadata": {},
   "source": [
    "- [Create](#create)\n",
    "- [Read](#read)\n",
    "- [Update](#update)\n",
    "- [Delete](#delete)"
   ]
  },
  {
   "cell_type": "markdown",
   "metadata": {},
   "source": [
    "### 3. Query"
   ]
  },
  {
   "cell_type": "markdown",
   "metadata": {},
   "source": [
    "- [Query](#query)\n",
    "- [Query by chunk](#query_by_chunk)"
   ]
  },
  {
   "cell_type": "markdown",
   "metadata": {},
   "source": [
    "### 4. Indexing"
   ]
  },
  {
   "cell_type": "markdown",
   "metadata": {},
   "source": [
    "- [Indexing](#index)"
   ]
  },
  {
   "cell_type": "markdown",
   "metadata": {},
   "source": [
    "### 5. Sorting & Limit"
   ]
  },
  {
   "cell_type": "markdown",
   "metadata": {},
   "source": [
    "- [Sorting](#sort)\n",
    "- [Limit](#limit)"
   ]
  },
  {
   "cell_type": "markdown",
   "metadata": {},
   "source": [
    "### 6. MapReduce"
   ]
  },
  {
   "cell_type": "markdown",
   "metadata": {},
   "source": [
    "- [Basic MapReduce](#basic_mapreduce)"
   ]
  },
  {
   "cell_type": "markdown",
   "metadata": {},
   "source": [
    "### 7. Working with Pandas"
   ]
  },
  {
   "cell_type": "markdown",
   "metadata": {},
   "source": [
    "- [MongoDB cursor to pandas df](#mongodb_cursor_to_df)"
   ]
  },
  {
   "cell_type": "markdown",
   "metadata": {},
   "source": [
    "### 8. ETC"
   ]
  },
  {
   "cell_type": "markdown",
   "metadata": {},
   "source": [
    "- [Total Count of collections](#count_collection)"
   ]
  },
  {
   "cell_type": "markdown",
   "metadata": {},
   "source": [
    "<br><br><br><br><br><br><br><br><br><br><br><br><br><br><br><br><br><br><br><br><br><br>"
   ]
  },
  {
   "cell_type": "markdown",
   "metadata": {},
   "source": [
    "---"
   ]
  },
  {
   "cell_type": "markdown",
   "metadata": {},
   "source": [
    "<a id=\"run_server\"></a>\n",
    "# Run MongoDB Server"
   ]
  },
  {
   "cell_type": "markdown",
   "metadata": {},
   "source": [
    "### run mongodb server command\n",
    "\"C:\\Program Files\\MongoDB\\Server\\3.4\\bin\\mongod.exe\" --dbpath \"C:\\Codes\\mongodb\""
   ]
  },
  {
   "cell_type": "code",
   "execution_count": 3,
   "metadata": {
    "collapsed": true
   },
   "outputs": [],
   "source": [
    "import pymongo\n",
    "from pymongo import MongoClient\n",
    "\n",
    "from pprint import pprint"
   ]
  },
  {
   "cell_type": "markdown",
   "metadata": {},
   "source": [
    "---"
   ]
  },
  {
   "cell_type": "markdown",
   "metadata": {},
   "source": [
    "<a id=\"connection\"></a>\n",
    "## Connect to MongoDB"
   ]
  },
  {
   "cell_type": "markdown",
   "metadata": {},
   "source": [
    "### Create Client"
   ]
  },
  {
   "cell_type": "code",
   "execution_count": 2,
   "metadata": {
    "collapsed": true
   },
   "outputs": [],
   "source": [
    "mongo_client = MongoClient('localhost',27017)"
   ]
  },
  {
   "cell_type": "code",
   "execution_count": 3,
   "metadata": {},
   "outputs": [
    {
     "data": {
      "text/plain": [
       "MongoClient(host=['localhost:27017'], document_class=dict, tz_aware=False, connect=True)"
      ]
     },
     "execution_count": 3,
     "metadata": {},
     "output_type": "execute_result"
    }
   ],
   "source": [
    "mongo_client"
   ]
  },
  {
   "cell_type": "markdown",
   "metadata": {},
   "source": [
    "### connect to DB"
   ]
  },
  {
   "cell_type": "code",
   "execution_count": 4,
   "metadata": {
    "collapsed": true
   },
   "outputs": [],
   "source": [
    "mongo_db = mongo_client['test_db']"
   ]
  },
  {
   "cell_type": "code",
   "execution_count": 5,
   "metadata": {},
   "outputs": [
    {
     "data": {
      "text/plain": [
       "Database(MongoClient(host=['localhost:27017'], document_class=dict, tz_aware=False, connect=True), 'test_db')"
      ]
     },
     "execution_count": 5,
     "metadata": {},
     "output_type": "execute_result"
    }
   ],
   "source": [
    "mongo_db"
   ]
  },
  {
   "cell_type": "markdown",
   "metadata": {},
   "source": [
    "### connect to collection"
   ]
  },
  {
   "cell_type": "code",
   "execution_count": 6,
   "metadata": {
    "collapsed": true
   },
   "outputs": [],
   "source": [
    "mongo_collection = mongo_db['node_sample']"
   ]
  },
  {
   "cell_type": "code",
   "execution_count": 7,
   "metadata": {},
   "outputs": [
    {
     "data": {
      "text/plain": [
       "Collection(Database(MongoClient(host=['localhost:27017'], document_class=dict, tz_aware=False, connect=True), 'test_db'), 'node_sample')"
      ]
     },
     "execution_count": 7,
     "metadata": {},
     "output_type": "execute_result"
    }
   ],
   "source": [
    "mongo_collection"
   ]
  },
  {
   "cell_type": "markdown",
   "metadata": {},
   "source": [
    "---"
   ]
  },
  {
   "cell_type": "markdown",
   "metadata": {},
   "source": [
    "<a id=\"read\"></a>\n",
    "## read collection data"
   ]
  },
  {
   "cell_type": "markdown",
   "metadata": {},
   "source": [
    "**using find_one**"
   ]
  },
  {
   "cell_type": "code",
   "execution_count": 8,
   "metadata": {
    "collapsed": true
   },
   "outputs": [],
   "source": [
    "data = mongo_collection.find_one()"
   ]
  },
  {
   "cell_type": "code",
   "execution_count": 9,
   "metadata": {},
   "outputs": [
    {
     "data": {
      "text/plain": [
       "{'_id': ObjectId('5a1297c4aeea91055838099c'),\n",
       " 'comment': 'new comment',\n",
       " 'order': 2,\n",
       " 'title': 'also changed'}"
      ]
     },
     "execution_count": 9,
     "metadata": {},
     "output_type": "execute_result"
    }
   ],
   "source": [
    "# return 1st document of collection\n",
    "data"
   ]
  },
  {
   "cell_type": "markdown",
   "metadata": {},
   "source": [
    "**using find**"
   ]
  },
  {
   "cell_type": "code",
   "execution_count": 10,
   "metadata": {
    "collapsed": true
   },
   "outputs": [],
   "source": [
    "data = mongo_collection.find()"
   ]
  },
  {
   "cell_type": "code",
   "execution_count": 11,
   "metadata": {},
   "outputs": [
    {
     "data": {
      "text/plain": [
       "<pymongo.cursor.Cursor at 0x1aa500d1c18>"
      ]
     },
     "execution_count": 11,
     "metadata": {},
     "output_type": "execute_result"
    }
   ],
   "source": [
    "data"
   ]
  },
  {
   "cell_type": "code",
   "execution_count": 12,
   "metadata": {},
   "outputs": [
    {
     "name": "stdout",
     "output_type": "stream",
     "text": [
      "<class 'dict'>\n",
      "{'_id': ObjectId('5a1297c4aeea91055838099c'),\n",
      " 'comment': 'new comment',\n",
      " 'order': 2,\n",
      " 'title': 'also changed'}\n",
      "<class 'dict'>\n",
      "{'_id': ObjectId('5a1297c4aeea91055838099d'),\n",
      " 'comment': 'value3',\n",
      " 'order': 3,\n",
      " 'title': 'whoever'}\n",
      "<class 'dict'>\n",
      "{'_id': ObjectId('5a1a226baeea9118e02d64cc'),\n",
      " 'comment': 'insert by insert_many',\n",
      " 'order': 6,\n",
      " 'title': 'no matter'}\n",
      "<class 'dict'>\n",
      "{'_id': ObjectId('5a1a5a595b005df5c002db3c'),\n",
      " 'comment': 'insert by insert_many',\n",
      " 'order': 1,\n",
      " 'title': 'no matter'}\n",
      "<class 'dict'>\n",
      "{'_id': ObjectId('5a1a5a635b005df5c002db3f'),\n",
      " 'comment': 'insert by insert_many',\n",
      " 'order': 1,\n",
      " 'title': 'no matter what ????'}\n"
     ]
    }
   ],
   "source": [
    "for datum in data:\n",
    "    print(type(datum))\n",
    "    pprint(datum)"
   ]
  },
  {
   "cell_type": "markdown",
   "metadata": {},
   "source": [
    "<br>"
   ]
  },
  {
   "cell_type": "markdown",
   "metadata": {},
   "source": [
    "---"
   ]
  },
  {
   "cell_type": "markdown",
   "metadata": {},
   "source": [
    "<a id=\"query\"></a>\n",
    "## Query"
   ]
  },
  {
   "cell_type": "code",
   "execution_count": 13,
   "metadata": {
    "collapsed": true
   },
   "outputs": [],
   "source": [
    "query = {\n",
    "    'order':2,\n",
    "}\n",
    "\n",
    "data = mongo_collection.find(query)"
   ]
  },
  {
   "cell_type": "code",
   "execution_count": 14,
   "metadata": {},
   "outputs": [
    {
     "data": {
      "text/plain": [
       "<pymongo.cursor.Cursor at 0x1aa500fd908>"
      ]
     },
     "execution_count": 14,
     "metadata": {},
     "output_type": "execute_result"
    }
   ],
   "source": [
    "data"
   ]
  },
  {
   "cell_type": "code",
   "execution_count": 15,
   "metadata": {},
   "outputs": [
    {
     "name": "stdout",
     "output_type": "stream",
     "text": [
      "<class 'dict'>\n",
      "{'_id': ObjectId('5a1297c4aeea91055838099c'),\n",
      " 'comment': 'new comment',\n",
      " 'order': 2,\n",
      " 'title': 'also changed'}\n"
     ]
    }
   ],
   "source": [
    "for datum in data:\n",
    "    print(type(datum))\n",
    "    pprint(datum)"
   ]
  },
  {
   "cell_type": "markdown",
   "metadata": {},
   "source": [
    "query with **multiple condition**"
   ]
  },
  {
   "cell_type": "code",
   "execution_count": 16,
   "metadata": {
    "collapsed": true
   },
   "outputs": [],
   "source": [
    "query = {\n",
    "    '$and':[\n",
    "        {'order':2},\n",
    "        {'title':'whenever'},\n",
    "    ]\n",
    "}\n",
    "\n",
    "data = mongo_collection.find_one(query)"
   ]
  },
  {
   "cell_type": "code",
   "execution_count": 17,
   "metadata": {},
   "outputs": [
    {
     "name": "stdout",
     "output_type": "stream",
     "text": [
      "None\n"
     ]
    }
   ],
   "source": [
    "pprint(data)"
   ]
  },
  {
   "cell_type": "markdown",
   "metadata": {},
   "source": [
    "query only **typical column**"
   ]
  },
  {
   "cell_type": "code",
   "execution_count": 18,
   "metadata": {
    "collapsed": true
   },
   "outputs": [],
   "source": [
    "query = {    \n",
    "    'order':2,\n",
    "}\n",
    "\n",
    "cols = {'order':1, 'comment':1}\n",
    "\n",
    "data = mongo_collection.find_one(query, cols)"
   ]
  },
  {
   "cell_type": "markdown",
   "metadata": {},
   "source": [
    "id pk field added by default"
   ]
  },
  {
   "cell_type": "code",
   "execution_count": 19,
   "metadata": {},
   "outputs": [
    {
     "name": "stdout",
     "output_type": "stream",
     "text": [
      "{'_id': ObjectId('5a1297c4aeea91055838099c'),\n",
      " 'comment': 'new comment',\n",
      " 'order': 2}\n"
     ]
    }
   ],
   "source": [
    "pprint(data)"
   ]
  },
  {
   "cell_type": "code",
   "execution_count": 20,
   "metadata": {
    "collapsed": true
   },
   "outputs": [],
   "source": [
    "query = {    \n",
    "    'order':2,\n",
    "}\n",
    "\n",
    "# force remove _id field\n",
    "cols = {\n",
    "    '_id':0,\n",
    "    'order':1, \n",
    "    'comment':1,\n",
    "}\n",
    "\n",
    "data = mongo_collection.find_one(query, cols)"
   ]
  },
  {
   "cell_type": "code",
   "execution_count": 21,
   "metadata": {},
   "outputs": [
    {
     "data": {
      "text/plain": [
       "{'comment': 'new comment', 'order': 2}"
      ]
     },
     "execution_count": 21,
     "metadata": {},
     "output_type": "execute_result"
    }
   ],
   "source": [
    "data"
   ]
  },
  {
   "cell_type": "markdown",
   "metadata": {},
   "source": [
    "<br>"
   ]
  },
  {
   "cell_type": "markdown",
   "metadata": {},
   "source": [
    "<a id=\"query_by_chunk\"></a>\n",
    "## Query by chunk"
   ]
  },
  {
   "cell_type": "markdown",
   "metadata": {},
   "source": [
    "using combination of **skip() + limit()**"
   ]
  },
  {
   "cell_type": "code",
   "execution_count": 18,
   "metadata": {
    "collapsed": true
   },
   "outputs": [],
   "source": [
    "start = 0\n",
    "step_interval = 2\n",
    "end = step_interval\n",
    "\n",
    "enum = 1"
   ]
  },
  {
   "cell_type": "code",
   "execution_count": 19,
   "metadata": {
    "collapsed": true
   },
   "outputs": [],
   "source": [
    "mongo = MongoClient('localhost',27017)['test_db']['big_data_index']"
   ]
  },
  {
   "cell_type": "code",
   "execution_count": 20,
   "metadata": {
    "scrolled": true
   },
   "outputs": [
    {
     "name": "stdout",
     "output_type": "stream",
     "text": [
      "{'No': 31536000,\n",
      " 'Time': '2017-12-31 23:59:59',\n",
      " 'col_0': 0.17535444493912622,\n",
      " 'col_1': 0.023900389414655776,\n",
      " 'col_10': 0.5668437195981174,\n",
      " 'col_11': 0.14182374093845063,\n",
      " 'col_12': 0.3796824075676285,\n",
      " 'col_13': 0.33529249901515745,\n",
      " 'col_14': 0.7793182214862404,\n",
      " 'col_15': 0.6408007165917582,\n",
      " 'col_16': 0.963622319989223,\n",
      " 'col_17': 0.9297589192851143,\n",
      " 'col_18': 0.8154544675775005,\n",
      " 'col_19': 0.21134385346424345,\n",
      " 'col_2': 0.8137742048343871,\n",
      " 'col_20': 0.7317017139511847,\n",
      " 'col_21': 0.6832452841176019,\n",
      " 'col_22': 0.317448697303793,\n",
      " 'col_23': 0.7234930452143844,\n",
      " 'col_24': 0.26457078013454727,\n",
      " 'col_25': 0.9735076507054384,\n",
      " 'col_26': 0.33505841686704263,\n",
      " 'col_27': 0.5135390685998092,\n",
      " 'col_28': 0.22630240664595724,\n",
      " 'col_29': 0.8991647360472262,\n",
      " 'col_3': 0.8590904842627859,\n",
      " 'col_30': 0.9675513548107982,\n",
      " 'col_31': 0.34082274613374997,\n",
      " 'col_32': 0.5125245421560821,\n",
      " 'col_33': 0.21402334015228952,\n",
      " 'col_34': 0.9524033238804928,\n",
      " 'col_35': 0.42844830941016776,\n",
      " 'col_36': 0.6985836846652496,\n",
      " 'col_37': 0.6176892131279633,\n",
      " 'col_38': 0.7918660089821172,\n",
      " 'col_39': 0.680367596215509,\n",
      " 'col_4': 0.5508703519940688,\n",
      " 'col_5': 0.3066271324448586,\n",
      " 'col_6': 0.25922170337789974,\n",
      " 'col_7': 0.03609655011596069,\n",
      " 'col_8': 0.9087711838675312,\n",
      " 'col_9': 0.028659498167377007}\n",
      "{'No': 31535999,\n",
      " 'Time': '2017-12-31 23:59:58',\n",
      " 'col_0': 0.37383244024561246,\n",
      " 'col_1': 0.42348382355712555,\n",
      " 'col_10': 0.38511589245902833,\n",
      " 'col_11': 0.7900729435223574,\n",
      " 'col_12': 0.7797723344739943,\n",
      " 'col_13': 0.7680408493187096,\n",
      " 'col_14': 0.06421151281018778,\n",
      " 'col_15': 0.36181274455468027,\n",
      " 'col_16': 0.3942944495411559,\n",
      " 'col_17': 0.6619023415951352,\n",
      " 'col_18': 0.02522772666360218,\n",
      " 'col_19': 0.9672987989735813,\n",
      " 'col_2': 0.009640796608533453,\n",
      " 'col_20': 0.420360950829356,\n",
      " 'col_21': 0.9798539955869934,\n",
      " 'col_22': 0.25589621426994513,\n",
      " 'col_23': 0.8944783570440642,\n",
      " 'col_24': 0.7410403559338169,\n",
      " 'col_25': 0.21065522637430334,\n",
      " 'col_26': 0.9886111173975884,\n",
      " 'col_27': 0.66345873331022,\n",
      " 'col_28': 0.3657108129929725,\n",
      " 'col_29': 0.3618827808793377,\n",
      " 'col_3': 0.7177652447499161,\n",
      " 'col_30': 0.6034802324904593,\n",
      " 'col_31': 0.8241377722969326,\n",
      " 'col_32': 0.34000431349893534,\n",
      " 'col_33': 0.056142723016677,\n",
      " 'col_34': 0.9744020165266504,\n",
      " 'col_35': 0.657390976573739,\n",
      " 'col_36': 0.47147503607067764,\n",
      " 'col_37': 0.8633898605619421,\n",
      " 'col_38': 0.4891747467651997,\n",
      " 'col_39': 0.8580393815090263,\n",
      " 'col_4': 0.11393578429741524,\n",
      " 'col_5': 0.35629124999754247,\n",
      " 'col_6': 0.37156413756503615,\n",
      " 'col_7': 0.9146040502429393,\n",
      " 'col_8': 0.9520495363812878,\n",
      " 'col_9': 0.7294957092855364}\n"
     ]
    }
   ],
   "source": [
    "for i in range(enum):\n",
    "    cursor = mongo.find({},{'_id':0}).sort('No', pymongo.DESCENDING)[start:end]\n",
    "\n",
    "    for cur in cursor:\n",
    "        pprint(cur)\n",
    "\n",
    "    start += step_interval\n",
    "    end += step_interval"
   ]
  },
  {
   "cell_type": "markdown",
   "metadata": {},
   "source": [
    "<br>"
   ]
  },
  {
   "cell_type": "markdown",
   "metadata": {},
   "source": [
    "---"
   ]
  },
  {
   "cell_type": "markdown",
   "metadata": {},
   "source": [
    "<a id=\"create\"></a>\n",
    "## Create"
   ]
  },
  {
   "cell_type": "markdown",
   "metadata": {},
   "source": [
    "Insert using **insert_one**"
   ]
  },
  {
   "cell_type": "code",
   "execution_count": 22,
   "metadata": {},
   "outputs": [
    {
     "data": {
      "text/plain": [
       "<pymongo.results.InsertOneResult at 0x1aa50107808>"
      ]
     },
     "execution_count": 22,
     "metadata": {},
     "output_type": "execute_result"
    }
   ],
   "source": [
    "document = {\n",
    "    'order':4,\n",
    "    'title':'no matter',\n",
    "    'comment':'insert by insert_one',\n",
    "}\n",
    "\n",
    "mongo_collection.insert_one(document)"
   ]
  },
  {
   "cell_type": "markdown",
   "metadata": {},
   "source": [
    "Bulk insert using **insert_many**"
   ]
  },
  {
   "cell_type": "code",
   "execution_count": 23,
   "metadata": {
    "collapsed": true
   },
   "outputs": [],
   "source": [
    "documents = [\n",
    "    {\n",
    "    'order':5,\n",
    "    'title':'no matter',\n",
    "    'comment':'insert by insert_many',\n",
    "    },\n",
    "    {\n",
    "    'order':6,\n",
    "    'title':'no matter',\n",
    "    'comment':'insert by insert_many',\n",
    "    },\n",
    "]"
   ]
  },
  {
   "cell_type": "code",
   "execution_count": 24,
   "metadata": {},
   "outputs": [
    {
     "data": {
      "text/plain": [
       "list"
      ]
     },
     "execution_count": 24,
     "metadata": {},
     "output_type": "execute_result"
    }
   ],
   "source": [
    "type(documents)"
   ]
  },
  {
   "cell_type": "code",
   "execution_count": 25,
   "metadata": {},
   "outputs": [
    {
     "data": {
      "text/plain": [
       "<pymongo.results.InsertManyResult at 0x1aa500da208>"
      ]
     },
     "execution_count": 25,
     "metadata": {},
     "output_type": "execute_result"
    }
   ],
   "source": [
    "mongo_collection.insert_many(documents)"
   ]
  },
  {
   "cell_type": "markdown",
   "metadata": {},
   "source": [
    "## Modify document"
   ]
  },
  {
   "cell_type": "code",
   "execution_count": 26,
   "metadata": {
    "collapsed": true
   },
   "outputs": [],
   "source": [
    "document = mongo_collection.find_one({'order':2})"
   ]
  },
  {
   "cell_type": "code",
   "execution_count": 27,
   "metadata": {},
   "outputs": [
    {
     "data": {
      "text/plain": [
       "{'_id': ObjectId('5a1297c4aeea91055838099c'),\n",
       " 'comment': 'new comment',\n",
       " 'order': 2,\n",
       " 'title': 'also changed'}"
      ]
     },
     "execution_count": 27,
     "metadata": {},
     "output_type": "execute_result"
    }
   ],
   "source": [
    "document"
   ]
  },
  {
   "cell_type": "markdown",
   "metadata": {},
   "source": [
    "only change **typical parts**"
   ]
  },
  {
   "cell_type": "code",
   "execution_count": 28,
   "metadata": {},
   "outputs": [
    {
     "name": "stderr",
     "output_type": "stream",
     "text": [
      "C:\\ProgramData\\Anaconda3\\lib\\site-packages\\ipykernel_launcher.py:4: DeprecationWarning: update is deprecated. Use replace_one, update_one or update_many instead.\n",
      "  after removing the cwd from sys.path.\n"
     ]
    },
    {
     "data": {
      "text/plain": [
       "{'n': 1, 'nModified': 0, 'ok': 1.0, 'updatedExisting': True}"
      ]
     },
     "execution_count": 28,
     "metadata": {},
     "output_type": "execute_result"
    }
   ],
   "source": [
    "mongo_collection.update(\n",
    "    {'order':2},\n",
    "    {'$set':\n",
    "        {'comment':'new comment', 'title': 'also changed'},        \n",
    "    },\n",
    ")"
   ]
  },
  {
   "cell_type": "markdown",
   "metadata": {},
   "source": [
    "**replace document**"
   ]
  },
  {
   "cell_type": "markdown",
   "metadata": {},
   "source": [
    "replace = {\n",
    "    'order':1.0,\n",
    "    'title':'new title',\n",
    "    'comment':'new comment',\n",
    "}\n",
    "\n",
    "mongo_collection.update(\n",
    "    {'order':1},\n",
    "    replace,\n",
    "    upsert=True,   # when upser=True, creates document when query result is None\n",
    ")"
   ]
  },
  {
   "cell_type": "markdown",
   "metadata": {},
   "source": [
    "---"
   ]
  },
  {
   "cell_type": "markdown",
   "metadata": {},
   "source": [
    "<a id=\"delete\"></a>\n",
    "# Delete"
   ]
  },
  {
   "cell_type": "markdown",
   "metadata": {},
   "source": [
    "using **delete_one**"
   ]
  },
  {
   "cell_type": "code",
   "execution_count": 30,
   "metadata": {},
   "outputs": [
    {
     "data": {
      "text/plain": [
       "<pymongo.results.DeleteResult at 0x1aa5010c108>"
      ]
     },
     "execution_count": 30,
     "metadata": {},
     "output_type": "execute_result"
    }
   ],
   "source": [
    "query = {\n",
    "    'order':1.1,\n",
    "}\n",
    "\n",
    "mongo_collection.delete_one(query)"
   ]
  },
  {
   "cell_type": "code",
   "execution_count": 31,
   "metadata": {},
   "outputs": [
    {
     "name": "stdout",
     "output_type": "stream",
     "text": [
      "{'_id': ObjectId('5a1297c4aeea91055838099c'),\n",
      " 'comment': 'new comment',\n",
      " 'order': 2,\n",
      " 'title': 'also changed'}\n",
      "{'_id': ObjectId('5a1297c4aeea91055838099d'),\n",
      " 'comment': 'value3',\n",
      " 'order': 3,\n",
      " 'title': 'whoever'}\n",
      "{'_id': ObjectId('5a1a226baeea9118e02d64cc'),\n",
      " 'comment': 'insert by insert_many',\n",
      " 'order': 6,\n",
      " 'title': 'no matter'}\n",
      "{'_id': ObjectId('5a1a5a595b005df5c002db3c'),\n",
      " 'comment': 'new comment',\n",
      " 'order': 1.0,\n",
      " 'title': 'new title'}\n",
      "{'_id': ObjectId('5a1a5a635b005df5c002db3f'),\n",
      " 'comment': 'insert by insert_many',\n",
      " 'order': 1,\n",
      " 'title': 'no matter what ????'}\n",
      "{'_id': ObjectId('5a1a9120aeea912a84277acf'),\n",
      " 'comment': 'insert by insert_one',\n",
      " 'order': 4,\n",
      " 'title': 'no matter'}\n",
      "{'_id': ObjectId('5a1a9120aeea912a84277ad0'),\n",
      " 'comment': 'insert by insert_many',\n",
      " 'order': 5,\n",
      " 'title': 'no matter'}\n",
      "{'_id': ObjectId('5a1a9120aeea912a84277ad1'),\n",
      " 'comment': 'insert by insert_many',\n",
      " 'order': 6,\n",
      " 'title': 'no matter'}\n"
     ]
    }
   ],
   "source": [
    "data = mongo_collection.find()\n",
    "\n",
    "for datum in data:\n",
    "    pprint(datum)"
   ]
  },
  {
   "cell_type": "markdown",
   "metadata": {},
   "source": [
    "using **delete_many**"
   ]
  },
  {
   "cell_type": "code",
   "execution_count": 32,
   "metadata": {},
   "outputs": [
    {
     "data": {
      "text/plain": [
       "<pymongo.results.DeleteResult at 0x1aa50107fc8>"
      ]
     },
     "execution_count": 32,
     "metadata": {},
     "output_type": "execute_result"
    }
   ],
   "source": [
    "query = {\n",
    "    '$and':[\n",
    "        {'order':{'$gte':4}},\n",
    "        {'order':{'$lte':5}},\n",
    "    ]\n",
    "}\n",
    "\n",
    "mongo_collection.delete_many(query)"
   ]
  },
  {
   "cell_type": "code",
   "execution_count": 33,
   "metadata": {},
   "outputs": [
    {
     "name": "stdout",
     "output_type": "stream",
     "text": [
      "{'_id': ObjectId('5a1297c4aeea91055838099c'),\n",
      " 'comment': 'new comment',\n",
      " 'order': 2,\n",
      " 'title': 'also changed'}\n",
      "{'_id': ObjectId('5a1297c4aeea91055838099d'),\n",
      " 'comment': 'value3',\n",
      " 'order': 3,\n",
      " 'title': 'whoever'}\n",
      "{'_id': ObjectId('5a1a226baeea9118e02d64cc'),\n",
      " 'comment': 'insert by insert_many',\n",
      " 'order': 6,\n",
      " 'title': 'no matter'}\n",
      "{'_id': ObjectId('5a1a5a595b005df5c002db3c'),\n",
      " 'comment': 'new comment',\n",
      " 'order': 1.0,\n",
      " 'title': 'new title'}\n",
      "{'_id': ObjectId('5a1a5a635b005df5c002db3f'),\n",
      " 'comment': 'insert by insert_many',\n",
      " 'order': 1,\n",
      " 'title': 'no matter what ????'}\n",
      "{'_id': ObjectId('5a1a9120aeea912a84277ad1'),\n",
      " 'comment': 'insert by insert_many',\n",
      " 'order': 6,\n",
      " 'title': 'no matter'}\n"
     ]
    }
   ],
   "source": [
    "data = mongo_collection.find()\n",
    "\n",
    "for datum in data:\n",
    "    pprint(datum)"
   ]
  },
  {
   "cell_type": "markdown",
   "metadata": {},
   "source": [
    "---"
   ]
  },
  {
   "cell_type": "markdown",
   "metadata": {},
   "source": [
    "<a id=\"count_collection\"></a>\n",
    "## Total Count of collections"
   ]
  },
  {
   "cell_type": "code",
   "execution_count": 34,
   "metadata": {},
   "outputs": [
    {
     "data": {
      "text/plain": [
       "6"
      ]
     },
     "execution_count": 34,
     "metadata": {},
     "output_type": "execute_result"
    }
   ],
   "source": [
    "mongo_collection.count()"
   ]
  },
  {
   "cell_type": "markdown",
   "metadata": {},
   "source": [
    "<a id=\"sort\"></a>\n",
    "## Sorting"
   ]
  },
  {
   "cell_type": "code",
   "execution_count": 35,
   "metadata": {
    "collapsed": true
   },
   "outputs": [],
   "source": [
    "data = mongo_collection.find().sort('order', pymongo.ASCENDING)"
   ]
  },
  {
   "cell_type": "code",
   "execution_count": 36,
   "metadata": {},
   "outputs": [
    {
     "name": "stdout",
     "output_type": "stream",
     "text": [
      "{'_id': ObjectId('5a1a5a595b005df5c002db3c'),\n",
      " 'comment': 'new comment',\n",
      " 'order': 1.0,\n",
      " 'title': 'new title'}\n",
      "{'_id': ObjectId('5a1a5a635b005df5c002db3f'),\n",
      " 'comment': 'insert by insert_many',\n",
      " 'order': 1,\n",
      " 'title': 'no matter what ????'}\n",
      "{'_id': ObjectId('5a1297c4aeea91055838099c'),\n",
      " 'comment': 'new comment',\n",
      " 'order': 2,\n",
      " 'title': 'also changed'}\n",
      "{'_id': ObjectId('5a1297c4aeea91055838099d'),\n",
      " 'comment': 'value3',\n",
      " 'order': 3,\n",
      " 'title': 'whoever'}\n",
      "{'_id': ObjectId('5a1a226baeea9118e02d64cc'),\n",
      " 'comment': 'insert by insert_many',\n",
      " 'order': 6,\n",
      " 'title': 'no matter'}\n",
      "{'_id': ObjectId('5a1a9120aeea912a84277ad1'),\n",
      " 'comment': 'insert by insert_many',\n",
      " 'order': 6,\n",
      " 'title': 'no matter'}\n"
     ]
    }
   ],
   "source": [
    "for datum in data:\n",
    "    pprint(datum)"
   ]
  },
  {
   "cell_type": "code",
   "execution_count": 37,
   "metadata": {
    "collapsed": true
   },
   "outputs": [],
   "source": [
    "data = mongo_collection.find().sort('order', pymongo.DESCENDING)"
   ]
  },
  {
   "cell_type": "code",
   "execution_count": 38,
   "metadata": {},
   "outputs": [
    {
     "name": "stdout",
     "output_type": "stream",
     "text": [
      "{'_id': ObjectId('5a1a9120aeea912a84277ad1'),\n",
      " 'comment': 'insert by insert_many',\n",
      " 'order': 6,\n",
      " 'title': 'no matter'}\n",
      "{'_id': ObjectId('5a1a226baeea9118e02d64cc'),\n",
      " 'comment': 'insert by insert_many',\n",
      " 'order': 6,\n",
      " 'title': 'no matter'}\n",
      "{'_id': ObjectId('5a1297c4aeea91055838099d'),\n",
      " 'comment': 'value3',\n",
      " 'order': 3,\n",
      " 'title': 'whoever'}\n",
      "{'_id': ObjectId('5a1297c4aeea91055838099c'),\n",
      " 'comment': 'new comment',\n",
      " 'order': 2,\n",
      " 'title': 'also changed'}\n",
      "{'_id': ObjectId('5a1a5a635b005df5c002db3f'),\n",
      " 'comment': 'insert by insert_many',\n",
      " 'order': 1,\n",
      " 'title': 'no matter what ????'}\n",
      "{'_id': ObjectId('5a1a5a595b005df5c002db3c'),\n",
      " 'comment': 'new comment',\n",
      " 'order': 1.0,\n",
      " 'title': 'new title'}\n"
     ]
    }
   ],
   "source": [
    "for datum in data:\n",
    "    pprint(datum)"
   ]
  },
  {
   "cell_type": "markdown",
   "metadata": {},
   "source": [
    "<a id=\"limit\"></a>\n",
    "## Limit"
   ]
  },
  {
   "cell_type": "code",
   "execution_count": 39,
   "metadata": {
    "collapsed": true
   },
   "outputs": [],
   "source": [
    "data = mongo_collection.find().sort('order', pymongo.DESCENDING).limit(3)"
   ]
  },
  {
   "cell_type": "code",
   "execution_count": 40,
   "metadata": {},
   "outputs": [
    {
     "name": "stdout",
     "output_type": "stream",
     "text": [
      "{'_id': ObjectId('5a1a9120aeea912a84277ad1'),\n",
      " 'comment': 'insert by insert_many',\n",
      " 'order': 6,\n",
      " 'title': 'no matter'}\n",
      "{'_id': ObjectId('5a1a226baeea9118e02d64cc'),\n",
      " 'comment': 'insert by insert_many',\n",
      " 'order': 6,\n",
      " 'title': 'no matter'}\n",
      "{'_id': ObjectId('5a1297c4aeea91055838099d'),\n",
      " 'comment': 'value3',\n",
      " 'order': 3,\n",
      " 'title': 'whoever'}\n"
     ]
    }
   ],
   "source": [
    "for datum in data:\n",
    "    pprint(datum)"
   ]
  },
  {
   "cell_type": "markdown",
   "metadata": {},
   "source": [
    "---"
   ]
  },
  {
   "cell_type": "markdown",
   "metadata": {},
   "source": [
    "<a id=\"index\"></a>\n",
    "# Indexing"
   ]
  },
  {
   "cell_type": "code",
   "execution_count": 41,
   "metadata": {},
   "outputs": [
    {
     "data": {
      "text/plain": [
       "{'_id_': {'key': [('_id', 1)], 'ns': 'test_db.node_sample', 'v': 2},\n",
       " 'order_1_title_1_comment_1': {'key': [('order', 1),\n",
       "   ('title', 1),\n",
       "   ('comment', 1)],\n",
       "  'ns': 'test_db.node_sample',\n",
       "  'v': 2}}"
      ]
     },
     "execution_count": 41,
     "metadata": {},
     "output_type": "execute_result"
    }
   ],
   "source": [
    "mongo_collection.index_information()"
   ]
  },
  {
   "cell_type": "markdown",
   "metadata": {},
   "source": [
    "### set Index of collection"
   ]
  },
  {
   "cell_type": "code",
   "execution_count": 42,
   "metadata": {
    "collapsed": true
   },
   "outputs": [],
   "source": [
    "result = mongo_collection.create_index(\n",
    "    [\n",
    "        ('order', pymongo.ASCENDING),\n",
    "        ('title', pymongo.ASCENDING),\n",
    "        ('comment', pymongo.ASCENDING),\n",
    "    ]\n",
    ")"
   ]
  },
  {
   "cell_type": "markdown",
   "metadata": {},
   "source": [
    "### get index information from collection"
   ]
  },
  {
   "cell_type": "code",
   "execution_count": 43,
   "metadata": {},
   "outputs": [
    {
     "name": "stdout",
     "output_type": "stream",
     "text": [
      "{'_id_': {'key': [('_id', 1)], 'ns': 'test_db.node_sample', 'v': 2},\n",
      " 'order_1_title_1_comment_1': {'key': [('order', 1),\n",
      "                                       ('title', 1),\n",
      "                                       ('comment', 1)],\n",
      "                               'ns': 'test_db.node_sample',\n",
      "                               'v': 2}}\n"
     ]
    }
   ],
   "source": [
    "pprint(mongo_collection.index_information())"
   ]
  },
  {
   "cell_type": "markdown",
   "metadata": {},
   "source": [
    "---"
   ]
  },
  {
   "cell_type": "markdown",
   "metadata": {},
   "source": [
    "<a id=\"basic_mapreduce\"></a>\n",
    "# Basic MapReduce"
   ]
  },
  {
   "cell_type": "code",
   "execution_count": 44,
   "metadata": {
    "collapsed": true
   },
   "outputs": [],
   "source": [
    "from bson.code import Code"
   ]
  },
  {
   "cell_type": "code",
   "execution_count": 45,
   "metadata": {
    "collapsed": true
   },
   "outputs": [],
   "source": [
    "map = Code(\"function () {\"\n",
    "           \"  this.order.forEach(function(z) {\"\n",
    "           \"    emit(z, 1);\"\n",
    "           \"  });\"\n",
    "           \"}\")"
   ]
  },
  {
   "cell_type": "code",
   "execution_count": 46,
   "metadata": {},
   "outputs": [
    {
     "data": {
      "text/plain": [
       "Code('function () {  this.order.forEach(function(z) {    emit(z, 1);  });}', None)"
      ]
     },
     "execution_count": 46,
     "metadata": {},
     "output_type": "execute_result"
    }
   ],
   "source": [
    "map"
   ]
  },
  {
   "cell_type": "code",
   "execution_count": 47,
   "metadata": {
    "collapsed": true
   },
   "outputs": [],
   "source": [
    "reduce = Code(\"function (key, values) {\"\n",
    "              \"  var total = 0;\"\n",
    "              \"  for (var i = 0; i < values.length; i++) {\"\n",
    "              \"    total += values[i];\"\n",
    "              \"  }\"\n",
    "              \"  return total;\"\n",
    "              \"}\")"
   ]
  },
  {
   "cell_type": "code",
   "execution_count": 48,
   "metadata": {},
   "outputs": [
    {
     "data": {
      "text/plain": [
       "Code('function (key, values) {  var total = 0;  for (var i = 0; i < values.length; i++) {    total += values[i];  }  return total;}', None)"
      ]
     },
     "execution_count": 48,
     "metadata": {},
     "output_type": "execute_result"
    }
   ],
   "source": [
    "reduce"
   ]
  },
  {
   "cell_type": "markdown",
   "metadata": {},
   "source": [
    "### mapreduce example on mongo shell"
   ]
  },
  {
   "cell_type": "code",
   "execution_count": 49,
   "metadata": {},
   "outputs": [
    {
     "data": {
      "text/plain": [
       "'\\nfunction map() {emit(this.order, this.comment)}\\nfunction reduce(key, value) { return value.join() }\\n\\ndb.node_sample.mapReduce(map, reduce, {out: {inline:1}});\\n'"
      ]
     },
     "execution_count": 49,
     "metadata": {},
     "output_type": "execute_result"
    }
   ],
   "source": [
    "\"\"\"\n",
    "function map() {emit(this.order, this.comment)}\n",
    "function reduce(key, value) { return value.join() }\n",
    "\n",
    "db.node_sample.mapReduce(map, reduce, {out: {inline:1}});\n",
    "\"\"\""
   ]
  },
  {
   "cell_type": "markdown",
   "metadata": {},
   "source": [
    "---"
   ]
  },
  {
   "cell_type": "markdown",
   "metadata": {
    "collapsed": true
   },
   "source": [
    "<a id=\"mongodb_cursor_to_df\"></a>\n",
    "# MongoDB cursor to pandas df"
   ]
  },
  {
   "cell_type": "code",
   "execution_count": 57,
   "metadata": {
    "collapsed": true
   },
   "outputs": [],
   "source": [
    "import pandas as pd"
   ]
  },
  {
   "cell_type": "code",
   "execution_count": 68,
   "metadata": {
    "collapsed": true
   },
   "outputs": [],
   "source": [
    "mongo_coll = mongo_collection.find()"
   ]
  },
  {
   "cell_type": "markdown",
   "metadata": {},
   "source": [
    "### mongodb cursor object to list of dictionary"
   ]
  },
  {
   "cell_type": "code",
   "execution_count": 69,
   "metadata": {
    "collapsed": true
   },
   "outputs": [],
   "source": [
    "mongo_coll_list = list(mongo_coll)"
   ]
  },
  {
   "cell_type": "code",
   "execution_count": 74,
   "metadata": {},
   "outputs": [
    {
     "data": {
      "text/plain": [
       "[{'_id': ObjectId('5a1297c4aeea91055838099c'),\n",
       "  'comment': 'new comment',\n",
       "  'order': 2,\n",
       "  'title': 'also changed'},\n",
       " {'_id': ObjectId('5a1297c4aeea91055838099d'),\n",
       "  'comment': 'value3',\n",
       "  'order': 3,\n",
       "  'title': 'whoever'},\n",
       " {'_id': ObjectId('5a1a226baeea9118e02d64cc'),\n",
       "  'comment': 'insert by insert_many',\n",
       "  'order': 6,\n",
       "  'title': 'no matter'}]"
      ]
     },
     "execution_count": 74,
     "metadata": {},
     "output_type": "execute_result"
    }
   ],
   "source": [
    "mongo_coll_list[:3]"
   ]
  },
  {
   "cell_type": "code",
   "execution_count": 71,
   "metadata": {
    "collapsed": true
   },
   "outputs": [],
   "source": [
    "df = pd.DataFrame(mongo_coll_list)"
   ]
  },
  {
   "cell_type": "code",
   "execution_count": 72,
   "metadata": {},
   "outputs": [
    {
     "data": {
      "text/html": [
       "<div>\n",
       "<style>\n",
       "    .dataframe thead tr:only-child th {\n",
       "        text-align: right;\n",
       "    }\n",
       "\n",
       "    .dataframe thead th {\n",
       "        text-align: left;\n",
       "    }\n",
       "\n",
       "    .dataframe tbody tr th {\n",
       "        vertical-align: top;\n",
       "    }\n",
       "</style>\n",
       "<table border=\"1\" class=\"dataframe\">\n",
       "  <thead>\n",
       "    <tr style=\"text-align: right;\">\n",
       "      <th></th>\n",
       "      <th>_id</th>\n",
       "      <th>comment</th>\n",
       "      <th>order</th>\n",
       "      <th>title</th>\n",
       "    </tr>\n",
       "  </thead>\n",
       "  <tbody>\n",
       "    <tr>\n",
       "      <th>0</th>\n",
       "      <td>5a1297c4aeea91055838099c</td>\n",
       "      <td>new comment</td>\n",
       "      <td>2.0</td>\n",
       "      <td>also changed</td>\n",
       "    </tr>\n",
       "    <tr>\n",
       "      <th>1</th>\n",
       "      <td>5a1297c4aeea91055838099d</td>\n",
       "      <td>value3</td>\n",
       "      <td>3.0</td>\n",
       "      <td>whoever</td>\n",
       "    </tr>\n",
       "    <tr>\n",
       "      <th>2</th>\n",
       "      <td>5a1a226baeea9118e02d64cc</td>\n",
       "      <td>insert by insert_many</td>\n",
       "      <td>6.0</td>\n",
       "      <td>no matter</td>\n",
       "    </tr>\n",
       "    <tr>\n",
       "      <th>3</th>\n",
       "      <td>5a1a5a595b005df5c002db3c</td>\n",
       "      <td>new comment</td>\n",
       "      <td>1.0</td>\n",
       "      <td>new title</td>\n",
       "    </tr>\n",
       "    <tr>\n",
       "      <th>4</th>\n",
       "      <td>5a1a5a635b005df5c002db3f</td>\n",
       "      <td>insert by insert_many</td>\n",
       "      <td>1.0</td>\n",
       "      <td>no matter what ????</td>\n",
       "    </tr>\n",
       "    <tr>\n",
       "      <th>5</th>\n",
       "      <td>5a1a9120aeea912a84277ad1</td>\n",
       "      <td>insert by insert_many</td>\n",
       "      <td>6.0</td>\n",
       "      <td>no matter</td>\n",
       "    </tr>\n",
       "  </tbody>\n",
       "</table>\n",
       "</div>"
      ],
      "text/plain": [
       "                        _id                comment  order                title\n",
       "0  5a1297c4aeea91055838099c            new comment    2.0         also changed\n",
       "1  5a1297c4aeea91055838099d                 value3    3.0              whoever\n",
       "2  5a1a226baeea9118e02d64cc  insert by insert_many    6.0            no matter\n",
       "3  5a1a5a595b005df5c002db3c            new comment    1.0            new title\n",
       "4  5a1a5a635b005df5c002db3f  insert by insert_many    1.0  no matter what ????\n",
       "5  5a1a9120aeea912a84277ad1  insert by insert_many    6.0            no matter"
      ]
     },
     "execution_count": 72,
     "metadata": {},
     "output_type": "execute_result"
    }
   ],
   "source": [
    "df"
   ]
  }
 ],
 "metadata": {
  "kernelspec": {
   "display_name": "Python 3",
   "language": "python",
   "name": "python3"
  },
  "language_info": {
   "codemirror_mode": {
    "name": "ipython",
    "version": 3
   },
   "file_extension": ".py",
   "mimetype": "text/x-python",
   "name": "python",
   "nbconvert_exporter": "python",
   "pygments_lexer": "ipython3",
   "version": "3.6.1"
  }
 },
 "nbformat": 4,
 "nbformat_minor": 2
}
