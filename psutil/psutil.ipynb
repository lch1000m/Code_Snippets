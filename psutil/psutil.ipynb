{
 "cells": [
  {
   "cell_type": "markdown",
   "metadata": {},
   "source": [
    "# psutil\n",
    "# python system utiltiy"
   ]
  },
  {
   "cell_type": "code",
   "execution_count": 35,
   "metadata": {
    "collapsed": true
   },
   "outputs": [],
   "source": [
    "import psutil, time, os"
   ]
  },
  {
   "cell_type": "markdown",
   "metadata": {},
   "source": [
    "# disk usage"
   ]
  },
  {
   "cell_type": "code",
   "execution_count": 2,
   "metadata": {
    "collapsed": true
   },
   "outputs": [],
   "source": [
    "path = 'C:'\n",
    "\n",
    "disk_info = psutil.disk_usage(path)"
   ]
  },
  {
   "cell_type": "code",
   "execution_count": 3,
   "metadata": {},
   "outputs": [
    {
     "data": {
      "text/plain": [
       "sdiskusage(total=249532772352, used=91502129152, free=158030643200, percent=36.7)"
      ]
     },
     "execution_count": 3,
     "metadata": {},
     "output_type": "execute_result"
    }
   ],
   "source": [
    "disk_info"
   ]
  },
  {
   "cell_type": "markdown",
   "metadata": {},
   "source": [
    "# process information"
   ]
  },
  {
   "cell_type": "code",
   "execution_count": 27,
   "metadata": {
    "collapsed": true
   },
   "outputs": [],
   "source": [
    "proc_iter = psutil.process_iter()"
   ]
  },
  {
   "cell_type": "code",
   "execution_count": 28,
   "metadata": {},
   "outputs": [
    {
     "data": {
      "text/plain": [
       "<generator object process_iter at 0x000002945FC0C200>"
      ]
     },
     "execution_count": 28,
     "metadata": {},
     "output_type": "execute_result"
    }
   ],
   "source": [
    "proc_iter"
   ]
  },
  {
   "cell_type": "code",
   "execution_count": 29,
   "metadata": {},
   "outputs": [
    {
     "name": "stdout",
     "output_type": "stream",
     "text": [
      "0 - System Idle Process <bound method Process.cmdline of <psutil.Process(pid=0, name='System Idle Process') at 2836284452536>>\n",
      "4 - System <bound method Process.cmdline of <psutil.Process(pid=4, name='System') at 2836284451752>>\n",
      "152 - svchost.exe <bound method Process.cmdline of <psutil.Process(pid=152, name='svchost.exe') at 2836284663232>>\n",
      "476 - smss.exe <bound method Process.cmdline of <psutil.Process(pid=476, name='smss.exe') at 2836284663456>>\n",
      "684 - csrss.exe <bound method Process.cmdline of <psutil.Process(pid=684, name='csrss.exe') at 2836284663848>>\n",
      "716 - ConEmu64.exe <bound method Process.cmdline of <psutil.Process(pid=716, name='ConEmu64.exe') at 2836284664240>>\n",
      "780 - wininit.exe <bound method Process.cmdline of <psutil.Process(pid=780, name='wininit.exe') at 2836284664688>>\n",
      "792 - svchost.exe <bound method Process.cmdline of <psutil.Process(pid=792, name='svchost.exe') at 2836284665080>>\n",
      "852 - services.exe <bound method Process.cmdline of <psutil.Process(pid=852, name='services.exe') at 2836284665472>>\n",
      "860 - lsass.exe <bound method Process.cmdline of <psutil.Process(pid=860, name='lsass.exe') at 2836284674120>>\n",
      "960 - svchost.exe <bound method Process.cmdline of <psutil.Process(pid=960, name='svchost.exe') at 2836284674456>>\n",
      "1068 - svchost.exe <bound method Process.cmdline of <psutil.Process(pid=1068, name='svchost.exe') at 2836284674848>>\n",
      "1124 - svchost.exe <bound method Process.cmdline of <psutil.Process(pid=1124, name='svchost.exe') at 2836284675184>>\n",
      "1152 - cmd.exe <bound method Process.cmdline of <psutil.Process(pid=1152, name='cmd.exe') at 2836284675576>>\n",
      "1168 - svchost.exe <bound method Process.cmdline of <psutil.Process(pid=1168, name='svchost.exe') at 2836284676080>>\n",
      "1176 - sihost.exe <bound method Process.cmdline of <psutil.Process(pid=1176, name='sihost.exe') at 2836284676472>>\n",
      "1220 - RasUtility.exe <bound method Process.cmdline of <psutil.Process(pid=1220, name='RasUtility.exe') at 2836284676920>>\n",
      "1312 - svchost.exe <bound method Process.cmdline of <psutil.Process(pid=1312, name='svchost.exe') at 2836284677312>>\n",
      "1356 - NVIDIA Web Helper.exe <bound method Process.cmdline of <psutil.Process(pid=1356, name='NVIDIA Web Helper.exe') at 2836284677704>>\n",
      "1440 - svchost.exe <bound method Process.cmdline of <psutil.Process(pid=1440, name='svchost.exe') at 2836284706888>>\n",
      "1452 - svchost.exe <bound method Process.cmdline of <psutil.Process(pid=1452, name='svchost.exe') at 2836284707280>>\n",
      "1484 - svchost.exe <bound method Process.cmdline of <psutil.Process(pid=1484, name='svchost.exe') at 2836284707672>>\n",
      "1508 - NVDisplay.Container.exe <bound method Process.cmdline of <psutil.Process(pid=1508, name='NVDisplay.Container.exe') at 2836284707952>>\n",
      "1612 - svchost.exe <bound method Process.cmdline of <psutil.Process(pid=1612, name='svchost.exe') at 2836284708288>>\n",
      "1736 - ConEmuC64.exe <bound method Process.cmdline of <psutil.Process(pid=1736, name='ConEmuC64.exe') at 2836284708736>>\n",
      "1940 - backgroundTaskHost.exe <bound method Process.cmdline of <psutil.Process(pid=1940, name='backgroundTaskHost.exe') at 2836284873976>>\n",
      "1972 - bittorrentie.exe <bound method Process.cmdline of <psutil.Process(pid=1972, name='bittorrentie.exe') at 2836284709184>>\n",
      "1980 - svchost.exe <bound method Process.cmdline of <psutil.Process(pid=1980, name='svchost.exe') at 2836284709576>>\n",
      "2052 - spoolsv.exe <bound method Process.cmdline of <psutil.Process(pid=2052, name='spoolsv.exe') at 2836284709912>>\n",
      "2064 - python.exe <bound method Process.cmdline of <psutil.Process(pid=2064, name='python.exe') at 2836284710304>>\n",
      "2240 - conhost.exe <bound method Process.cmdline of <psutil.Process(pid=2240, name='conhost.exe') at 2836284710752>>\n",
      "2316 - chrome.exe <bound method Process.cmdline of <psutil.Process(pid=2316, name='chrome.exe') at 2836284727648>>\n",
      "2484 - svchost.exe <bound method Process.cmdline of <psutil.Process(pid=2484, name='svchost.exe') at 2836284728096>>\n",
      "2496 - Everything.exe <bound method Process.cmdline of <psutil.Process(pid=2496, name='Everything.exe') at 2836284728488>>\n",
      "2504 - eausvc.exe <bound method Process.cmdline of <psutil.Process(pid=2504, name='eausvc.exe') at 2836284728880>>\n",
      "2512 - armsvc.exe <bound method Process.cmdline of <psutil.Process(pid=2512, name='armsvc.exe') at 2836284729216>>\n",
      "2548 - chrome.exe <bound method Process.cmdline of <psutil.Process(pid=2548, name='chrome.exe') at 2836284729608>>\n",
      "2600 - redis-server.exe <bound method Process.cmdline of <psutil.Process(pid=2600, name='redis-server.exe') at 2836284730056>>\n",
      "2608 - NvTelemetryContainer.exe <bound method Process.cmdline of <psutil.Process(pid=2608, name='NvTelemetryContainer.exe') at 2836284730448>>\n",
      "2624 - svchost.exe <bound method Process.cmdline of <psutil.Process(pid=2624, name='svchost.exe') at 2836284730840>>\n",
      "2656 - nvcontainer.exe <bound method Process.cmdline of <psutil.Process(pid=2656, name='nvcontainer.exe') at 2836284731120>>\n",
      "2724 - nssm.exe <bound method Process.cmdline of <psutil.Process(pid=2724, name='nssm.exe') at 2836284739768>>\n",
      "2732 - MsMpEng.exe <bound method Process.cmdline of <psutil.Process(pid=2732, name='MsMpEng.exe') at 2836284740048>>\n",
      "2832 - Memory Compression <bound method Process.cmdline of <psutil.Process(pid=2832, name='Memory Compression') at 2836284740384>>\n",
      "2880 - xvpnd.exe <bound method Process.cmdline of <psutil.Process(pid=2880, name='xvpnd.exe') at 2836284740776>>\n",
      "2908 - conhost.exe <bound method Process.cmdline of <psutil.Process(pid=2908, name='conhost.exe') at 2836284741168>>\n",
      "2920 - NVDisplay.Container.exe <bound method Process.cmdline of <psutil.Process(pid=2920, name='NVDisplay.Container.exe') at 2836284741224>>\n",
      "2976 - chrome.exe <bound method Process.cmdline of <psutil.Process(pid=2976, name='chrome.exe') at 2836284741616>>\n",
      "3036 - RuntimeBroker.exe <bound method Process.cmdline of <psutil.Process(pid=3036, name='RuntimeBroker.exe') at 2836284742064>>\n",
      "3232 - Rainmeter.exe <bound method Process.cmdline of <psutil.Process(pid=3232, name='Rainmeter.exe') at 2836284742512>>\n",
      "3444 - chrome.exe <bound method Process.cmdline of <psutil.Process(pid=3444, name='chrome.exe') at 2836284742960>>\n",
      "4004 - NisSrv.exe <bound method Process.cmdline of <psutil.Process(pid=4004, name='NisSrv.exe') at 2836284743408>>\n",
      "4060 - dexpot.exe <bound method Process.cmdline of <psutil.Process(pid=4060, name='dexpot.exe') at 2836284793184>>\n",
      "4108 - fontdrvhost.exe <bound method Process.cmdline of <psutil.Process(pid=4108, name='fontdrvhost.exe') at 2836284793632>>\n",
      "4204 - smartscreen.exe <bound method Process.cmdline of <psutil.Process(pid=4204, name='smartscreen.exe') at 2836284795480>>\n",
      "4212 - csrss.exe <bound method Process.cmdline of <psutil.Process(pid=4212, name='csrss.exe') at 2836284794080>>\n",
      "4496 - audiodg.exe <bound method Process.cmdline of <psutil.Process(pid=4496, name='audiodg.exe') at 2836284794472>>\n",
      "4504 - pageant.exe <bound method Process.cmdline of <psutil.Process(pid=4504, name='pageant.exe') at 2836284794752>>\n",
      "4560 - chrome.exe <bound method Process.cmdline of <psutil.Process(pid=4560, name='chrome.exe') at 2836284795200>>\n",
      "4596 - chrome.exe <bound method Process.cmdline of <psutil.Process(pid=4596, name='chrome.exe') at 2836284795648>>\n",
      "4628 - chrome.exe <bound method Process.cmdline of <psutil.Process(pid=4628, name='chrome.exe') at 2836284796096>>\n",
      "4776 - GoogleCrashHandler.exe <bound method Process.cmdline of <psutil.Process(pid=4776, name='GoogleCrashHandler.exe') at 2836284796544>>\n",
      "4796 - csrss.exe <bound method Process.cmdline of <psutil.Process(pid=4796, name='csrss.exe') at 2836284813384>>\n",
      "4848 - LogiOptions.exe <bound method Process.cmdline of <psutil.Process(pid=4848, name='LogiOptions.exe') at 2836284813776>>\n",
      "4852 - chrome.exe <bound method Process.cmdline of <psutil.Process(pid=4852, name='chrome.exe') at 2836284814168>>\n",
      "4856 - SourceTree.exe <bound method Process.cmdline of <psutil.Process(pid=4856, name='SourceTree.exe') at 2836284814616>>\n",
      "4880 - GoogleCrashHandler64.exe <bound method Process.cmdline of <psutil.Process(pid=4880, name='GoogleCrashHandler64.exe') at 2836284815064>>\n",
      "5144 - SearchIndexer.exe <bound method Process.cmdline of <psutil.Process(pid=5144, name='SearchIndexer.exe') at 2836284815456>>\n",
      "5540 - Dexpot64.exe <bound method Process.cmdline of <psutil.Process(pid=5540, name='Dexpot64.exe') at 2836284815848>>\n",
      "5644 - conhost.exe <bound method Process.cmdline of <psutil.Process(pid=5644, name='conhost.exe') at 2836284816296>>\n",
      "5716 - RAVCpl64.exe <bound method Process.cmdline of <psutil.Process(pid=5716, name='RAVCpl64.exe') at 2836284816744>>\n",
      "5764 - expressvpn-browser-helper.exe <bound method Process.cmdline of <psutil.Process(pid=5764, name='expressvpn-browser-helper.exe') at 2836284817192>>\n",
      "5896 - chrome.exe <bound method Process.cmdline of <psutil.Process(pid=5896, name='chrome.exe') at 2836284866856>>\n",
      "6288 - WmiPrvSE.exe <bound method Process.cmdline of <psutil.Process(pid=6288, name='WmiPrvSE.exe') at 2836284675968>>\n",
      "6304 - BitTorrent.exe <bound method Process.cmdline of <psutil.Process(pid=6304, name='BitTorrent.exe') at 2836284867304>>\n",
      "6320 - SearchFilterHost.exe <bound method Process.cmdline of <psutil.Process(pid=6320, name='SearchFilterHost.exe') at 2836284674288>>\n",
      "6332 - python.exe <bound method Process.cmdline of <psutil.Process(pid=6332, name='python.exe') at 2836284867416>>\n",
      "6588 - procexp64.exe <bound method Process.cmdline of <psutil.Process(pid=6588, name='procexp64.exe') at 2836284458040>>\n",
      "6676 - jupyter.exe <bound method Process.cmdline of <psutil.Process(pid=6676, name='jupyter.exe') at 2836284867920>>\n",
      "6760 - chrome.exe <bound method Process.cmdline of <psutil.Process(pid=6760, name='chrome.exe') at 2836284868368>>\n",
      "6968 - DaumSAM.exe <bound method Process.cmdline of <psutil.Process(pid=6968, name='DaumSAM.exe') at 2836284868816>>\n",
      "7288 - chrome.exe <bound method Process.cmdline of <psutil.Process(pid=7288, name='chrome.exe') at 2836284869264>>\n",
      "7304 - conhost.exe <bound method Process.cmdline of <psutil.Process(pid=7304, name='conhost.exe') at 2836284869712>>\n",
      "7400 - chrome.exe <bound method Process.cmdline of <psutil.Process(pid=7400, name='chrome.exe') at 2836284870608>>\n",
      "7512 - MpCmdRun.exe <bound method Process.cmdline of <psutil.Process(pid=7512, name='MpCmdRun.exe') at 2836284871120>>\n",
      "7708 - pythonw.exe <bound method Process.cmdline of <psutil.Process(pid=7708, name='pythonw.exe') at 2836284871512>>\n",
      "7728 - PotPlayer64.exe <bound method Process.cmdline of <psutil.Process(pid=7728, name='PotPlayer64.exe') at 2836284871960>>\n",
      "7916 - OneDrive.exe <bound method Process.cmdline of <psutil.Process(pid=7916, name='OneDrive.exe') at 2836284872408>>\n",
      "7932 - conhost.exe <bound method Process.cmdline of <psutil.Process(pid=7932, name='conhost.exe') at 2836284872856>>\n",
      "7940 - chrome.exe <bound method Process.cmdline of <psutil.Process(pid=7940, name='chrome.exe') at 2836284873304>>\n",
      "7988 - winlogon.exe <bound method Process.cmdline of <psutil.Process(pid=7988, name='winlogon.exe') at 2836284873752>>\n",
      "8084 - chrome.exe <bound method Process.cmdline of <psutil.Process(pid=8084, name='chrome.exe') at 2836284874144>>\n",
      "8268 - chrome.exe <bound method Process.cmdline of <psutil.Process(pid=8268, name='chrome.exe') at 2836284874592>>\n",
      "8416 - cmd.exe <bound method Process.cmdline of <psutil.Process(pid=8416, name='cmd.exe') at 2836284375392>>\n",
      "8544 - WinSplitDrvr64.exe <bound method Process.cmdline of <psutil.Process(pid=8544, name='WinSplitDrvr64.exe') at 2836284375896>>\n",
      "8724 - afreecatvpackage.exe <bound method Process.cmdline of <psutil.Process(pid=8724, name='afreecatvpackage.exe') at 2836284376344>>\n",
      "8816 - taskhostw.exe <bound method Process.cmdline of <psutil.Process(pid=8816, name='taskhostw.exe') at 2836284376792>>\n",
      "8952 - conhost.exe <bound method Process.cmdline of <psutil.Process(pid=8952, name='conhost.exe') at 2836284377240>>\n",
      "9116 - python.exe <bound method Process.cmdline of <psutil.Process(pid=9116, name='python.exe') at 2836284377688>>\n",
      "9408 - bittorrentie.exe <bound method Process.cmdline of <psutil.Process(pid=9408, name='bittorrentie.exe') at 2836284378136>>\n",
      "9496 - svchost.exe <bound method Process.cmdline of <psutil.Process(pid=9496, name='svchost.exe') at 2836284397776>>\n",
      "9604 - chrome.exe <bound method Process.cmdline of <psutil.Process(pid=9604, name='chrome.exe') at 2836284378584>>\n",
      "9972 - SearchProtocolHost.exe <bound method Process.cmdline of <psutil.Process(pid=9972, name='SearchProtocolHost.exe') at 2836284395816>>\n",
      "10012 - sublime_text.exe <bound method Process.cmdline of <psutil.Process(pid=10012, name='sublime_text.exe') at 2836284396208>>\n",
      "10016 - jupyter-notebook.exe <bound method Process.cmdline of <psutil.Process(pid=10016, name='jupyter-notebook.exe') at 2836284396656>>\n",
      "10040 - Q-Dir.exe <bound method Process.cmdline of <psutil.Process(pid=10040, name='Q-Dir.exe') at 2836284397104>>\n",
      "10168 - python.exe <bound method Process.cmdline of <psutil.Process(pid=10168, name='python.exe') at 2836284397552>>\n",
      "10628 - plugin_host.exe <bound method Process.cmdline of <psutil.Process(pid=10628, name='plugin_host.exe') at 2836284398000>>\n",
      "10660 - explorer.exe <bound method Process.cmdline of <psutil.Process(pid=10660, name='explorer.exe') at 2836284398448>>\n",
      "10704 - MSASCuiL.exe <bound method Process.cmdline of <psutil.Process(pid=10704, name='MSASCuiL.exe') at 2836284398896>>\n",
      "10708 - chrome.exe <bound method Process.cmdline of <psutil.Process(pid=10708, name='chrome.exe') at 2836284399344>>\n",
      "10808 - WizMouse.exe <bound method Process.cmdline of <psutil.Process(pid=10808, name='WizMouse.exe') at 2836284449008>>\n",
      "10872 - chrome.exe <bound method Process.cmdline of <psutil.Process(pid=10872, name='chrome.exe') at 2836284449344>>\n",
      "10884 - ShellExperienceHost.exe <bound method Process.cmdline of <psutil.Process(pid=10884, name='ShellExperienceHost.exe') at 2836284449792>>\n",
      "10940 - chrome.exe <bound method Process.cmdline of <psutil.Process(pid=10940, name='chrome.exe') at 2836284450240>>\n",
      "11040 - chrome.exe <bound method Process.cmdline of <psutil.Process(pid=11040, name='chrome.exe') at 2836284451136>>\n",
      "11060 - chrome.exe <bound method Process.cmdline of <psutil.Process(pid=11060, name='chrome.exe') at 2836284451584>>\n",
      "11096 - pycharm64.exe <bound method Process.cmdline of <psutil.Process(pid=11096, name='pycharm64.exe') at 2836284452032>>\n",
      "11116 - dllhost.exe <bound method Process.cmdline of <psutil.Process(pid=11116, name='dllhost.exe') at 2836284452480>>\n",
      "11124 - LogiOptionsMgr.exe <bound method Process.cmdline of <psutil.Process(pid=11124, name='LogiOptionsMgr.exe') at 2836284457088>>\n",
      "11220 - nvcontainer.exe <bound method Process.cmdline of <psutil.Process(pid=11220, name='nvcontainer.exe') at 2836284457480>>\n",
      "11444 - dwm.exe <bound method Process.cmdline of <psutil.Process(pid=11444, name='dwm.exe') at 2836284457928>>\n",
      "11840 - SearchUI.exe <bound method Process.cmdline of <psutil.Process(pid=11840, name='SearchUI.exe') at 2836284458824>>\n",
      "11960 - Everything.exe <bound method Process.cmdline of <psutil.Process(pid=11960, name='Everything.exe') at 2836284459272>>\n",
      "12104 - WinSplitDrvr32.exe <bound method Process.cmdline of <psutil.Process(pid=12104, name='WinSplitDrvr32.exe') at 2836284459720>>\n",
      "12128 - SkypeHost.exe <bound method Process.cmdline of <psutil.Process(pid=12128, name='SkypeHost.exe') at 2836284460168>>\n",
      "12336 - fsnotifier64.exe <bound method Process.cmdline of <psutil.Process(pid=12336, name='fsnotifier64.exe') at 2836284460616>>\n",
      "12388 - ApplicationFrameHost.exe <bound method Process.cmdline of <psutil.Process(pid=12388, name='ApplicationFrameHost.exe') at 2836284481608>>\n",
      "12616 - vswitch64.exe <bound method Process.cmdline of <psutil.Process(pid=12616, name='vswitch64.exe') at 2836284481944>>\n",
      "12656 - chrome.exe <bound method Process.cmdline of <psutil.Process(pid=12656, name='chrome.exe') at 2836284482336>>\n",
      "12776 - python.exe <bound method Process.cmdline of <psutil.Process(pid=12776, name='python.exe') at 2836284482784>>\n",
      "12808 - chrome.exe <bound method Process.cmdline of <psutil.Process(pid=12808, name='chrome.exe') at 2836284483232>>\n",
      "12932 - WinSplit.exe <bound method Process.cmdline of <psutil.Process(pid=12932, name='WinSplit.exe') at 2836284483680>>\n"
     ]
    }
   ],
   "source": [
    "for proc in proc_iter:\n",
    "     print(proc.pid,'-',proc.name(), proc.cmdline)"
   ]
  },
  {
   "cell_type": "markdown",
   "metadata": {},
   "source": [
    "# kill & Start process"
   ]
  },
  {
   "cell_type": "markdown",
   "metadata": {},
   "source": [
    "# by pid"
   ]
  },
  {
   "cell_type": "code",
   "execution_count": 30,
   "metadata": {
    "collapsed": true
   },
   "outputs": [],
   "source": [
    "proc_iter = psutil.process_iter()"
   ]
  },
  {
   "cell_type": "code",
   "execution_count": 21,
   "metadata": {
    "collapsed": true
   },
   "outputs": [],
   "source": [
    "# successfully kill Nexus File\n",
    "\n",
    "for proc in proc_iter:\n",
    "    if proc.pid == 9316:   # Nexus File\n",
    "        proc.kill()"
   ]
  },
  {
   "cell_type": "markdown",
   "metadata": {},
   "source": [
    "# by cmdline"
   ]
  },
  {
   "cell_type": "code",
   "execution_count": 40,
   "metadata": {
    "collapsed": true
   },
   "outputs": [],
   "source": [
    "cmdline = r'C:\\Program Files (x86)\\NexusFile\\NexusFile.exe'"
   ]
  },
  {
   "cell_type": "code",
   "execution_count": 41,
   "metadata": {
    "collapsed": true
   },
   "outputs": [],
   "source": [
    "proc_iter = psutil.process_iter()"
   ]
  },
  {
   "cell_type": "code",
   "execution_count": 42,
   "metadata": {
    "collapsed": true
   },
   "outputs": [],
   "source": [
    "for proc in proc_iter:\n",
    "    if proc.cmdline == cmdline:\n",
    "        proc.kill()\n",
    "        \n",
    "time.sleep(10)\n",
    "\n",
    "os.startfile(cmdline)   # restart program"
   ]
  },
  {
   "cell_type": "code",
   "execution_count": null,
   "metadata": {
    "collapsed": true
   },
   "outputs": [],
   "source": []
  },
  {
   "cell_type": "code",
   "execution_count": null,
   "metadata": {
    "collapsed": true
   },
   "outputs": [],
   "source": []
  },
  {
   "cell_type": "code",
   "execution_count": null,
   "metadata": {
    "collapsed": true
   },
   "outputs": [],
   "source": []
  },
  {
   "cell_type": "code",
   "execution_count": null,
   "metadata": {
    "collapsed": true
   },
   "outputs": [],
   "source": []
  },
  {
   "cell_type": "code",
   "execution_count": null,
   "metadata": {
    "collapsed": true
   },
   "outputs": [],
   "source": []
  },
  {
   "cell_type": "code",
   "execution_count": null,
   "metadata": {
    "collapsed": true
   },
   "outputs": [],
   "source": []
  },
  {
   "cell_type": "code",
   "execution_count": null,
   "metadata": {
    "collapsed": true
   },
   "outputs": [],
   "source": []
  },
  {
   "cell_type": "code",
   "execution_count": null,
   "metadata": {
    "collapsed": true
   },
   "outputs": [],
   "source": []
  },
  {
   "cell_type": "code",
   "execution_count": null,
   "metadata": {
    "collapsed": true
   },
   "outputs": [],
   "source": []
  },
  {
   "cell_type": "code",
   "execution_count": null,
   "metadata": {
    "collapsed": true
   },
   "outputs": [],
   "source": []
  },
  {
   "cell_type": "code",
   "execution_count": null,
   "metadata": {
    "collapsed": true
   },
   "outputs": [],
   "source": []
  },
  {
   "cell_type": "code",
   "execution_count": null,
   "metadata": {
    "collapsed": true
   },
   "outputs": [],
   "source": []
  },
  {
   "cell_type": "code",
   "execution_count": null,
   "metadata": {
    "collapsed": true
   },
   "outputs": [],
   "source": []
  },
  {
   "cell_type": "code",
   "execution_count": null,
   "metadata": {
    "collapsed": true
   },
   "outputs": [],
   "source": []
  },
  {
   "cell_type": "code",
   "execution_count": null,
   "metadata": {
    "collapsed": true
   },
   "outputs": [],
   "source": []
  },
  {
   "cell_type": "code",
   "execution_count": null,
   "metadata": {
    "collapsed": true
   },
   "outputs": [],
   "source": []
  }
 ],
 "metadata": {
  "kernelspec": {
   "display_name": "Python 3",
   "language": "python",
   "name": "python3"
  },
  "language_info": {
   "codemirror_mode": {
    "name": "ipython",
    "version": 3
   },
   "file_extension": ".py",
   "mimetype": "text/x-python",
   "name": "python",
   "nbconvert_exporter": "python",
   "pygments_lexer": "ipython3",
   "version": "3.6.1"
  }
 },
 "nbformat": 4,
 "nbformat_minor": 2
}
