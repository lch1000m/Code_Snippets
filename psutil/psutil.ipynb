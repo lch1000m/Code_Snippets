{
 "cells": [
  {
   "cell_type": "markdown",
   "metadata": {},
   "source": [
    "# psutil\n",
    "\n",
    "## process & system utility\n",
    "<br>\n",
    "\n",
    "# Table of Contents\n",
    "1. **Processes**\n",
    "    1. [list up processes](#listup_process)\n",
    "    2. [manipulate processes](#manipulate_process)\n",
    "2. **Disk**\n",
    "    1. [disk usage info](#disk_usage)\n",
    "    \n",
    "    \n",
    "    \n",
    "    \n",
    "    \n",
    "    \n",
    "    \n",
    "    \n",
    "    \n",
    "    \n",
    "    \n",
    "    \n",
    "    \n",
    "    \n",
    "<br><br><br><br><br><br><br><br><br><br><br><br><br><br><br><br><br><br><br><br>"
   ]
  },
  {
   "cell_type": "code",
   "execution_count": 1,
   "metadata": {
    "collapsed": true
   },
   "outputs": [],
   "source": [
    "import psutil, time, os"
   ]
  },
  {
   "cell_type": "markdown",
   "metadata": {},
   "source": [
    "<a id=\"listup_process\"></a>\n",
    "<br>\n",
    "# List Up Processes"
   ]
  },
  {
   "cell_type": "markdown",
   "metadata": {},
   "source": [
    "## using process_iter"
   ]
  },
  {
   "cell_type": "code",
   "execution_count": 2,
   "metadata": {
    "collapsed": true
   },
   "outputs": [],
   "source": [
    "proc_iter = psutil.process_iter()"
   ]
  },
  {
   "cell_type": "code",
   "execution_count": 3,
   "metadata": {},
   "outputs": [
    {
     "data": {
      "text/plain": [
       "<generator object process_iter at 0x000002BF8C0EBCA8>"
      ]
     },
     "execution_count": 3,
     "metadata": {},
     "output_type": "execute_result"
    }
   ],
   "source": [
    "proc_iter"
   ]
  },
  {
   "cell_type": "code",
   "execution_count": 4,
   "metadata": {},
   "outputs": [
    {
     "name": "stdout",
     "output_type": "stream",
     "text": [
      "0 - System Idle Process <bound method Process.cmdline of <psutil.Process(pid=0, name='System Idle Process') at 3021711802320>>\n",
      "4 - System <bound method Process.cmdline of <psutil.Process(pid=4, name='System') at 3021714797288>>\n",
      "144 - svchost.exe <bound method Process.cmdline of <psutil.Process(pid=144, name='svchost.exe') at 3021714797848>>\n",
      "152 - GoogleCrashHandler.exe <bound method Process.cmdline of <psutil.Process(pid=152, name='GoogleCrashHandler.exe') at 3021714798352>>\n",
      "476 - smss.exe <bound method Process.cmdline of <psutil.Process(pid=476, name='smss.exe') at 3021714798912>>\n",
      "612 - chrome.exe <bound method Process.cmdline of <psutil.Process(pid=612, name='chrome.exe') at 3021714799304>>\n",
      "688 - csrss.exe <bound method Process.cmdline of <psutil.Process(pid=688, name='csrss.exe') at 3021714799864>>\n",
      "776 - wininit.exe <bound method Process.cmdline of <psutil.Process(pid=776, name='wininit.exe') at 3021714800368>>\n",
      "788 - svchost.exe <bound method Process.cmdline of <psutil.Process(pid=788, name='svchost.exe') at 3021714821416>>\n",
      "812 - PotPlayer64.exe <bound method Process.cmdline of <psutil.Process(pid=812, name='PotPlayer64.exe') at 3021714821920>>\n",
      "848 - services.exe <bound method Process.cmdline of <psutil.Process(pid=848, name='services.exe') at 3021714822480>>\n",
      "856 - lsass.exe <bound method Process.cmdline of <psutil.Process(pid=856, name='lsass.exe') at 3021714822984>>\n",
      "940 - WinSplitDrvr32.exe <bound method Process.cmdline of <psutil.Process(pid=940, name='WinSplitDrvr32.exe') at 3021714823488>>\n",
      "952 - svchost.exe <bound method Process.cmdline of <psutil.Process(pid=952, name='svchost.exe') at 3021714824048>>\n",
      "1032 - GoogleCrashHandler64.exe <bound method Process.cmdline of <psutil.Process(pid=1032, name='GoogleCrashHandler64.exe') at 3021714824552>>\n",
      "1048 - spoolsv.exe <bound method Process.cmdline of <psutil.Process(pid=1048, name='spoolsv.exe') at 3021714825056>>\n",
      "1056 - svchost.exe <bound method Process.cmdline of <psutil.Process(pid=1056, name='svchost.exe') at 3021714850200>>\n",
      "1116 - svchost.exe <bound method Process.cmdline of <psutil.Process(pid=1116, name='svchost.exe') at 3021714850648>>\n",
      "1196 - svchost.exe <bound method Process.cmdline of <psutil.Process(pid=1196, name='svchost.exe') at 3021714851152>>\n",
      "1224 - svchost.exe <bound method Process.cmdline of <psutil.Process(pid=1224, name='svchost.exe') at 3021714851656>>\n",
      "1468 - svchost.exe <bound method Process.cmdline of <psutil.Process(pid=1468, name='svchost.exe') at 3021714852104>>\n",
      "1488 - svchost.exe <bound method Process.cmdline of <psutil.Process(pid=1488, name='svchost.exe') at 3021714852608>>\n",
      "1516 - svchost.exe <bound method Process.cmdline of <psutil.Process(pid=1516, name='svchost.exe') at 3021714853112>>\n",
      "1552 - NVDisplay.Container.exe <bound method Process.cmdline of <psutil.Process(pid=1552, name='NVDisplay.Container.exe') at 3021714853616>>\n",
      "1892 - NexusFile.exe <bound method Process.cmdline of <psutil.Process(pid=1892, name='NexusFile.exe') at 3021714870568>>\n",
      "1968 - svchost.exe <bound method Process.cmdline of <psutil.Process(pid=1968, name='svchost.exe') at 3021714871128>>\n",
      "2212 - conhost.exe <bound method Process.cmdline of <psutil.Process(pid=2212, name='conhost.exe') at 3021714871632>>\n",
      "2328 - bittorrentie.exe <bound method Process.cmdline of <psutil.Process(pid=2328, name='bittorrentie.exe') at 3021714872192>>\n",
      "2460 - svchost.exe <bound method Process.cmdline of <psutil.Process(pid=2460, name='svchost.exe') at 3021714872752>>\n",
      "2472 - Everything.exe <bound method Process.cmdline of <psutil.Process(pid=2472, name='Everything.exe') at 3021714873256>>\n",
      "2492 - armsvc.exe <bound method Process.cmdline of <psutil.Process(pid=2492, name='armsvc.exe') at 3021714873760>>\n",
      "2500 - eausvc.exe <bound method Process.cmdline of <psutil.Process(pid=2500, name='eausvc.exe') at 3021714874264>>\n",
      "2520 - svchost.exe <bound method Process.cmdline of <psutil.Process(pid=2520, name='svchost.exe') at 3021714903504>>\n",
      "2564 - NvTelemetryContainer.exe <bound method Process.cmdline of <psutil.Process(pid=2564, name='NvTelemetryContainer.exe') at 3021714904008>>\n",
      "2624 - nssm.exe <bound method Process.cmdline of <psutil.Process(pid=2624, name='nssm.exe') at 3021714904512>>\n",
      "2648 - MsMpEng.exe <bound method Process.cmdline of <psutil.Process(pid=2648, name='MsMpEng.exe') at 3021714904960>>\n",
      "2668 - redis-server.exe <bound method Process.cmdline of <psutil.Process(pid=2668, name='redis-server.exe') at 3021714905464>>\n",
      "2700 - nvcontainer.exe <bound method Process.cmdline of <psutil.Process(pid=2700, name='nvcontainer.exe') at 3021714905968>>\n",
      "2724 - Memory Compression <bound method Process.cmdline of <psutil.Process(pid=2724, name='Memory Compression') at 3021714906472>>\n",
      "2832 - SearchUI.exe <bound method Process.cmdline of <psutil.Process(pid=2832, name='SearchUI.exe') at 3021714906976>>\n",
      "2844 - SearchFilterHost.exe <bound method Process.cmdline of <psutil.Process(pid=2844, name='SearchFilterHost.exe') at 3021714919888>>\n",
      "2900 - xvpnd.exe <bound method Process.cmdline of <psutil.Process(pid=2900, name='xvpnd.exe') at 3021714920392>>\n",
      "2940 - conhost.exe <bound method Process.cmdline of <psutil.Process(pid=2940, name='conhost.exe') at 3021714920896>>\n",
      "3284 - sihost.exe <bound method Process.cmdline of <psutil.Process(pid=3284, name='sihost.exe') at 3021714921400>>\n",
      "3496 - cmd.exe <bound method Process.cmdline of <psutil.Process(pid=3496, name='cmd.exe') at 3021714921960>>\n",
      "3516 - SkypeHost.exe <bound method Process.cmdline of <psutil.Process(pid=3516, name='SkypeHost.exe') at 3021714922576>>\n",
      "3620 - ShellExperienceHost.exe <bound method Process.cmdline of <psutil.Process(pid=3620, name='ShellExperienceHost.exe') at 3021714923136>>\n",
      "3656 - python.exe <bound method Process.cmdline of <psutil.Process(pid=3656, name='python.exe') at 3021714944240>>\n",
      "3672 - conhost.exe <bound method Process.cmdline of <psutil.Process(pid=3672, name='conhost.exe') at 3021714944800>>\n",
      "3680 - cmd.exe <bound method Process.cmdline of <psutil.Process(pid=3680, name='cmd.exe') at 3021714945360>>\n",
      "3716 - ConEmuC64.exe <bound method Process.cmdline of <psutil.Process(pid=3716, name='ConEmuC64.exe') at 3021714945864>>\n",
      "3808 - winlogon.exe <bound method Process.cmdline of <psutil.Process(pid=3808, name='winlogon.exe') at 3021714946424>>\n",
      "4056 - NisSrv.exe <bound method Process.cmdline of <psutil.Process(pid=4056, name='NisSrv.exe') at 3021714946928>>\n",
      "4300 - chrome.exe <bound method Process.cmdline of <psutil.Process(pid=4300, name='chrome.exe') at 3021714947432>>\n",
      "4432 - chrome.exe <bound method Process.cmdline of <psutil.Process(pid=4432, name='chrome.exe') at 3021714947992>>\n",
      "4464 - chrome.exe <bound method Process.cmdline of <psutil.Process(pid=4464, name='chrome.exe') at 3021714799360>>\n",
      "4820 - conhost.exe <bound method Process.cmdline of <psutil.Process(pid=4820, name='conhost.exe') at 3021714969320>>\n",
      "5140 - dexpot.exe <bound method Process.cmdline of <psutil.Process(pid=5140, name='dexpot.exe') at 3021714969880>>\n",
      "5212 - MpCmdRun.exe <bound method Process.cmdline of <psutil.Process(pid=5212, name='MpCmdRun.exe') at 3021714970440>>\n",
      "5340 - WinSplit.exe <bound method Process.cmdline of <psutil.Process(pid=5340, name='WinSplit.exe') at 3021714970776>>\n",
      "5560 - Rainmeter.exe <bound method Process.cmdline of <psutil.Process(pid=5560, name='Rainmeter.exe') at 3021714971336>>\n",
      "5744 - openvpn.exe <bound method Process.cmdline of <psutil.Process(pid=5744, name='openvpn.exe') at 3021714971896>>\n",
      "5812 - cmd.exe <bound method Process.cmdline of <psutil.Process(pid=5812, name='cmd.exe') at 3021714972400>>\n",
      "6036 - notepad++.exe <bound method Process.cmdline of <psutil.Process(pid=6036, name='notepad++.exe') at 3021715001752>>\n",
      "6352 - MSASCuiL.exe <bound method Process.cmdline of <psutil.Process(pid=6352, name='MSASCuiL.exe') at 3021715002312>>\n",
      "6504 - ConEmuC64.exe <bound method Process.cmdline of <psutil.Process(pid=6504, name='ConEmuC64.exe') at 3021715002872>>\n",
      "6548 - chrome.exe <bound method Process.cmdline of <psutil.Process(pid=6548, name='chrome.exe') at 3021715003432>>\n",
      "6660 - RAVCpl64.exe <bound method Process.cmdline of <psutil.Process(pid=6660, name='RAVCpl64.exe') at 3021715003992>>\n",
      "6732 - LogiOptions.exe <bound method Process.cmdline of <psutil.Process(pid=6732, name='LogiOptions.exe') at 3021715004552>>\n",
      "6756 - pycharm64.exe <bound method Process.cmdline of <psutil.Process(pid=6756, name='pycharm64.exe') at 3021715005224>>\n",
      "6828 - OneDrive.exe <bound method Process.cmdline of <psutil.Process(pid=6828, name='OneDrive.exe') at 3021713715608>>\n",
      "6856 - DaumSAM.exe <bound method Process.cmdline of <psutil.Process(pid=6856, name='DaumSAM.exe') at 3021713716168>>\n",
      "6920 - WinSplitDrvr64.exe <bound method Process.cmdline of <psutil.Process(pid=6920, name='WinSplitDrvr64.exe') at 3021713716728>>\n",
      "6948 - BitTorrent.exe <bound method Process.cmdline of <psutil.Process(pid=6948, name='BitTorrent.exe') at 3021713717288>>\n",
      "7060 - python.exe <bound method Process.cmdline of <psutil.Process(pid=7060, name='python.exe') at 3021713717848>>\n",
      "7120 - jupyter.exe <bound method Process.cmdline of <psutil.Process(pid=7120, name='jupyter.exe') at 3021713718408>>\n",
      "7256 - vswitch64.exe <bound method Process.cmdline of <psutil.Process(pid=7256, name='vswitch64.exe') at 3021713718968>>\n",
      "7332 - NexusFile.exe <bound method Process.cmdline of <psutil.Process(pid=7332, name='NexusFile.exe') at 3021713740016>>\n",
      "7516 - Dexpot64.exe <bound method Process.cmdline of <psutil.Process(pid=7516, name='Dexpot64.exe') at 3021713740576>>\n",
      "7540 - chrome.exe <bound method Process.cmdline of <psutil.Process(pid=7540, name='chrome.exe') at 3021713741136>>\n",
      "7560 - pythonw.exe <bound method Process.cmdline of <psutil.Process(pid=7560, name='pythonw.exe') at 3021713741696>>\n",
      "7720 - LogiOptionsMgr.exe <bound method Process.cmdline of <psutil.Process(pid=7720, name='LogiOptionsMgr.exe') at 3021713742256>>\n",
      "7788 - NVDisplay.Container.exe <bound method Process.cmdline of <psutil.Process(pid=7788, name='NVDisplay.Container.exe') at 3021713742816>>\n",
      "8088 - chrome.exe <bound method Process.cmdline of <psutil.Process(pid=8088, name='chrome.exe') at 3021713743264>>\n",
      "8164 - chrome.exe <bound method Process.cmdline of <psutil.Process(pid=8164, name='chrome.exe') at 3021713743824>>\n",
      "8292 - python.exe <bound method Process.cmdline of <psutil.Process(pid=8292, name='python.exe') at 3021713785408>>\n",
      "8372 - chrome.exe <bound method Process.cmdline of <psutil.Process(pid=8372, name='chrome.exe') at 3021713785968>>\n",
      "8552 - chrome.exe <bound method Process.cmdline of <psutil.Process(pid=8552, name='chrome.exe') at 3021713786528>>\n",
      "8824 - SearchProtocolHost.exe <bound method Process.cmdline of <psutil.Process(pid=8824, name='SearchProtocolHost.exe') at 3021713787088>>\n",
      "8912 - taskhostw.exe <bound method Process.cmdline of <psutil.Process(pid=8912, name='taskhostw.exe') at 3021713787592>>\n",
      "9020 - dwm.exe <bound method Process.cmdline of <psutil.Process(pid=9020, name='dwm.exe') at 3021713788152>>\n",
      "9336 - nvcontainer.exe <bound method Process.cmdline of <psutil.Process(pid=9336, name='nvcontainer.exe') at 3021713788712>>\n",
      "9416 - ConEmu64.exe <bound method Process.cmdline of <psutil.Process(pid=9416, name='ConEmu64.exe') at 3021713768856>>\n",
      "9572 - chrome.exe <bound method Process.cmdline of <psutil.Process(pid=9572, name='chrome.exe') at 3021713769416>>\n",
      "9812 - chrome.exe <bound method Process.cmdline of <psutil.Process(pid=9812, name='chrome.exe') at 3021713769976>>\n",
      "10056 - csrss.exe <bound method Process.cmdline of <psutil.Process(pid=10056, name='csrss.exe') at 3021713770536>>\n",
      "10144 - ApplicationFrameHost.exe <bound method Process.cmdline of <psutil.Process(pid=10144, name='ApplicationFrameHost.exe') at 3021713771040>>\n",
      "10360 - afreecatvpackage.exe <bound method Process.cmdline of <psutil.Process(pid=10360, name='afreecatvpackage.exe') at 3021713771600>>\n",
      "10416 - chrome.exe <bound method Process.cmdline of <psutil.Process(pid=10416, name='chrome.exe') at 3021713772160>>\n",
      "10600 - RuntimeBroker.exe <bound method Process.cmdline of <psutil.Process(pid=10600, name='RuntimeBroker.exe') at 3021713842416>>\n",
      "10892 - plugin_host.exe <bound method Process.cmdline of <psutil.Process(pid=10892, name='plugin_host.exe') at 3021713842976>>\n",
      "11080 - expressvpn-browser-helper.exe <bound method Process.cmdline of <psutil.Process(pid=11080, name='expressvpn-browser-helper.exe') at 3021713843536>>\n",
      "11356 - jupyter-notebook.exe <bound method Process.cmdline of <psutil.Process(pid=11356, name='jupyter-notebook.exe') at 3021713844096>>\n",
      "11428 - dllhost.exe <bound method Process.cmdline of <psutil.Process(pid=11428, name='dllhost.exe') at 3021713844656>>\n",
      "11520 - sublime_text.exe <bound method Process.cmdline of <psutil.Process(pid=11520, name='sublime_text.exe') at 3021713845160>>\n",
      "11572 - Everything.exe <bound method Process.cmdline of <psutil.Process(pid=11572, name='Everything.exe') at 3021713845720>>\n",
      "11716 - Microsoft.Photos.exe <bound method Process.cmdline of <psutil.Process(pid=11716, name='Microsoft.Photos.exe') at 3021713858632>>\n",
      "11772 - chrome.exe <bound method Process.cmdline of <psutil.Process(pid=11772, name='chrome.exe') at 3021713859192>>\n",
      "11808 - chrome.exe <bound method Process.cmdline of <psutil.Process(pid=11808, name='chrome.exe') at 3021713859752>>\n",
      "11832 - explorer.exe <bound method Process.cmdline of <psutil.Process(pid=11832, name='explorer.exe') at 3021713860312>>\n",
      "11844 - NVIDIA Web Helper.exe <bound method Process.cmdline of <psutil.Process(pid=11844, name='NVIDIA Web Helper.exe') at 3021713860872>>\n",
      "11932 - chrome.exe <bound method Process.cmdline of <psutil.Process(pid=11932, name='chrome.exe') at 3021713861432>>\n",
      "11960 - conhost.exe <bound method Process.cmdline of <psutil.Process(pid=11960, name='conhost.exe') at 3021713861936>>\n",
      "12012 - Q-Dir.exe <bound method Process.cmdline of <psutil.Process(pid=12012, name='Q-Dir.exe') at 3021713862496>>\n",
      "12080 - chrome.exe <bound method Process.cmdline of <psutil.Process(pid=12080, name='chrome.exe') at 3021713883600>>\n",
      "12192 - ConEmu64.exe <bound method Process.cmdline of <psutil.Process(pid=12192, name='ConEmu64.exe') at 3021713884160>>\n",
      "12368 - svchost.exe <bound method Process.cmdline of <psutil.Process(pid=12368, name='svchost.exe') at 3021713884720>>\n",
      "12416 - WizMouse.exe <bound method Process.cmdline of <psutil.Process(pid=12416, name='WizMouse.exe') at 3021713885280>>\n",
      "12500 - bittorrentie.exe <bound method Process.cmdline of <psutil.Process(pid=12500, name='bittorrentie.exe') at 3021713885840>>\n",
      "12608 - SearchIndexer.exe <bound method Process.cmdline of <psutil.Process(pid=12608, name='SearchIndexer.exe') at 3021713886400>>\n",
      "12936 - conhost.exe <bound method Process.cmdline of <psutil.Process(pid=12936, name='conhost.exe') at 3021713886904>>\n",
      "13148 - fsnotifier64.exe <bound method Process.cmdline of <psutil.Process(pid=13148, name='fsnotifier64.exe') at 3021713924392>>\n",
      "13996 - audiodg.exe <bound method Process.cmdline of <psutil.Process(pid=13996, name='audiodg.exe') at 3021713924952>>\n",
      "14264 - chrome.exe <bound method Process.cmdline of <psutil.Process(pid=14264, name='chrome.exe') at 3021713925456>>\n"
     ]
    }
   ],
   "source": [
    "for proc in proc_iter:\n",
    "     print(proc.pid,'-',proc.name(), proc.cmdline)"
   ]
  },
  {
   "cell_type": "markdown",
   "metadata": {},
   "source": [
    "<br>\n",
    "<a id=\"manipulate_process\"></a>\n",
    "# Manipulate Processes"
   ]
  },
  {
   "cell_type": "markdown",
   "metadata": {},
   "source": [
    "# kill & Start process"
   ]
  },
  {
   "cell_type": "markdown",
   "metadata": {},
   "source": [
    "# by pid"
   ]
  },
  {
   "cell_type": "code",
   "execution_count": 5,
   "metadata": {
    "collapsed": true
   },
   "outputs": [],
   "source": [
    "proc_iter = psutil.process_iter()"
   ]
  },
  {
   "cell_type": "code",
   "execution_count": 6,
   "metadata": {
    "collapsed": true
   },
   "outputs": [],
   "source": [
    "# successfully kill Nexus File\n",
    "\n",
    "for proc in proc_iter:\n",
    "    if proc.pid == 9316:   # Nexus File\n",
    "        proc.kill()"
   ]
  },
  {
   "cell_type": "markdown",
   "metadata": {},
   "source": [
    "# by cmdline"
   ]
  },
  {
   "cell_type": "code",
   "execution_count": 7,
   "metadata": {
    "collapsed": true
   },
   "outputs": [],
   "source": [
    "cmdline = r'C:\\Program Files (x86)\\NexusFile\\NexusFile.exe'"
   ]
  },
  {
   "cell_type": "code",
   "execution_count": 8,
   "metadata": {
    "collapsed": true
   },
   "outputs": [],
   "source": [
    "proc_iter = psutil.process_iter()"
   ]
  },
  {
   "cell_type": "code",
   "execution_count": 9,
   "metadata": {
    "collapsed": true
   },
   "outputs": [],
   "source": [
    "for proc in proc_iter:\n",
    "    if proc.cmdline == cmdline:\n",
    "        proc.kill()\n",
    "        \n",
    "time.sleep(10)\n",
    "\n",
    "os.startfile(cmdline)   # restart program"
   ]
  },
  {
   "cell_type": "markdown",
   "metadata": {
    "collapsed": true
   },
   "source": [
    "<a id=\"disk_usage\"></a>\n",
    "<br>\n",
    "# Disk Usage"
   ]
  },
  {
   "cell_type": "code",
   "execution_count": 10,
   "metadata": {
    "collapsed": true
   },
   "outputs": [],
   "source": [
    "path = 'C:'\n",
    "\n",
    "disk_info = psutil.disk_usage(path)"
   ]
  },
  {
   "cell_type": "code",
   "execution_count": 11,
   "metadata": {},
   "outputs": [
    {
     "data": {
      "text/plain": [
       "sdiskusage(total=249532772352, used=86361911296, free=163170861056, percent=34.6)"
      ]
     },
     "execution_count": 11,
     "metadata": {},
     "output_type": "execute_result"
    }
   ],
   "source": [
    "disk_info"
   ]
  }
 ],
 "metadata": {
  "kernelspec": {
   "display_name": "Python 3",
   "language": "python",
   "name": "python3"
  },
  "language_info": {
   "codemirror_mode": {
    "name": "ipython",
    "version": 3
   },
   "file_extension": ".py",
   "mimetype": "text/x-python",
   "name": "python",
   "nbconvert_exporter": "python",
   "pygments_lexer": "ipython3",
   "version": "3.6.1"
  }
 },
 "nbformat": 4,
 "nbformat_minor": 2
}
