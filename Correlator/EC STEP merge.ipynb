{
 "cells": [
  {
   "cell_type": "code",
   "execution_count": 1,
   "metadata": {
    "collapsed": true
   },
   "outputs": [],
   "source": [
    "importt pandas as pd"
   ]
  },
  {
   "cell_type": "markdown",
   "metadata": {},
   "source": [
    "# add EC step information to another sheet"
   ]
  },
  {
   "cell_type": "code",
   "execution_count": 2,
   "metadata": {
    "collapsed": true
   },
   "outputs": [],
   "source": [
    "_path = r'C:\\Codes\\Snippets\\sample data\\sample.xlsx'\n",
    "\n",
    "prp = pd.read_excel(\n",
    "    _path,\n",
    "    sheetname='prp',\n",
    ")\n",
    "\n",
    "ec = pd.read_excel(\n",
    "    _path,\n",
    "    sheetname='ec',\n",
    ")"
   ]
  },
  {
   "cell_type": "code",
   "execution_count": 3,
   "metadata": {},
   "outputs": [
    {
     "data": {
      "text/html": [
       "<div>\n",
       "<style>\n",
       "    .dataframe thead tr:only-child th {\n",
       "        text-align: right;\n",
       "    }\n",
       "\n",
       "    .dataframe thead th {\n",
       "        text-align: left;\n",
       "    }\n",
       "\n",
       "    .dataframe tbody tr th {\n",
       "        vertical-align: top;\n",
       "    }\n",
       "</style>\n",
       "<table border=\"1\" class=\"dataframe\">\n",
       "  <thead>\n",
       "    <tr style=\"text-align: right;\">\n",
       "      <th></th>\n",
       "      <th>step_seq</th>\n",
       "      <th>step_desc</th>\n",
       "    </tr>\n",
       "  </thead>\n",
       "  <tbody>\n",
       "    <tr>\n",
       "      <th>0</th>\n",
       "      <td>kz001800</td>\n",
       "      <td>9.4 tk adi cd</td>\n",
       "    </tr>\n",
       "    <tr>\n",
       "      <th>1</th>\n",
       "      <td>kz001801</td>\n",
       "      <td>9.4 tk adi cd dbkm</td>\n",
       "    </tr>\n",
       "    <tr>\n",
       "      <th>2</th>\n",
       "      <td>kz001802</td>\n",
       "      <td>9.4 tk adi cd mpw2</td>\n",
       "    </tr>\n",
       "    <tr>\n",
       "      <th>3</th>\n",
       "      <td>kz001803</td>\n",
       "      <td>9.4 tk adi cd mpw3</td>\n",
       "    </tr>\n",
       "  </tbody>\n",
       "</table>\n",
       "</div>"
      ],
      "text/plain": [
       "   step_seq           step_desc\n",
       "0  kz001800       9.4 tk adi cd\n",
       "1  kz001801  9.4 tk adi cd dbkm\n",
       "2  kz001802  9.4 tk adi cd mpw2\n",
       "3  kz001803  9.4 tk adi cd mpw3"
      ]
     },
     "execution_count": 3,
     "metadata": {},
     "output_type": "execute_result"
    }
   ],
   "source": [
    "prp"
   ]
  },
  {
   "cell_type": "code",
   "execution_count": 4,
   "metadata": {},
   "outputs": [
    {
     "data": {
      "text/html": [
       "<div>\n",
       "<style>\n",
       "    .dataframe thead tr:only-child th {\n",
       "        text-align: right;\n",
       "    }\n",
       "\n",
       "    .dataframe thead th {\n",
       "        text-align: left;\n",
       "    }\n",
       "\n",
       "    .dataframe tbody tr th {\n",
       "        vertical-align: top;\n",
       "    }\n",
       "</style>\n",
       "<table border=\"1\" class=\"dataframe\">\n",
       "  <thead>\n",
       "    <tr style=\"text-align: right;\">\n",
       "      <th></th>\n",
       "      <th>step_seq</th>\n",
       "      <th>step_desc</th>\n",
       "    </tr>\n",
       "  </thead>\n",
       "  <tbody>\n",
       "    <tr>\n",
       "      <th>0</th>\n",
       "      <td>kz001800EC</td>\n",
       "      <td>9.4 tk adi cd</td>\n",
       "    </tr>\n",
       "    <tr>\n",
       "      <th>1</th>\n",
       "      <td>kz001802EC</td>\n",
       "      <td>9.4 tk adi cd mpw2</td>\n",
       "    </tr>\n",
       "  </tbody>\n",
       "</table>\n",
       "</div>"
      ],
      "text/plain": [
       "     step_seq           step_desc\n",
       "0  kz001800EC       9.4 tk adi cd\n",
       "1  kz001802EC  9.4 tk adi cd mpw2"
      ]
     },
     "execution_count": 4,
     "metadata": {},
     "output_type": "execute_result"
    }
   ],
   "source": [
    "ec"
   ]
  },
  {
   "cell_type": "code",
   "execution_count": 5,
   "metadata": {},
   "outputs": [
    {
     "data": {
      "text/html": [
       "<div>\n",
       "<style>\n",
       "    .dataframe thead tr:only-child th {\n",
       "        text-align: right;\n",
       "    }\n",
       "\n",
       "    .dataframe thead th {\n",
       "        text-align: left;\n",
       "    }\n",
       "\n",
       "    .dataframe tbody tr th {\n",
       "        vertical-align: top;\n",
       "    }\n",
       "</style>\n",
       "<table border=\"1\" class=\"dataframe\">\n",
       "  <thead>\n",
       "    <tr style=\"text-align: right;\">\n",
       "      <th></th>\n",
       "      <th>step_seq</th>\n",
       "      <th>step_desc</th>\n",
       "    </tr>\n",
       "  </thead>\n",
       "  <tbody>\n",
       "    <tr>\n",
       "      <th>0</th>\n",
       "      <td>kz001800</td>\n",
       "      <td>9.4 tk adi cd</td>\n",
       "    </tr>\n",
       "    <tr>\n",
       "      <th>1</th>\n",
       "      <td>kz001801</td>\n",
       "      <td>9.4 tk adi cd dbkm</td>\n",
       "    </tr>\n",
       "    <tr>\n",
       "      <th>2</th>\n",
       "      <td>kz001802</td>\n",
       "      <td>9.4 tk adi cd mpw2</td>\n",
       "    </tr>\n",
       "    <tr>\n",
       "      <th>3</th>\n",
       "      <td>kz001803</td>\n",
       "      <td>9.4 tk adi cd mpw3</td>\n",
       "    </tr>\n",
       "    <tr>\n",
       "      <th>4</th>\n",
       "      <td>kz001800EC</td>\n",
       "      <td>9.4 tk adi cd</td>\n",
       "    </tr>\n",
       "    <tr>\n",
       "      <th>5</th>\n",
       "      <td>kz001802EC</td>\n",
       "      <td>9.4 tk adi cd mpw2</td>\n",
       "    </tr>\n",
       "  </tbody>\n",
       "</table>\n",
       "</div>"
      ],
      "text/plain": [
       "     step_seq           step_desc\n",
       "0    kz001800       9.4 tk adi cd\n",
       "1    kz001801  9.4 tk adi cd dbkm\n",
       "2    kz001802  9.4 tk adi cd mpw2\n",
       "3    kz001803  9.4 tk adi cd mpw3\n",
       "4  kz001800EC       9.4 tk adi cd\n",
       "5  kz001802EC  9.4 tk adi cd mpw2"
      ]
     },
     "execution_count": 5,
     "metadata": {},
     "output_type": "execute_result"
    }
   ],
   "source": [
    "res = pd.concat([prp, ec], ignore_index=True)\n",
    "\n",
    "res"
   ]
  },
  {
   "cell_type": "code",
   "execution_count": 6,
   "metadata": {},
   "outputs": [
    {
     "data": {
      "text/html": [
       "<div>\n",
       "<style>\n",
       "    .dataframe thead tr:only-child th {\n",
       "        text-align: right;\n",
       "    }\n",
       "\n",
       "    .dataframe thead th {\n",
       "        text-align: left;\n",
       "    }\n",
       "\n",
       "    .dataframe tbody tr th {\n",
       "        vertical-align: top;\n",
       "    }\n",
       "</style>\n",
       "<table border=\"1\" class=\"dataframe\">\n",
       "  <thead>\n",
       "    <tr style=\"text-align: right;\">\n",
       "      <th></th>\n",
       "      <th>step_seq</th>\n",
       "      <th>step_desc</th>\n",
       "    </tr>\n",
       "  </thead>\n",
       "  <tbody>\n",
       "    <tr>\n",
       "      <th>0</th>\n",
       "      <td>kz001800</td>\n",
       "      <td>9.4 tk adi cd</td>\n",
       "    </tr>\n",
       "    <tr>\n",
       "      <th>4</th>\n",
       "      <td>kz001800EC</td>\n",
       "      <td>9.4 tk adi cd</td>\n",
       "    </tr>\n",
       "    <tr>\n",
       "      <th>1</th>\n",
       "      <td>kz001801</td>\n",
       "      <td>9.4 tk adi cd dbkm</td>\n",
       "    </tr>\n",
       "    <tr>\n",
       "      <th>2</th>\n",
       "      <td>kz001802</td>\n",
       "      <td>9.4 tk adi cd mpw2</td>\n",
       "    </tr>\n",
       "    <tr>\n",
       "      <th>5</th>\n",
       "      <td>kz001802EC</td>\n",
       "      <td>9.4 tk adi cd mpw2</td>\n",
       "    </tr>\n",
       "    <tr>\n",
       "      <th>3</th>\n",
       "      <td>kz001803</td>\n",
       "      <td>9.4 tk adi cd mpw3</td>\n",
       "    </tr>\n",
       "  </tbody>\n",
       "</table>\n",
       "</div>"
      ],
      "text/plain": [
       "     step_seq           step_desc\n",
       "0    kz001800       9.4 tk adi cd\n",
       "4  kz001800EC       9.4 tk adi cd\n",
       "1    kz001801  9.4 tk adi cd dbkm\n",
       "2    kz001802  9.4 tk adi cd mpw2\n",
       "5  kz001802EC  9.4 tk adi cd mpw2\n",
       "3    kz001803  9.4 tk adi cd mpw3"
      ]
     },
     "execution_count": 6,
     "metadata": {},
     "output_type": "execute_result"
    }
   ],
   "source": [
    "res.sort_values(by=['step_seq'])"
   ]
  },
  {
   "cell_type": "code",
   "execution_count": 7,
   "metadata": {},
   "outputs": [
    {
     "data": {
      "text/html": [
       "<div>\n",
       "<style>\n",
       "    .dataframe thead tr:only-child th {\n",
       "        text-align: right;\n",
       "    }\n",
       "\n",
       "    .dataframe thead th {\n",
       "        text-align: left;\n",
       "    }\n",
       "\n",
       "    .dataframe tbody tr th {\n",
       "        vertical-align: top;\n",
       "    }\n",
       "</style>\n",
       "<table border=\"1\" class=\"dataframe\">\n",
       "  <thead>\n",
       "    <tr style=\"text-align: right;\">\n",
       "      <th></th>\n",
       "      <th>step_seq</th>\n",
       "      <th>lot</th>\n",
       "      <th>wf</th>\n",
       "      <th>ppid</th>\n",
       "    </tr>\n",
       "  </thead>\n",
       "  <tbody>\n",
       "    <tr>\n",
       "      <th>0</th>\n",
       "      <td>kz001800</td>\n",
       "      <td>AZ1XX</td>\n",
       "      <td>1</td>\n",
       "      <td>ppid1</td>\n",
       "    </tr>\n",
       "    <tr>\n",
       "      <th>1</th>\n",
       "      <td>kz001800</td>\n",
       "      <td>AZ1XX</td>\n",
       "      <td>2</td>\n",
       "      <td>ppid1</td>\n",
       "    </tr>\n",
       "    <tr>\n",
       "      <th>2</th>\n",
       "      <td>kz001800</td>\n",
       "      <td>AZ1XX</td>\n",
       "      <td>3</td>\n",
       "      <td>ppid1</td>\n",
       "    </tr>\n",
       "    <tr>\n",
       "      <th>3</th>\n",
       "      <td>kz001800</td>\n",
       "      <td>AZ1XX</td>\n",
       "      <td>4</td>\n",
       "      <td>ppid1</td>\n",
       "    </tr>\n",
       "    <tr>\n",
       "      <th>4</th>\n",
       "      <td>kz001800</td>\n",
       "      <td>AZ1XX</td>\n",
       "      <td>5</td>\n",
       "      <td>ppid1</td>\n",
       "    </tr>\n",
       "    <tr>\n",
       "      <th>5</th>\n",
       "      <td>kz001800EC</td>\n",
       "      <td>AZ1XX</td>\n",
       "      <td>1</td>\n",
       "      <td>a</td>\n",
       "    </tr>\n",
       "    <tr>\n",
       "      <th>6</th>\n",
       "      <td>kz001800EC</td>\n",
       "      <td>AZ1XX</td>\n",
       "      <td>2</td>\n",
       "      <td>a</td>\n",
       "    </tr>\n",
       "    <tr>\n",
       "      <th>7</th>\n",
       "      <td>kz001800EC</td>\n",
       "      <td>AZ1XX</td>\n",
       "      <td>3</td>\n",
       "      <td>a</td>\n",
       "    </tr>\n",
       "    <tr>\n",
       "      <th>8</th>\n",
       "      <td>kz001800EC</td>\n",
       "      <td>AZ1XX</td>\n",
       "      <td>4</td>\n",
       "      <td>a</td>\n",
       "    </tr>\n",
       "    <tr>\n",
       "      <th>9</th>\n",
       "      <td>kz001800EC</td>\n",
       "      <td>AZ1XX</td>\n",
       "      <td>5</td>\n",
       "      <td>b</td>\n",
       "    </tr>\n",
       "  </tbody>\n",
       "</table>\n",
       "</div>"
      ],
      "text/plain": [
       "     step_seq    lot  wf   ppid\n",
       "0    kz001800  AZ1XX   1  ppid1\n",
       "1    kz001800  AZ1XX   2  ppid1\n",
       "2    kz001800  AZ1XX   3  ppid1\n",
       "3    kz001800  AZ1XX   4  ppid1\n",
       "4    kz001800  AZ1XX   5  ppid1\n",
       "5  kz001800EC  AZ1XX   1      a\n",
       "6  kz001800EC  AZ1XX   2      a\n",
       "7  kz001800EC  AZ1XX   3      a\n",
       "8  kz001800EC  AZ1XX   4      a\n",
       "9  kz001800EC  AZ1XX   5      b"
      ]
     },
     "execution_count": 7,
     "metadata": {},
     "output_type": "execute_result"
    }
   ],
   "source": [
    "path = pd.read_excel(\n",
    "    _path,\n",
    "    sheetname='path',\n",
    ")\n",
    "\n",
    "path"
   ]
  },
  {
   "cell_type": "code",
   "execution_count": 11,
   "metadata": {
    "collapsed": true
   },
   "outputs": [],
   "source": [
    "result = pd.merge(res, path, on=['step_seq'], how='inner')"
   ]
  },
  {
   "cell_type": "code",
   "execution_count": 12,
   "metadata": {},
   "outputs": [
    {
     "data": {
      "text/html": [
       "<div>\n",
       "<style>\n",
       "    .dataframe thead tr:only-child th {\n",
       "        text-align: right;\n",
       "    }\n",
       "\n",
       "    .dataframe thead th {\n",
       "        text-align: left;\n",
       "    }\n",
       "\n",
       "    .dataframe tbody tr th {\n",
       "        vertical-align: top;\n",
       "    }\n",
       "</style>\n",
       "<table border=\"1\" class=\"dataframe\">\n",
       "  <thead>\n",
       "    <tr style=\"text-align: right;\">\n",
       "      <th></th>\n",
       "      <th>step_seq</th>\n",
       "      <th>step_desc</th>\n",
       "      <th>lot</th>\n",
       "      <th>wf</th>\n",
       "      <th>ppid</th>\n",
       "    </tr>\n",
       "  </thead>\n",
       "  <tbody>\n",
       "    <tr>\n",
       "      <th>0</th>\n",
       "      <td>kz001800</td>\n",
       "      <td>9.4 tk adi cd</td>\n",
       "      <td>AZ1XX</td>\n",
       "      <td>1</td>\n",
       "      <td>ppid1</td>\n",
       "    </tr>\n",
       "    <tr>\n",
       "      <th>1</th>\n",
       "      <td>kz001800</td>\n",
       "      <td>9.4 tk adi cd</td>\n",
       "      <td>AZ1XX</td>\n",
       "      <td>2</td>\n",
       "      <td>ppid1</td>\n",
       "    </tr>\n",
       "    <tr>\n",
       "      <th>2</th>\n",
       "      <td>kz001800</td>\n",
       "      <td>9.4 tk adi cd</td>\n",
       "      <td>AZ1XX</td>\n",
       "      <td>3</td>\n",
       "      <td>ppid1</td>\n",
       "    </tr>\n",
       "    <tr>\n",
       "      <th>3</th>\n",
       "      <td>kz001800</td>\n",
       "      <td>9.4 tk adi cd</td>\n",
       "      <td>AZ1XX</td>\n",
       "      <td>4</td>\n",
       "      <td>ppid1</td>\n",
       "    </tr>\n",
       "    <tr>\n",
       "      <th>4</th>\n",
       "      <td>kz001800</td>\n",
       "      <td>9.4 tk adi cd</td>\n",
       "      <td>AZ1XX</td>\n",
       "      <td>5</td>\n",
       "      <td>ppid1</td>\n",
       "    </tr>\n",
       "    <tr>\n",
       "      <th>5</th>\n",
       "      <td>kz001800EC</td>\n",
       "      <td>9.4 tk adi cd</td>\n",
       "      <td>AZ1XX</td>\n",
       "      <td>1</td>\n",
       "      <td>a</td>\n",
       "    </tr>\n",
       "    <tr>\n",
       "      <th>6</th>\n",
       "      <td>kz001800EC</td>\n",
       "      <td>9.4 tk adi cd</td>\n",
       "      <td>AZ1XX</td>\n",
       "      <td>2</td>\n",
       "      <td>a</td>\n",
       "    </tr>\n",
       "    <tr>\n",
       "      <th>7</th>\n",
       "      <td>kz001800EC</td>\n",
       "      <td>9.4 tk adi cd</td>\n",
       "      <td>AZ1XX</td>\n",
       "      <td>3</td>\n",
       "      <td>a</td>\n",
       "    </tr>\n",
       "    <tr>\n",
       "      <th>8</th>\n",
       "      <td>kz001800EC</td>\n",
       "      <td>9.4 tk adi cd</td>\n",
       "      <td>AZ1XX</td>\n",
       "      <td>4</td>\n",
       "      <td>a</td>\n",
       "    </tr>\n",
       "    <tr>\n",
       "      <th>9</th>\n",
       "      <td>kz001800EC</td>\n",
       "      <td>9.4 tk adi cd</td>\n",
       "      <td>AZ1XX</td>\n",
       "      <td>5</td>\n",
       "      <td>b</td>\n",
       "    </tr>\n",
       "  </tbody>\n",
       "</table>\n",
       "</div>"
      ],
      "text/plain": [
       "     step_seq      step_desc    lot  wf   ppid\n",
       "0    kz001800  9.4 tk adi cd  AZ1XX   1  ppid1\n",
       "1    kz001800  9.4 tk adi cd  AZ1XX   2  ppid1\n",
       "2    kz001800  9.4 tk adi cd  AZ1XX   3  ppid1\n",
       "3    kz001800  9.4 tk adi cd  AZ1XX   4  ppid1\n",
       "4    kz001800  9.4 tk adi cd  AZ1XX   5  ppid1\n",
       "5  kz001800EC  9.4 tk adi cd  AZ1XX   1      a\n",
       "6  kz001800EC  9.4 tk adi cd  AZ1XX   2      a\n",
       "7  kz001800EC  9.4 tk adi cd  AZ1XX   3      a\n",
       "8  kz001800EC  9.4 tk adi cd  AZ1XX   4      a\n",
       "9  kz001800EC  9.4 tk adi cd  AZ1XX   5      b"
      ]
     },
     "execution_count": 12,
     "metadata": {},
     "output_type": "execute_result"
    }
   ],
   "source": [
    "result"
   ]
  },
  {
   "cell_type": "markdown",
   "metadata": {},
   "source": [
    "## remove skip step information"
   ]
  },
  {
   "cell_type": "code",
   "execution_count": 13,
   "metadata": {},
   "outputs": [
    {
     "data": {
      "text/html": [
       "<div>\n",
       "<style>\n",
       "    .dataframe thead tr:only-child th {\n",
       "        text-align: right;\n",
       "    }\n",
       "\n",
       "    .dataframe thead th {\n",
       "        text-align: left;\n",
       "    }\n",
       "\n",
       "    .dataframe tbody tr th {\n",
       "        vertical-align: top;\n",
       "    }\n",
       "</style>\n",
       "<table border=\"1\" class=\"dataframe\">\n",
       "  <thead>\n",
       "    <tr style=\"text-align: right;\">\n",
       "      <th></th>\n",
       "      <th>step_seq</th>\n",
       "      <th>step_desc</th>\n",
       "      <th>lot</th>\n",
       "      <th>wf</th>\n",
       "      <th>ppid</th>\n",
       "    </tr>\n",
       "  </thead>\n",
       "  <tbody>\n",
       "    <tr>\n",
       "      <th>5</th>\n",
       "      <td>kz001800EC</td>\n",
       "      <td>9.4 tk adi cd</td>\n",
       "      <td>AZ1XX</td>\n",
       "      <td>1</td>\n",
       "      <td>a</td>\n",
       "    </tr>\n",
       "    <tr>\n",
       "      <th>6</th>\n",
       "      <td>kz001800EC</td>\n",
       "      <td>9.4 tk adi cd</td>\n",
       "      <td>AZ1XX</td>\n",
       "      <td>2</td>\n",
       "      <td>a</td>\n",
       "    </tr>\n",
       "    <tr>\n",
       "      <th>7</th>\n",
       "      <td>kz001800EC</td>\n",
       "      <td>9.4 tk adi cd</td>\n",
       "      <td>AZ1XX</td>\n",
       "      <td>3</td>\n",
       "      <td>a</td>\n",
       "    </tr>\n",
       "    <tr>\n",
       "      <th>8</th>\n",
       "      <td>kz001800EC</td>\n",
       "      <td>9.4 tk adi cd</td>\n",
       "      <td>AZ1XX</td>\n",
       "      <td>4</td>\n",
       "      <td>a</td>\n",
       "    </tr>\n",
       "    <tr>\n",
       "      <th>9</th>\n",
       "      <td>kz001800EC</td>\n",
       "      <td>9.4 tk adi cd</td>\n",
       "      <td>AZ1XX</td>\n",
       "      <td>5</td>\n",
       "      <td>b</td>\n",
       "    </tr>\n",
       "  </tbody>\n",
       "</table>\n",
       "</div>"
      ],
      "text/plain": [
       "     step_seq      step_desc    lot  wf ppid\n",
       "5  kz001800EC  9.4 tk adi cd  AZ1XX   1    a\n",
       "6  kz001800EC  9.4 tk adi cd  AZ1XX   2    a\n",
       "7  kz001800EC  9.4 tk adi cd  AZ1XX   3    a\n",
       "8  kz001800EC  9.4 tk adi cd  AZ1XX   4    a\n",
       "9  kz001800EC  9.4 tk adi cd  AZ1XX   5    b"
      ]
     },
     "execution_count": 13,
     "metadata": {},
     "output_type": "execute_result"
    }
   ],
   "source": [
    "result = result[result['ppid'] != 'ppid1']\n",
    "\n",
    "result"
   ]
  },
  {
   "cell_type": "code",
   "execution_count": null,
   "metadata": {
    "collapsed": true
   },
   "outputs": [],
   "source": []
  },
  {
   "cell_type": "code",
   "execution_count": null,
   "metadata": {
    "collapsed": true
   },
   "outputs": [],
   "source": []
  },
  {
   "cell_type": "code",
   "execution_count": null,
   "metadata": {
    "collapsed": true
   },
   "outputs": [],
   "source": []
  },
  {
   "cell_type": "code",
   "execution_count": null,
   "metadata": {
    "collapsed": true
   },
   "outputs": [],
   "source": []
  },
  {
   "cell_type": "code",
   "execution_count": null,
   "metadata": {
    "collapsed": true
   },
   "outputs": [],
   "source": []
  },
  {
   "cell_type": "code",
   "execution_count": null,
   "metadata": {
    "collapsed": true
   },
   "outputs": [],
   "source": []
  },
  {
   "cell_type": "code",
   "execution_count": null,
   "metadata": {
    "collapsed": true
   },
   "outputs": [],
   "source": []
  },
  {
   "cell_type": "code",
   "execution_count": null,
   "metadata": {
    "collapsed": true
   },
   "outputs": [],
   "source": []
  },
  {
   "cell_type": "code",
   "execution_count": null,
   "metadata": {
    "collapsed": true
   },
   "outputs": [],
   "source": []
  },
  {
   "cell_type": "code",
   "execution_count": null,
   "metadata": {
    "collapsed": true
   },
   "outputs": [],
   "source": []
  },
  {
   "cell_type": "code",
   "execution_count": null,
   "metadata": {
    "collapsed": true
   },
   "outputs": [],
   "source": []
  },
  {
   "cell_type": "code",
   "execution_count": null,
   "metadata": {
    "collapsed": true
   },
   "outputs": [],
   "source": []
  }
 ],
 "metadata": {
  "kernelspec": {
   "display_name": "Python 3",
   "language": "python",
   "name": "python3"
  },
  "language_info": {
   "codemirror_mode": {
    "name": "ipython",
    "version": 3
   },
   "file_extension": ".py",
   "mimetype": "text/x-python",
   "name": "python",
   "nbconvert_exporter": "python",
   "pygments_lexer": "ipython3",
   "version": "3.6.3"
  }
 },
 "nbformat": 4,
 "nbformat_minor": 2
}
