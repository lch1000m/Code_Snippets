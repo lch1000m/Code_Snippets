{
 "cells": [
  {
   "cell_type": "markdown",
   "metadata": {},
   "source": [
    "# Correlator"
   ]
  },
  {
   "cell_type": "markdown",
   "metadata": {},
   "source": [
    "---"
   ]
  },
  {
   "cell_type": "markdown",
   "metadata": {},
   "source": [
    "# Table of Contents"
   ]
  },
  {
   "cell_type": "markdown",
   "metadata": {},
   "source": [
    "### 1. Anova"
   ]
  },
  {
   "cell_type": "markdown",
   "metadata": {},
   "source": [
    "- [anova output handling](#anova_out)"
   ]
  },
  {
   "cell_type": "markdown",
   "metadata": {},
   "source": [
    "### 2. Inter-Vehicle monitoring"
   ]
  },
  {
   "cell_type": "markdown",
   "metadata": {},
   "source": [
    "- [inter-vehicle integration](#it_v_integ)"
   ]
  },
  {
   "cell_type": "markdown",
   "metadata": {},
   "source": [
    "<br><br><br><br><br><br><br><br><br><br><br><br><br><br><br><br><br>"
   ]
  },
  {
   "cell_type": "markdown",
   "metadata": {},
   "source": [
    "---"
   ]
  },
  {
   "cell_type": "markdown",
   "metadata": {},
   "source": [
    "<a id=\"anova_out\"></a>"
   ]
  },
  {
   "cell_type": "markdown",
   "metadata": {},
   "source": [
    "# Anova Ouput"
   ]
  },
  {
   "cell_type": "code",
   "execution_count": 1,
   "metadata": {
    "collapsed": true
   },
   "outputs": [],
   "source": [
    "import pandas as pd"
   ]
  },
  {
   "cell_type": "code",
   "execution_count": 4,
   "metadata": {},
   "outputs": [
    {
     "data": {
      "text/html": [
       "<div>\n",
       "<style>\n",
       "    .dataframe thead tr:only-child th {\n",
       "        text-align: right;\n",
       "    }\n",
       "\n",
       "    .dataframe thead th {\n",
       "        text-align: left;\n",
       "    }\n",
       "\n",
       "    .dataframe tbody tr th {\n",
       "        vertical-align: top;\n",
       "    }\n",
       "</style>\n",
       "<table border=\"1\" class=\"dataframe\">\n",
       "  <thead>\n",
       "    <tr style=\"text-align: right;\">\n",
       "      <th></th>\n",
       "      <th>rank</th>\n",
       "      <th>item</th>\n",
       "      <th>step</th>\n",
       "    </tr>\n",
       "  </thead>\n",
       "  <tbody>\n",
       "    <tr>\n",
       "      <th>0</th>\n",
       "      <td>1</td>\n",
       "      <td>CD1</td>\n",
       "      <td>A</td>\n",
       "    </tr>\n",
       "    <tr>\n",
       "      <th>1</th>\n",
       "      <td>2</td>\n",
       "      <td>CD1</td>\n",
       "      <td>B</td>\n",
       "    </tr>\n",
       "    <tr>\n",
       "      <th>2</th>\n",
       "      <td>3</td>\n",
       "      <td>CD1</td>\n",
       "      <td>C</td>\n",
       "    </tr>\n",
       "  </tbody>\n",
       "</table>\n",
       "</div>"
      ],
      "text/plain": [
       "   rank item step\n",
       "0     1  CD1    A\n",
       "1     2  CD1    B\n",
       "2     3  CD1    C"
      ]
     },
     "execution_count": 4,
     "metadata": {},
     "output_type": "execute_result"
    }
   ],
   "source": [
    "anova_outout = pd.read_table(\n",
    "    r'C:\\Codes\\Snippets\\Correlator\\output.txt',\n",
    ")\n",
    "\n",
    "anova_outout"
   ]
  },
  {
   "cell_type": "code",
   "execution_count": 5,
   "metadata": {},
   "outputs": [
    {
     "data": {
      "text/html": [
       "<div>\n",
       "<style>\n",
       "    .dataframe thead tr:only-child th {\n",
       "        text-align: right;\n",
       "    }\n",
       "\n",
       "    .dataframe thead th {\n",
       "        text-align: left;\n",
       "    }\n",
       "\n",
       "    .dataframe tbody tr th {\n",
       "        vertical-align: top;\n",
       "    }\n",
       "</style>\n",
       "<table border=\"1\" class=\"dataframe\">\n",
       "  <thead>\n",
       "    <tr style=\"text-align: right;\">\n",
       "      <th></th>\n",
       "      <th>lot_wf</th>\n",
       "      <th>item</th>\n",
       "      <th>sub</th>\n",
       "      <th>value</th>\n",
       "    </tr>\n",
       "  </thead>\n",
       "  <tbody>\n",
       "    <tr>\n",
       "      <th>0</th>\n",
       "      <td>0xx</td>\n",
       "      <td>CD1</td>\n",
       "      <td>s1</td>\n",
       "      <td>100</td>\n",
       "    </tr>\n",
       "    <tr>\n",
       "      <th>1</th>\n",
       "      <td>0xx</td>\n",
       "      <td>CD1</td>\n",
       "      <td>s2</td>\n",
       "      <td>98</td>\n",
       "    </tr>\n",
       "    <tr>\n",
       "      <th>2</th>\n",
       "      <td>0xx</td>\n",
       "      <td>CD1</td>\n",
       "      <td>s3</td>\n",
       "      <td>99</td>\n",
       "    </tr>\n",
       "    <tr>\n",
       "      <th>3</th>\n",
       "      <td>196</td>\n",
       "      <td>CD1</td>\n",
       "      <td>s1</td>\n",
       "      <td>75</td>\n",
       "    </tr>\n",
       "    <tr>\n",
       "      <th>4</th>\n",
       "      <td>196</td>\n",
       "      <td>CD1</td>\n",
       "      <td>s2</td>\n",
       "      <td>82</td>\n",
       "    </tr>\n",
       "    <tr>\n",
       "      <th>5</th>\n",
       "      <td>196</td>\n",
       "      <td>CD1</td>\n",
       "      <td>s3</td>\n",
       "      <td>86</td>\n",
       "    </tr>\n",
       "  </tbody>\n",
       "</table>\n",
       "</div>"
      ],
      "text/plain": [
       "  lot_wf item sub  value\n",
       "0    0xx  CD1  s1    100\n",
       "1    0xx  CD1  s2     98\n",
       "2    0xx  CD1  s3     99\n",
       "3    196  CD1  s1     75\n",
       "4    196  CD1  s2     82\n",
       "5    196  CD1  s3     86"
      ]
     },
     "execution_count": 5,
     "metadata": {},
     "output_type": "execute_result"
    }
   ],
   "source": [
    "item = pd.read_table(\n",
    "    r'C:\\Codes\\Snippets\\Correlator\\item.txt',\n",
    ")\n",
    "\n",
    "item"
   ]
  },
  {
   "cell_type": "code",
   "execution_count": 6,
   "metadata": {},
   "outputs": [
    {
     "data": {
      "text/html": [
       "<div>\n",
       "<style>\n",
       "    .dataframe thead tr:only-child th {\n",
       "        text-align: right;\n",
       "    }\n",
       "\n",
       "    .dataframe thead th {\n",
       "        text-align: left;\n",
       "    }\n",
       "\n",
       "    .dataframe tbody tr th {\n",
       "        vertical-align: top;\n",
       "    }\n",
       "</style>\n",
       "<table border=\"1\" class=\"dataframe\">\n",
       "  <thead>\n",
       "    <tr style=\"text-align: right;\">\n",
       "      <th></th>\n",
       "      <th>lot_wf</th>\n",
       "      <th>step</th>\n",
       "      <th>ppid</th>\n",
       "    </tr>\n",
       "  </thead>\n",
       "  <tbody>\n",
       "    <tr>\n",
       "      <th>0</th>\n",
       "      <td>0xx</td>\n",
       "      <td>A</td>\n",
       "      <td>a</td>\n",
       "    </tr>\n",
       "    <tr>\n",
       "      <th>1</th>\n",
       "      <td>0xx</td>\n",
       "      <td>B</td>\n",
       "      <td>a</td>\n",
       "    </tr>\n",
       "    <tr>\n",
       "      <th>2</th>\n",
       "      <td>0xx</td>\n",
       "      <td>C</td>\n",
       "      <td>b</td>\n",
       "    </tr>\n",
       "    <tr>\n",
       "      <th>3</th>\n",
       "      <td>196</td>\n",
       "      <td>A</td>\n",
       "      <td>b</td>\n",
       "    </tr>\n",
       "    <tr>\n",
       "      <th>4</th>\n",
       "      <td>196</td>\n",
       "      <td>B</td>\n",
       "      <td>c</td>\n",
       "    </tr>\n",
       "    <tr>\n",
       "      <th>5</th>\n",
       "      <td>196</td>\n",
       "      <td>C</td>\n",
       "      <td>a</td>\n",
       "    </tr>\n",
       "  </tbody>\n",
       "</table>\n",
       "</div>"
      ],
      "text/plain": [
       "  lot_wf step ppid\n",
       "0    0xx    A    a\n",
       "1    0xx    B    a\n",
       "2    0xx    C    b\n",
       "3    196    A    b\n",
       "4    196    B    c\n",
       "5    196    C    a"
      ]
     },
     "execution_count": 6,
     "metadata": {},
     "output_type": "execute_result"
    }
   ],
   "source": [
    "path = pd.read_table(\n",
    "    r'C:\\Codes\\Snippets\\Correlator\\path.txt',\n",
    ")\n",
    "\n",
    "path"
   ]
  },
  {
   "cell_type": "markdown",
   "metadata": {},
   "source": [
    "## merge outpus"
   ]
  },
  {
   "cell_type": "code",
   "execution_count": 7,
   "metadata": {
    "collapsed": true
   },
   "outputs": [],
   "source": [
    "res = pd.merge(anova_outout, item, on=['item'], how='left')"
   ]
  },
  {
   "cell_type": "code",
   "execution_count": 8,
   "metadata": {
    "collapsed": true
   },
   "outputs": [],
   "source": [
    "res = pd.merge(res, path, on=['lot_wf','step'], how='left')"
   ]
  },
  {
   "cell_type": "markdown",
   "metadata": {},
   "source": [
    "## data output successfully merged"
   ]
  },
  {
   "cell_type": "code",
   "execution_count": 9,
   "metadata": {
    "scrolled": true
   },
   "outputs": [
    {
     "data": {
      "text/html": [
       "<div>\n",
       "<style>\n",
       "    .dataframe thead tr:only-child th {\n",
       "        text-align: right;\n",
       "    }\n",
       "\n",
       "    .dataframe thead th {\n",
       "        text-align: left;\n",
       "    }\n",
       "\n",
       "    .dataframe tbody tr th {\n",
       "        vertical-align: top;\n",
       "    }\n",
       "</style>\n",
       "<table border=\"1\" class=\"dataframe\">\n",
       "  <thead>\n",
       "    <tr style=\"text-align: right;\">\n",
       "      <th></th>\n",
       "      <th>rank</th>\n",
       "      <th>item</th>\n",
       "      <th>step</th>\n",
       "      <th>lot_wf</th>\n",
       "      <th>sub</th>\n",
       "      <th>value</th>\n",
       "      <th>ppid</th>\n",
       "    </tr>\n",
       "  </thead>\n",
       "  <tbody>\n",
       "    <tr>\n",
       "      <th>0</th>\n",
       "      <td>1</td>\n",
       "      <td>CD1</td>\n",
       "      <td>A</td>\n",
       "      <td>0xx</td>\n",
       "      <td>s1</td>\n",
       "      <td>100</td>\n",
       "      <td>a</td>\n",
       "    </tr>\n",
       "    <tr>\n",
       "      <th>1</th>\n",
       "      <td>1</td>\n",
       "      <td>CD1</td>\n",
       "      <td>A</td>\n",
       "      <td>0xx</td>\n",
       "      <td>s2</td>\n",
       "      <td>98</td>\n",
       "      <td>a</td>\n",
       "    </tr>\n",
       "    <tr>\n",
       "      <th>2</th>\n",
       "      <td>1</td>\n",
       "      <td>CD1</td>\n",
       "      <td>A</td>\n",
       "      <td>0xx</td>\n",
       "      <td>s3</td>\n",
       "      <td>99</td>\n",
       "      <td>a</td>\n",
       "    </tr>\n",
       "    <tr>\n",
       "      <th>3</th>\n",
       "      <td>1</td>\n",
       "      <td>CD1</td>\n",
       "      <td>A</td>\n",
       "      <td>196</td>\n",
       "      <td>s1</td>\n",
       "      <td>75</td>\n",
       "      <td>b</td>\n",
       "    </tr>\n",
       "    <tr>\n",
       "      <th>4</th>\n",
       "      <td>1</td>\n",
       "      <td>CD1</td>\n",
       "      <td>A</td>\n",
       "      <td>196</td>\n",
       "      <td>s2</td>\n",
       "      <td>82</td>\n",
       "      <td>b</td>\n",
       "    </tr>\n",
       "    <tr>\n",
       "      <th>5</th>\n",
       "      <td>1</td>\n",
       "      <td>CD1</td>\n",
       "      <td>A</td>\n",
       "      <td>196</td>\n",
       "      <td>s3</td>\n",
       "      <td>86</td>\n",
       "      <td>b</td>\n",
       "    </tr>\n",
       "    <tr>\n",
       "      <th>6</th>\n",
       "      <td>2</td>\n",
       "      <td>CD1</td>\n",
       "      <td>B</td>\n",
       "      <td>0xx</td>\n",
       "      <td>s1</td>\n",
       "      <td>100</td>\n",
       "      <td>a</td>\n",
       "    </tr>\n",
       "    <tr>\n",
       "      <th>7</th>\n",
       "      <td>2</td>\n",
       "      <td>CD1</td>\n",
       "      <td>B</td>\n",
       "      <td>0xx</td>\n",
       "      <td>s2</td>\n",
       "      <td>98</td>\n",
       "      <td>a</td>\n",
       "    </tr>\n",
       "    <tr>\n",
       "      <th>8</th>\n",
       "      <td>2</td>\n",
       "      <td>CD1</td>\n",
       "      <td>B</td>\n",
       "      <td>0xx</td>\n",
       "      <td>s3</td>\n",
       "      <td>99</td>\n",
       "      <td>a</td>\n",
       "    </tr>\n",
       "    <tr>\n",
       "      <th>9</th>\n",
       "      <td>2</td>\n",
       "      <td>CD1</td>\n",
       "      <td>B</td>\n",
       "      <td>196</td>\n",
       "      <td>s1</td>\n",
       "      <td>75</td>\n",
       "      <td>c</td>\n",
       "    </tr>\n",
       "    <tr>\n",
       "      <th>10</th>\n",
       "      <td>2</td>\n",
       "      <td>CD1</td>\n",
       "      <td>B</td>\n",
       "      <td>196</td>\n",
       "      <td>s2</td>\n",
       "      <td>82</td>\n",
       "      <td>c</td>\n",
       "    </tr>\n",
       "    <tr>\n",
       "      <th>11</th>\n",
       "      <td>2</td>\n",
       "      <td>CD1</td>\n",
       "      <td>B</td>\n",
       "      <td>196</td>\n",
       "      <td>s3</td>\n",
       "      <td>86</td>\n",
       "      <td>c</td>\n",
       "    </tr>\n",
       "    <tr>\n",
       "      <th>12</th>\n",
       "      <td>3</td>\n",
       "      <td>CD1</td>\n",
       "      <td>C</td>\n",
       "      <td>0xx</td>\n",
       "      <td>s1</td>\n",
       "      <td>100</td>\n",
       "      <td>b</td>\n",
       "    </tr>\n",
       "    <tr>\n",
       "      <th>13</th>\n",
       "      <td>3</td>\n",
       "      <td>CD1</td>\n",
       "      <td>C</td>\n",
       "      <td>0xx</td>\n",
       "      <td>s2</td>\n",
       "      <td>98</td>\n",
       "      <td>b</td>\n",
       "    </tr>\n",
       "    <tr>\n",
       "      <th>14</th>\n",
       "      <td>3</td>\n",
       "      <td>CD1</td>\n",
       "      <td>C</td>\n",
       "      <td>0xx</td>\n",
       "      <td>s3</td>\n",
       "      <td>99</td>\n",
       "      <td>b</td>\n",
       "    </tr>\n",
       "    <tr>\n",
       "      <th>15</th>\n",
       "      <td>3</td>\n",
       "      <td>CD1</td>\n",
       "      <td>C</td>\n",
       "      <td>196</td>\n",
       "      <td>s1</td>\n",
       "      <td>75</td>\n",
       "      <td>a</td>\n",
       "    </tr>\n",
       "    <tr>\n",
       "      <th>16</th>\n",
       "      <td>3</td>\n",
       "      <td>CD1</td>\n",
       "      <td>C</td>\n",
       "      <td>196</td>\n",
       "      <td>s2</td>\n",
       "      <td>82</td>\n",
       "      <td>a</td>\n",
       "    </tr>\n",
       "    <tr>\n",
       "      <th>17</th>\n",
       "      <td>3</td>\n",
       "      <td>CD1</td>\n",
       "      <td>C</td>\n",
       "      <td>196</td>\n",
       "      <td>s3</td>\n",
       "      <td>86</td>\n",
       "      <td>a</td>\n",
       "    </tr>\n",
       "  </tbody>\n",
       "</table>\n",
       "</div>"
      ],
      "text/plain": [
       "    rank item step lot_wf sub  value ppid\n",
       "0      1  CD1    A    0xx  s1    100    a\n",
       "1      1  CD1    A    0xx  s2     98    a\n",
       "2      1  CD1    A    0xx  s3     99    a\n",
       "3      1  CD1    A    196  s1     75    b\n",
       "4      1  CD1    A    196  s2     82    b\n",
       "5      1  CD1    A    196  s3     86    b\n",
       "6      2  CD1    B    0xx  s1    100    a\n",
       "7      2  CD1    B    0xx  s2     98    a\n",
       "8      2  CD1    B    0xx  s3     99    a\n",
       "9      2  CD1    B    196  s1     75    c\n",
       "10     2  CD1    B    196  s2     82    c\n",
       "11     2  CD1    B    196  s3     86    c\n",
       "12     3  CD1    C    0xx  s1    100    b\n",
       "13     3  CD1    C    0xx  s2     98    b\n",
       "14     3  CD1    C    0xx  s3     99    b\n",
       "15     3  CD1    C    196  s1     75    a\n",
       "16     3  CD1    C    196  s2     82    a\n",
       "17     3  CD1    C    196  s3     86    a"
      ]
     },
     "execution_count": 9,
     "metadata": {},
     "output_type": "execute_result"
    }
   ],
   "source": [
    "res"
   ]
  },
  {
   "cell_type": "markdown",
   "metadata": {
    "collapsed": true
   },
   "source": [
    "---"
   ]
  },
  {
   "cell_type": "markdown",
   "metadata": {
    "collapsed": true
   },
   "source": [
    "<a id=\"it_v_integ\"></a>"
   ]
  },
  {
   "cell_type": "markdown",
   "metadata": {},
   "source": [
    "# Inter-Vehicle Integration"
   ]
  },
  {
   "cell_type": "code",
   "execution_count": 3,
   "metadata": {
    "collapsed": true
   },
   "outputs": [],
   "source": [
    "import pandas as pd"
   ]
  },
  {
   "cell_type": "code",
   "execution_count": 39,
   "metadata": {},
   "outputs": [],
   "source": [
    "raw_df = pd.read_table(r'C:\\Codes\\Snippets\\Correlator\\inter vehicle raw.txt')\n",
    "criteria = pd.read_table(r'C:\\Codes\\Snippets\\Correlator\\inter vehicle criteria.txt')"
   ]
  },
  {
   "cell_type": "code",
   "execution_count": 40,
   "metadata": {},
   "outputs": [
    {
     "data": {
      "text/html": [
       "<div>\n",
       "<style>\n",
       "    .dataframe thead tr:only-child th {\n",
       "        text-align: right;\n",
       "    }\n",
       "\n",
       "    .dataframe thead th {\n",
       "        text-align: left;\n",
       "    }\n",
       "\n",
       "    .dataframe tbody tr th {\n",
       "        vertical-align: top;\n",
       "    }\n",
       "</style>\n",
       "<table border=\"1\" class=\"dataframe\">\n",
       "  <thead>\n",
       "    <tr style=\"text-align: right;\">\n",
       "      <th></th>\n",
       "      <th>step_seq</th>\n",
       "      <th>step_desc</th>\n",
       "      <th>item</th>\n",
       "      <th>value</th>\n",
       "    </tr>\n",
       "  </thead>\n",
       "  <tbody>\n",
       "    <tr>\n",
       "      <th>0</th>\n",
       "      <td>kz900</td>\n",
       "      <td>9.5 esige</td>\n",
       "      <td>CD1</td>\n",
       "      <td>0.076518</td>\n",
       "    </tr>\n",
       "    <tr>\n",
       "      <th>1</th>\n",
       "      <td>kz900</td>\n",
       "      <td>9.5 esige</td>\n",
       "      <td>CD2</td>\n",
       "      <td>0.277317</td>\n",
       "    </tr>\n",
       "    <tr>\n",
       "      <th>2</th>\n",
       "      <td>kz900</td>\n",
       "      <td>9.5 esige</td>\n",
       "      <td>CD3</td>\n",
       "      <td>0.233110</td>\n",
       "    </tr>\n",
       "    <tr>\n",
       "      <th>3</th>\n",
       "      <td>kz900</td>\n",
       "      <td>9.5 esige</td>\n",
       "      <td>CD4</td>\n",
       "      <td>0.032080</td>\n",
       "    </tr>\n",
       "    <tr>\n",
       "      <th>4</th>\n",
       "      <td>kz900</td>\n",
       "      <td>9.5 esige</td>\n",
       "      <td>CD5</td>\n",
       "      <td>0.448799</td>\n",
       "    </tr>\n",
       "    <tr>\n",
       "      <th>5</th>\n",
       "      <td>kz900</td>\n",
       "      <td>9.5 esige</td>\n",
       "      <td>CD6</td>\n",
       "      <td>0.003331</td>\n",
       "    </tr>\n",
       "    <tr>\n",
       "      <th>6</th>\n",
       "      <td>kz901</td>\n",
       "      <td>9.5 esige @MPW2</td>\n",
       "      <td>CD1</td>\n",
       "      <td>0.426568</td>\n",
       "    </tr>\n",
       "    <tr>\n",
       "      <th>7</th>\n",
       "      <td>kz901</td>\n",
       "      <td>9.5 esige @MPW2</td>\n",
       "      <td>CD2</td>\n",
       "      <td>0.034974</td>\n",
       "    </tr>\n",
       "    <tr>\n",
       "      <th>8</th>\n",
       "      <td>kz901</td>\n",
       "      <td>9.5 esige @MPW2</td>\n",
       "      <td>CD3</td>\n",
       "      <td>0.834206</td>\n",
       "    </tr>\n",
       "    <tr>\n",
       "      <th>9</th>\n",
       "      <td>kz901</td>\n",
       "      <td>9.5 esige @MPW2</td>\n",
       "      <td>CD4</td>\n",
       "      <td>0.113713</td>\n",
       "    </tr>\n",
       "    <tr>\n",
       "      <th>10</th>\n",
       "      <td>kz901</td>\n",
       "      <td>9.5 esige @MPW2</td>\n",
       "      <td>CD5</td>\n",
       "      <td>0.239632</td>\n",
       "    </tr>\n",
       "    <tr>\n",
       "      <th>11</th>\n",
       "      <td>kz901</td>\n",
       "      <td>9.5 esige @MPW2</td>\n",
       "      <td>CD6</td>\n",
       "      <td>0.773667</td>\n",
       "    </tr>\n",
       "  </tbody>\n",
       "</table>\n",
       "</div>"
      ],
      "text/plain": [
       "   step_seq        step_desc item     value\n",
       "0     kz900        9.5 esige  CD1  0.076518\n",
       "1     kz900        9.5 esige  CD2  0.277317\n",
       "2     kz900        9.5 esige  CD3  0.233110\n",
       "3     kz900        9.5 esige  CD4  0.032080\n",
       "4     kz900        9.5 esige  CD5  0.448799\n",
       "5     kz900        9.5 esige  CD6  0.003331\n",
       "6     kz901  9.5 esige @MPW2  CD1  0.426568\n",
       "7     kz901  9.5 esige @MPW2  CD2  0.034974\n",
       "8     kz901  9.5 esige @MPW2  CD3  0.834206\n",
       "9     kz901  9.5 esige @MPW2  CD4  0.113713\n",
       "10    kz901  9.5 esige @MPW2  CD5  0.239632\n",
       "11    kz901  9.5 esige @MPW2  CD6  0.773667"
      ]
     },
     "execution_count": 40,
     "metadata": {},
     "output_type": "execute_result"
    }
   ],
   "source": [
    "raw_df"
   ]
  },
  {
   "cell_type": "code",
   "execution_count": 41,
   "metadata": {},
   "outputs": [
    {
     "data": {
      "text/html": [
       "<div>\n",
       "<style>\n",
       "    .dataframe thead tr:only-child th {\n",
       "        text-align: right;\n",
       "    }\n",
       "\n",
       "    .dataframe thead th {\n",
       "        text-align: left;\n",
       "    }\n",
       "\n",
       "    .dataframe tbody tr th {\n",
       "        vertical-align: top;\n",
       "    }\n",
       "</style>\n",
       "<table border=\"1\" class=\"dataframe\">\n",
       "  <thead>\n",
       "    <tr style=\"text-align: right;\">\n",
       "      <th></th>\n",
       "      <th>step_desc</th>\n",
       "      <th>KNGF</th>\n",
       "      <th>KNGN</th>\n",
       "      <th>KNGG</th>\n",
       "    </tr>\n",
       "  </thead>\n",
       "  <tbody>\n",
       "    <tr>\n",
       "      <th>0</th>\n",
       "      <td>9.5 esige</td>\n",
       "      <td>kz900</td>\n",
       "      <td>kz901</td>\n",
       "      <td>kz902</td>\n",
       "    </tr>\n",
       "  </tbody>\n",
       "</table>\n",
       "</div>"
      ],
      "text/plain": [
       "   step_desc   KNGF   KNGN   KNGG\n",
       "0  9.5 esige  kz900  kz901  kz902"
      ]
     },
     "execution_count": 41,
     "metadata": {},
     "output_type": "execute_result"
    }
   ],
   "source": [
    "criteria"
   ]
  },
  {
   "cell_type": "code",
   "execution_count": 54,
   "metadata": {
    "collapsed": true
   },
   "outputs": [],
   "source": [
    "# set reference process_id\n",
    "ref = 'KNGF'"
   ]
  },
  {
   "cell_type": "code",
   "execution_count": 43,
   "metadata": {},
   "outputs": [],
   "source": [
    "criteria.set_index(['step_desc',ref], inplace=True)"
   ]
  },
  {
   "cell_type": "code",
   "execution_count": 44,
   "metadata": {},
   "outputs": [
    {
     "data": {
      "text/html": [
       "<div>\n",
       "<style>\n",
       "    .dataframe thead tr:only-child th {\n",
       "        text-align: right;\n",
       "    }\n",
       "\n",
       "    .dataframe thead th {\n",
       "        text-align: left;\n",
       "    }\n",
       "\n",
       "    .dataframe tbody tr th {\n",
       "        vertical-align: top;\n",
       "    }\n",
       "</style>\n",
       "<table border=\"1\" class=\"dataframe\">\n",
       "  <thead>\n",
       "    <tr style=\"text-align: right;\">\n",
       "      <th></th>\n",
       "      <th></th>\n",
       "      <th>KNGN</th>\n",
       "      <th>KNGG</th>\n",
       "    </tr>\n",
       "    <tr>\n",
       "      <th>step_desc</th>\n",
       "      <th>KNGF</th>\n",
       "      <th></th>\n",
       "      <th></th>\n",
       "    </tr>\n",
       "  </thead>\n",
       "  <tbody>\n",
       "    <tr>\n",
       "      <th>9.5 esige</th>\n",
       "      <th>kz900</th>\n",
       "      <td>kz901</td>\n",
       "      <td>kz902</td>\n",
       "    </tr>\n",
       "  </tbody>\n",
       "</table>\n",
       "</div>"
      ],
      "text/plain": [
       "                  KNGN   KNGG\n",
       "step_desc KNGF               \n",
       "9.5 esige kz900  kz901  kz902"
      ]
     },
     "execution_count": 44,
     "metadata": {},
     "output_type": "execute_result"
    }
   ],
   "source": [
    "criteria"
   ]
  },
  {
   "cell_type": "code",
   "execution_count": 45,
   "metadata": {},
   "outputs": [
    {
     "data": {
      "text/plain": [
       "step_desc  KNGF       \n",
       "9.5 esige  kz900  KNGN    kz901\n",
       "                  KNGG    kz902\n",
       "dtype: object"
      ]
     },
     "execution_count": 45,
     "metadata": {},
     "output_type": "execute_result"
    }
   ],
   "source": [
    "criteria2 = criteria.stack()\n",
    "\n",
    "criteria2"
   ]
  },
  {
   "cell_type": "code",
   "execution_count": 46,
   "metadata": {},
   "outputs": [],
   "source": [
    "res= criteria2.reset_index()"
   ]
  },
  {
   "cell_type": "code",
   "execution_count": 47,
   "metadata": {},
   "outputs": [
    {
     "data": {
      "text/html": [
       "<div>\n",
       "<style>\n",
       "    .dataframe thead tr:only-child th {\n",
       "        text-align: right;\n",
       "    }\n",
       "\n",
       "    .dataframe thead th {\n",
       "        text-align: left;\n",
       "    }\n",
       "\n",
       "    .dataframe tbody tr th {\n",
       "        vertical-align: top;\n",
       "    }\n",
       "</style>\n",
       "<table border=\"1\" class=\"dataframe\">\n",
       "  <thead>\n",
       "    <tr style=\"text-align: right;\">\n",
       "      <th></th>\n",
       "      <th>KNGF</th>\n",
       "      <th>0</th>\n",
       "      <th>step_desc</th>\n",
       "    </tr>\n",
       "  </thead>\n",
       "  <tbody>\n",
       "    <tr>\n",
       "      <th>0</th>\n",
       "      <td>kz900</td>\n",
       "      <td>kz901</td>\n",
       "      <td>9.5 esige</td>\n",
       "    </tr>\n",
       "    <tr>\n",
       "      <th>1</th>\n",
       "      <td>kz900</td>\n",
       "      <td>kz902</td>\n",
       "      <td>9.5 esige</td>\n",
       "    </tr>\n",
       "  </tbody>\n",
       "</table>\n",
       "</div>"
      ],
      "text/plain": [
       "    KNGF      0  step_desc\n",
       "0  kz900  kz901  9.5 esige\n",
       "1  kz900  kz902  9.5 esige"
      ]
     },
     "execution_count": 47,
     "metadata": {},
     "output_type": "execute_result"
    }
   ],
   "source": [
    "res2 = res[[ref, 0, 'step_desc']]\n",
    "\n",
    "res2"
   ]
  },
  {
   "cell_type": "code",
   "execution_count": 48,
   "metadata": {},
   "outputs": [
    {
     "name": "stderr",
     "output_type": "stream",
     "text": [
      "C:\\ProgramData\\Anaconda3\\lib\\site-packages\\pandas\\core\\frame.py:2746: SettingWithCopyWarning: \n",
      "A value is trying to be set on a copy of a slice from a DataFrame\n",
      "\n",
      "See the caveats in the documentation: http://pandas.pydata.org/pandas-docs/stable/indexing.html#indexing-view-versus-copy\n",
      "  **kwargs)\n"
     ]
    }
   ],
   "source": [
    "res2.rename(columns={ref:'step_seq_r', 0:'step_seq', 'step_desc':'step_desc_r'}, inplace=True)"
   ]
  },
  {
   "cell_type": "code",
   "execution_count": 49,
   "metadata": {},
   "outputs": [
    {
     "data": {
      "text/html": [
       "<div>\n",
       "<style>\n",
       "    .dataframe thead tr:only-child th {\n",
       "        text-align: right;\n",
       "    }\n",
       "\n",
       "    .dataframe thead th {\n",
       "        text-align: left;\n",
       "    }\n",
       "\n",
       "    .dataframe tbody tr th {\n",
       "        vertical-align: top;\n",
       "    }\n",
       "</style>\n",
       "<table border=\"1\" class=\"dataframe\">\n",
       "  <thead>\n",
       "    <tr style=\"text-align: right;\">\n",
       "      <th></th>\n",
       "      <th>step_seq_r</th>\n",
       "      <th>step_seq</th>\n",
       "      <th>step_desc_r</th>\n",
       "    </tr>\n",
       "  </thead>\n",
       "  <tbody>\n",
       "    <tr>\n",
       "      <th>0</th>\n",
       "      <td>kz900</td>\n",
       "      <td>kz901</td>\n",
       "      <td>9.5 esige</td>\n",
       "    </tr>\n",
       "    <tr>\n",
       "      <th>1</th>\n",
       "      <td>kz900</td>\n",
       "      <td>kz902</td>\n",
       "      <td>9.5 esige</td>\n",
       "    </tr>\n",
       "  </tbody>\n",
       "</table>\n",
       "</div>"
      ],
      "text/plain": [
       "  step_seq_r step_seq step_desc_r\n",
       "0      kz900    kz901   9.5 esige\n",
       "1      kz900    kz902   9.5 esige"
      ]
     },
     "execution_count": 49,
     "metadata": {},
     "output_type": "execute_result"
    }
   ],
   "source": [
    "res2"
   ]
  },
  {
   "cell_type": "code",
   "execution_count": 50,
   "metadata": {},
   "outputs": [
    {
     "data": {
      "text/html": [
       "<div>\n",
       "<style>\n",
       "    .dataframe thead tr:only-child th {\n",
       "        text-align: right;\n",
       "    }\n",
       "\n",
       "    .dataframe thead th {\n",
       "        text-align: left;\n",
       "    }\n",
       "\n",
       "    .dataframe tbody tr th {\n",
       "        vertical-align: top;\n",
       "    }\n",
       "</style>\n",
       "<table border=\"1\" class=\"dataframe\">\n",
       "  <thead>\n",
       "    <tr style=\"text-align: right;\">\n",
       "      <th></th>\n",
       "      <th>step_seq</th>\n",
       "      <th>step_desc</th>\n",
       "      <th>item</th>\n",
       "      <th>value</th>\n",
       "      <th>step_seq_r</th>\n",
       "      <th>step_desc_r</th>\n",
       "    </tr>\n",
       "  </thead>\n",
       "  <tbody>\n",
       "    <tr>\n",
       "      <th>0</th>\n",
       "      <td>kz900</td>\n",
       "      <td>9.5 esige</td>\n",
       "      <td>CD1</td>\n",
       "      <td>0.076518</td>\n",
       "      <td>NaN</td>\n",
       "      <td>NaN</td>\n",
       "    </tr>\n",
       "    <tr>\n",
       "      <th>1</th>\n",
       "      <td>kz900</td>\n",
       "      <td>9.5 esige</td>\n",
       "      <td>CD2</td>\n",
       "      <td>0.277317</td>\n",
       "      <td>NaN</td>\n",
       "      <td>NaN</td>\n",
       "    </tr>\n",
       "    <tr>\n",
       "      <th>2</th>\n",
       "      <td>kz900</td>\n",
       "      <td>9.5 esige</td>\n",
       "      <td>CD3</td>\n",
       "      <td>0.233110</td>\n",
       "      <td>NaN</td>\n",
       "      <td>NaN</td>\n",
       "    </tr>\n",
       "    <tr>\n",
       "      <th>3</th>\n",
       "      <td>kz900</td>\n",
       "      <td>9.5 esige</td>\n",
       "      <td>CD4</td>\n",
       "      <td>0.032080</td>\n",
       "      <td>NaN</td>\n",
       "      <td>NaN</td>\n",
       "    </tr>\n",
       "    <tr>\n",
       "      <th>4</th>\n",
       "      <td>kz900</td>\n",
       "      <td>9.5 esige</td>\n",
       "      <td>CD5</td>\n",
       "      <td>0.448799</td>\n",
       "      <td>NaN</td>\n",
       "      <td>NaN</td>\n",
       "    </tr>\n",
       "    <tr>\n",
       "      <th>5</th>\n",
       "      <td>kz900</td>\n",
       "      <td>9.5 esige</td>\n",
       "      <td>CD6</td>\n",
       "      <td>0.003331</td>\n",
       "      <td>NaN</td>\n",
       "      <td>NaN</td>\n",
       "    </tr>\n",
       "    <tr>\n",
       "      <th>6</th>\n",
       "      <td>kz901</td>\n",
       "      <td>9.5 esige @MPW2</td>\n",
       "      <td>CD1</td>\n",
       "      <td>0.426568</td>\n",
       "      <td>kz900</td>\n",
       "      <td>9.5 esige</td>\n",
       "    </tr>\n",
       "    <tr>\n",
       "      <th>7</th>\n",
       "      <td>kz901</td>\n",
       "      <td>9.5 esige @MPW2</td>\n",
       "      <td>CD2</td>\n",
       "      <td>0.034974</td>\n",
       "      <td>kz900</td>\n",
       "      <td>9.5 esige</td>\n",
       "    </tr>\n",
       "    <tr>\n",
       "      <th>8</th>\n",
       "      <td>kz901</td>\n",
       "      <td>9.5 esige @MPW2</td>\n",
       "      <td>CD3</td>\n",
       "      <td>0.834206</td>\n",
       "      <td>kz900</td>\n",
       "      <td>9.5 esige</td>\n",
       "    </tr>\n",
       "    <tr>\n",
       "      <th>9</th>\n",
       "      <td>kz901</td>\n",
       "      <td>9.5 esige @MPW2</td>\n",
       "      <td>CD4</td>\n",
       "      <td>0.113713</td>\n",
       "      <td>kz900</td>\n",
       "      <td>9.5 esige</td>\n",
       "    </tr>\n",
       "    <tr>\n",
       "      <th>10</th>\n",
       "      <td>kz901</td>\n",
       "      <td>9.5 esige @MPW2</td>\n",
       "      <td>CD5</td>\n",
       "      <td>0.239632</td>\n",
       "      <td>kz900</td>\n",
       "      <td>9.5 esige</td>\n",
       "    </tr>\n",
       "    <tr>\n",
       "      <th>11</th>\n",
       "      <td>kz901</td>\n",
       "      <td>9.5 esige @MPW2</td>\n",
       "      <td>CD6</td>\n",
       "      <td>0.773667</td>\n",
       "      <td>kz900</td>\n",
       "      <td>9.5 esige</td>\n",
       "    </tr>\n",
       "  </tbody>\n",
       "</table>\n",
       "</div>"
      ],
      "text/plain": [
       "   step_seq        step_desc item     value step_seq_r step_desc_r\n",
       "0     kz900        9.5 esige  CD1  0.076518        NaN         NaN\n",
       "1     kz900        9.5 esige  CD2  0.277317        NaN         NaN\n",
       "2     kz900        9.5 esige  CD3  0.233110        NaN         NaN\n",
       "3     kz900        9.5 esige  CD4  0.032080        NaN         NaN\n",
       "4     kz900        9.5 esige  CD5  0.448799        NaN         NaN\n",
       "5     kz900        9.5 esige  CD6  0.003331        NaN         NaN\n",
       "6     kz901  9.5 esige @MPW2  CD1  0.426568      kz900   9.5 esige\n",
       "7     kz901  9.5 esige @MPW2  CD2  0.034974      kz900   9.5 esige\n",
       "8     kz901  9.5 esige @MPW2  CD3  0.834206      kz900   9.5 esige\n",
       "9     kz901  9.5 esige @MPW2  CD4  0.113713      kz900   9.5 esige\n",
       "10    kz901  9.5 esige @MPW2  CD5  0.239632      kz900   9.5 esige\n",
       "11    kz901  9.5 esige @MPW2  CD6  0.773667      kz900   9.5 esige"
      ]
     },
     "execution_count": 50,
     "metadata": {},
     "output_type": "execute_result"
    }
   ],
   "source": [
    "raw_df = pd.merge(raw_df, res2, on=['step_seq'], how='left')\n",
    "\n",
    "raw_df"
   ]
  },
  {
   "cell_type": "code",
   "execution_count": 51,
   "metadata": {
    "collapsed": true
   },
   "outputs": [],
   "source": [
    "raw_df.loc[raw_df['step_seq_r'].notnull(), 'step_seq'] = raw_df['step_seq_r']\n",
    "raw_df.loc[raw_df['step_desc_r'].notnull(), 'step_desc'] = raw_df['step_desc_r']"
   ]
  },
  {
   "cell_type": "code",
   "execution_count": 53,
   "metadata": {},
   "outputs": [
    {
     "data": {
      "text/html": [
       "<div>\n",
       "<style>\n",
       "    .dataframe thead tr:only-child th {\n",
       "        text-align: right;\n",
       "    }\n",
       "\n",
       "    .dataframe thead th {\n",
       "        text-align: left;\n",
       "    }\n",
       "\n",
       "    .dataframe tbody tr th {\n",
       "        vertical-align: top;\n",
       "    }\n",
       "</style>\n",
       "<table border=\"1\" class=\"dataframe\">\n",
       "  <thead>\n",
       "    <tr style=\"text-align: right;\">\n",
       "      <th></th>\n",
       "      <th>step_seq</th>\n",
       "      <th>step_desc</th>\n",
       "      <th>item</th>\n",
       "      <th>value</th>\n",
       "    </tr>\n",
       "  </thead>\n",
       "  <tbody>\n",
       "    <tr>\n",
       "      <th>0</th>\n",
       "      <td>kz900</td>\n",
       "      <td>9.5 esige</td>\n",
       "      <td>CD1</td>\n",
       "      <td>0.076518</td>\n",
       "    </tr>\n",
       "    <tr>\n",
       "      <th>1</th>\n",
       "      <td>kz900</td>\n",
       "      <td>9.5 esige</td>\n",
       "      <td>CD2</td>\n",
       "      <td>0.277317</td>\n",
       "    </tr>\n",
       "    <tr>\n",
       "      <th>2</th>\n",
       "      <td>kz900</td>\n",
       "      <td>9.5 esige</td>\n",
       "      <td>CD3</td>\n",
       "      <td>0.233110</td>\n",
       "    </tr>\n",
       "    <tr>\n",
       "      <th>3</th>\n",
       "      <td>kz900</td>\n",
       "      <td>9.5 esige</td>\n",
       "      <td>CD4</td>\n",
       "      <td>0.032080</td>\n",
       "    </tr>\n",
       "    <tr>\n",
       "      <th>4</th>\n",
       "      <td>kz900</td>\n",
       "      <td>9.5 esige</td>\n",
       "      <td>CD5</td>\n",
       "      <td>0.448799</td>\n",
       "    </tr>\n",
       "    <tr>\n",
       "      <th>5</th>\n",
       "      <td>kz900</td>\n",
       "      <td>9.5 esige</td>\n",
       "      <td>CD6</td>\n",
       "      <td>0.003331</td>\n",
       "    </tr>\n",
       "    <tr>\n",
       "      <th>6</th>\n",
       "      <td>kz900</td>\n",
       "      <td>9.5 esige</td>\n",
       "      <td>CD1</td>\n",
       "      <td>0.426568</td>\n",
       "    </tr>\n",
       "    <tr>\n",
       "      <th>7</th>\n",
       "      <td>kz900</td>\n",
       "      <td>9.5 esige</td>\n",
       "      <td>CD2</td>\n",
       "      <td>0.034974</td>\n",
       "    </tr>\n",
       "    <tr>\n",
       "      <th>8</th>\n",
       "      <td>kz900</td>\n",
       "      <td>9.5 esige</td>\n",
       "      <td>CD3</td>\n",
       "      <td>0.834206</td>\n",
       "    </tr>\n",
       "    <tr>\n",
       "      <th>9</th>\n",
       "      <td>kz900</td>\n",
       "      <td>9.5 esige</td>\n",
       "      <td>CD4</td>\n",
       "      <td>0.113713</td>\n",
       "    </tr>\n",
       "    <tr>\n",
       "      <th>10</th>\n",
       "      <td>kz900</td>\n",
       "      <td>9.5 esige</td>\n",
       "      <td>CD5</td>\n",
       "      <td>0.239632</td>\n",
       "    </tr>\n",
       "    <tr>\n",
       "      <th>11</th>\n",
       "      <td>kz900</td>\n",
       "      <td>9.5 esige</td>\n",
       "      <td>CD6</td>\n",
       "      <td>0.773667</td>\n",
       "    </tr>\n",
       "  </tbody>\n",
       "</table>\n",
       "</div>"
      ],
      "text/plain": [
       "   step_seq  step_desc item     value\n",
       "0     kz900  9.5 esige  CD1  0.076518\n",
       "1     kz900  9.5 esige  CD2  0.277317\n",
       "2     kz900  9.5 esige  CD3  0.233110\n",
       "3     kz900  9.5 esige  CD4  0.032080\n",
       "4     kz900  9.5 esige  CD5  0.448799\n",
       "5     kz900  9.5 esige  CD6  0.003331\n",
       "6     kz900  9.5 esige  CD1  0.426568\n",
       "7     kz900  9.5 esige  CD2  0.034974\n",
       "8     kz900  9.5 esige  CD3  0.834206\n",
       "9     kz900  9.5 esige  CD4  0.113713\n",
       "10    kz900  9.5 esige  CD5  0.239632\n",
       "11    kz900  9.5 esige  CD6  0.773667"
      ]
     },
     "execution_count": 53,
     "metadata": {},
     "output_type": "execute_result"
    }
   ],
   "source": [
    "del raw_df['step_seq_r']; del raw_df['step_desc_r']\n",
    "\n",
    "\n",
    "raw_df"
   ]
  },
  {
   "cell_type": "code",
   "execution_count": null,
   "metadata": {
    "collapsed": true
   },
   "outputs": [],
   "source": []
  },
  {
   "cell_type": "code",
   "execution_count": null,
   "metadata": {
    "collapsed": true
   },
   "outputs": [],
   "source": []
  },
  {
   "cell_type": "code",
   "execution_count": null,
   "metadata": {
    "collapsed": true
   },
   "outputs": [],
   "source": []
  },
  {
   "cell_type": "code",
   "execution_count": null,
   "metadata": {
    "collapsed": true
   },
   "outputs": [],
   "source": []
  },
  {
   "cell_type": "code",
   "execution_count": null,
   "metadata": {
    "collapsed": true
   },
   "outputs": [],
   "source": []
  },
  {
   "cell_type": "code",
   "execution_count": null,
   "metadata": {
    "collapsed": true
   },
   "outputs": [],
   "source": []
  },
  {
   "cell_type": "code",
   "execution_count": null,
   "metadata": {
    "collapsed": true
   },
   "outputs": [],
   "source": []
  },
  {
   "cell_type": "code",
   "execution_count": null,
   "metadata": {
    "collapsed": true
   },
   "outputs": [],
   "source": []
  },
  {
   "cell_type": "code",
   "execution_count": null,
   "metadata": {
    "collapsed": true
   },
   "outputs": [],
   "source": []
  },
  {
   "cell_type": "code",
   "execution_count": null,
   "metadata": {
    "collapsed": true
   },
   "outputs": [],
   "source": []
  }
 ],
 "metadata": {
  "kernelspec": {
   "display_name": "Python 3",
   "language": "python",
   "name": "python3"
  },
  "language_info": {
   "codemirror_mode": {
    "name": "ipython",
    "version": 3
   },
   "file_extension": ".py",
   "mimetype": "text/x-python",
   "name": "python",
   "nbconvert_exporter": "python",
   "pygments_lexer": "ipython3",
   "version": "3.6.3"
  }
 },
 "nbformat": 4,
 "nbformat_minor": 2
}
