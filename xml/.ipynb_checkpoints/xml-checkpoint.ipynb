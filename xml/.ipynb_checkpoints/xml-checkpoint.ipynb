{
 "cells": [
  {
   "cell_type": "markdown",
   "metadata": {},
   "source": [
    "# XML etree\n",
    "\n",
    "## parsing & creating XML data\n",
    "\n",
    "<br>\n",
    "# Table of Contents\n",
    "\n",
    "1. **Basic Usage**\n",
    "    1. [Create](#create)\n",
    "    2. [Read](#read)\n",
    "    3. [Delete](#delete)\n",
    "\n",
    "2. **Modification**\n",
    "    1. [add Element](#add_elem)\n",
    "        1. [add Element by using SubElement](#subelement)\n",
    "        3. [insert Elements using append](#insert_elements_append)\n",
    "        4. [insert Elements using insert](#insert_elements_insert)\n",
    "        \n",
    "    2. modify Element\n",
    "        1. [set attributes](#set_attribute)\n",
    "        \n",
    "        \n",
    "        \n",
    "        \n",
    "<br><br><br><br><br><br><br><br><br><br><br><br><br><br><br><br><br>"
   ]
  },
  {
   "cell_type": "code",
   "execution_count": 1,
   "metadata": {
    "collapsed": true
   },
   "outputs": [],
   "source": [
    "from xml.etree.ElementTree import Element, SubElement, dump\n",
    "import xml.etree.ElementTree as et\n",
    "\n",
    "# Indentation function\n",
    "def indent(elem, level=0):\n",
    "    i = \"\\n\" + level*\"  \"\n",
    "    if len(elem):\n",
    "        if not elem.text or not elem.text.strip():\n",
    "            elem.text = i + \"  \"\n",
    "        if not elem.tail or not elem.tail.strip():\n",
    "            elem.tail = i\n",
    "        for elem in elem:\n",
    "            indent(elem, level+1)\n",
    "        if not elem.tail or not elem.tail.strip():\n",
    "            elem.tail = i\n",
    "    else:\n",
    "        if level and (not elem.tail or not elem.tail.strip()):\n",
    "            elem.tail = i\n",
    "            \n",
    "def idump(root):\n",
    "    indent(root)\n",
    "    dump(root)"
   ]
  },
  {
   "cell_type": "markdown",
   "metadata": {},
   "source": [
    "<a id=\"create\"></a>\n",
    "<br>\n",
    "# Make simple XML dom"
   ]
  },
  {
   "cell_type": "code",
   "execution_count": 2,
   "metadata": {},
   "outputs": [
    {
     "name": "stdout",
     "output_type": "stream",
     "text": [
      "<note>\n",
      "  <to>Tove</to>\n",
      "</note>\n"
     ]
    }
   ],
   "source": [
    "note = Element(\"note\")\n",
    "to = Element(\"to\")\n",
    "to.text = \"Tove\"\n",
    "\n",
    "note.append(to)\n",
    "\n",
    "indent(note)\n",
    "\n",
    "dump(note)"
   ]
  },
  {
   "cell_type": "markdown",
   "metadata": {},
   "source": [
    "<a id=\"read\"></a>\n",
    "<br>\n",
    "# read xml file"
   ]
  },
  {
   "cell_type": "code",
   "execution_count": 3,
   "metadata": {},
   "outputs": [
    {
     "name": "stdout",
     "output_type": "stream",
     "text": [
      "<note>\n",
      "  <info id=\"1st\">\n",
      "    <name>Tove</name>\n",
      "    <addr>11</addr>\n",
      "    <addr>12</addr>\n",
      "    <addr>13</addr>\n",
      "  </info>\n",
      "  <info id=\"2nd\">\n",
      "    <name>Jane</name>\n",
      "    <addr>21</addr>\n",
      "    <addr>22</addr>\n",
      "    <addr>23</addr>\n",
      "  </info>\n",
      "</note>\n"
     ]
    }
   ],
   "source": [
    "xml = open('input.xml').read()\n",
    "root = et.fromstring(xml)\n",
    "\n",
    "indent(root)\n",
    "dump(root)"
   ]
  },
  {
   "cell_type": "markdown",
   "metadata": {},
   "source": [
    "<a id=\"delete\"></a>\n",
    "<br>\n",
    "# Delete"
   ]
  },
  {
   "cell_type": "markdown",
   "metadata": {},
   "source": [
    "## delete all sub elements"
   ]
  },
  {
   "cell_type": "code",
   "execution_count": 4,
   "metadata": {
    "collapsed": true
   },
   "outputs": [],
   "source": [
    "xml = et.fromstring(\"\"\"\n",
    "<note>\n",
    "    <to>Tove\n",
    "        <addr>1</addr>\n",
    "        <addr>2</addr>\n",
    "        \n",
    "        <mail>lchsdjio@lsdsdj.net</mail>\n",
    "        <post>what!</post>\n",
    "    </to>\n",
    "</note>\n",
    "\"\"\")"
   ]
  },
  {
   "cell_type": "markdown",
   "metadata": {},
   "source": [
    "### 1. trying to delete all sub-elements on \"to\" node"
   ]
  },
  {
   "cell_type": "code",
   "execution_count": 5,
   "metadata": {
    "collapsed": true
   },
   "outputs": [],
   "source": [
    "to = xml.find('to')"
   ]
  },
  {
   "cell_type": "code",
   "execution_count": 6,
   "metadata": {
    "collapsed": true
   },
   "outputs": [],
   "source": [
    "iter_child = to.getchildren()\n",
    "\n",
    "for child in iter_child:\n",
    "    to.remove(child)"
   ]
  },
  {
   "cell_type": "code",
   "execution_count": 7,
   "metadata": {},
   "outputs": [
    {
     "name": "stdout",
     "output_type": "stream",
     "text": [
      "<note>\n",
      "  <to>Tove\n",
      "        </to>\n",
      "</note>\n"
     ]
    }
   ],
   "source": [
    "idump(xml)"
   ]
  },
  {
   "cell_type": "markdown",
   "metadata": {
    "collapsed": true
   },
   "source": [
    "### 2. trying to delete all sub-elements on \"to\" node with addr tag"
   ]
  },
  {
   "cell_type": "code",
   "execution_count": 48,
   "metadata": {
    "collapsed": true
   },
   "outputs": [],
   "source": [
    "xml = et.fromstring(\"\"\"\n",
    "<note>\n",
    "    <to>Tove\n",
    "        <addr>1</addr>\n",
    "        <addr>2</addr>\n",
    "        \n",
    "        <mail>lchsdjio@lsdsdj.net</mail>\n",
    "        <post>what!</post>\n",
    "    </to>\n",
    "</note>\n",
    "\"\"\")"
   ]
  },
  {
   "cell_type": "markdown",
   "metadata": {},
   "source": [
    "### 2-1) using findall"
   ]
  },
  {
   "cell_type": "code",
   "execution_count": 49,
   "metadata": {
    "collapsed": true
   },
   "outputs": [],
   "source": [
    "to = xml.find('to')\n",
    "selection = to.findall('addr')"
   ]
  },
  {
   "cell_type": "code",
   "execution_count": 51,
   "metadata": {
    "collapsed": true
   },
   "outputs": [],
   "source": [
    "for sel in selection:\n",
    "    to.remove(sel)"
   ]
  },
  {
   "cell_type": "code",
   "execution_count": 52,
   "metadata": {},
   "outputs": [
    {
     "name": "stdout",
     "output_type": "stream",
     "text": [
      "<note>\n",
      "  <to>Tove\n",
      "        <mail>lchsdjio@lsdsdj.net</mail>\n",
      "    <post>what!</post>\n",
      "  </to>\n",
      "</note>\n"
     ]
    }
   ],
   "source": [
    "idump(xml)"
   ]
  },
  {
   "cell_type": "markdown",
   "metadata": {},
   "source": [
    "### 2-2) using getchildren, tag attribute"
   ]
  },
  {
   "cell_type": "code",
   "execution_count": 53,
   "metadata": {
    "collapsed": true
   },
   "outputs": [],
   "source": [
    "xml = et.fromstring(\"\"\"\n",
    "<note>\n",
    "    <to>Tove\n",
    "        <addr>1</addr>\n",
    "        <addr>2</addr>\n",
    "        \n",
    "        <mail>lchsdjio@lsdsdj.net</mail>\n",
    "        <post>what!</post>\n",
    "    </to>\n",
    "</note>\n",
    "\"\"\")"
   ]
  },
  {
   "cell_type": "code",
   "execution_count": 54,
   "metadata": {
    "collapsed": true
   },
   "outputs": [],
   "source": [
    "to = xml.find('to')"
   ]
  },
  {
   "cell_type": "code",
   "execution_count": 57,
   "metadata": {
    "collapsed": true
   },
   "outputs": [],
   "source": [
    "for child in to.getchildren():\n",
    "    if child.tag == 'addr':   # check cjild's tag name\n",
    "        to.remove(child)"
   ]
  },
  {
   "cell_type": "code",
   "execution_count": 56,
   "metadata": {},
   "outputs": [
    {
     "name": "stdout",
     "output_type": "stream",
     "text": [
      "<note>\n",
      "  <to>Tove\n",
      "        <mail>lchsdjio@lsdsdj.net</mail>\n",
      "    <post>what!</post>\n",
      "  </to>\n",
      "</note>\n"
     ]
    }
   ],
   "source": [
    "idump(xml)"
   ]
  },
  {
   "cell_type": "markdown",
   "metadata": {},
   "source": [
    "<a id=\"add_elem\"></a>\n",
    "<br>\n",
    "# Modification"
   ]
  },
  {
   "cell_type": "markdown",
   "metadata": {},
   "source": [
    "# add SubElement to Element"
   ]
  },
  {
   "cell_type": "code",
   "execution_count": 70,
   "metadata": {
    "collapsed": true
   },
   "outputs": [],
   "source": [
    "xml = et.fromstring(\"\"\"\n",
    "<note>\n",
    "    <to>Tove</to>\n",
    "</note>\n",
    "\"\"\")"
   ]
  },
  {
   "cell_type": "markdown",
   "metadata": {},
   "source": [
    "## append SubElement in \"xml\" node"
   ]
  },
  {
   "cell_type": "code",
   "execution_count": 71,
   "metadata": {
    "collapsed": true
   },
   "outputs": [],
   "source": [
    "addr = Element(\"address\")\n",
    "addr.attrib[\"date\"] = \"20120104\"   # add attribute\n",
    "\n",
    "SubElement(xml, \"from\", attrib={'id':'from', 'name':'form'}).text = \"Jani\"   # add attribute\n",
    "SubElement(xml, \"heading\").text = \"Reminder\"\n",
    "SubElement(xml, \"body\").text = \"Don't forget me this weekend!\""
   ]
  },
  {
   "cell_type": "code",
   "execution_count": 72,
   "metadata": {},
   "outputs": [
    {
     "name": "stdout",
     "output_type": "stream",
     "text": [
      "<note>\n",
      "  <to>Tove</to>\n",
      "  <from id=\"from\" name=\"form\">Jani</from>\n",
      "  <heading>Reminder</heading>\n",
      "  <body>Don't forget me this weekend!</body>\n",
      "</note>\n"
     ]
    }
   ],
   "source": [
    "indent(xml)\n",
    "\n",
    "dump(xml)"
   ]
  },
  {
   "cell_type": "markdown",
   "metadata": {},
   "source": [
    "## append SubElement in \"to\" node"
   ]
  },
  {
   "cell_type": "code",
   "execution_count": 75,
   "metadata": {
    "collapsed": true
   },
   "outputs": [],
   "source": [
    "xml = et.fromstring(\"\"\"\n",
    "<note>\n",
    "    <to>Tove</to>\n",
    "</note>\n",
    "\"\"\")"
   ]
  },
  {
   "cell_type": "code",
   "execution_count": 76,
   "metadata": {
    "collapsed": true
   },
   "outputs": [],
   "source": [
    "addr = Element(\"address\")\n",
    "addr.attrib[\"date\"] = \"20120104\"   # add attribute\n",
    "\n",
    "to = xml.find('to')\n",
    "\n",
    "SubElement(to, \"from\", attrib={'id':'from', 'name':'form'}).text = \"Jani\"   # add attribute\n",
    "SubElement(to, \"heading\").text = \"Reminder\"\n",
    "SubElement(to, \"body\").text = \"Don't forget me this weekend!\""
   ]
  },
  {
   "cell_type": "code",
   "execution_count": 77,
   "metadata": {},
   "outputs": [
    {
     "name": "stdout",
     "output_type": "stream",
     "text": [
      "<note>\n",
      "  <to>Tove<from id=\"from\" name=\"form\">Jani</from>\n",
      "    <heading>Reminder</heading>\n",
      "    <body>Don't forget me this weekend!</body>\n",
      "  </to>\n",
      "</note>\n"
     ]
    }
   ],
   "source": [
    "indent(xml)\n",
    "\n",
    "dump(xml)"
   ]
  },
  {
   "cell_type": "markdown",
   "metadata": {},
   "source": [
    "<a id=\"set_attribute\"></a>\n",
    "<br>\n",
    "# set attributes"
   ]
  },
  {
   "cell_type": "code",
   "execution_count": 22,
   "metadata": {
    "collapsed": true
   },
   "outputs": [],
   "source": [
    "note = Element(\"note\", name=\"CH Lee\")\n",
    "to = Element(\"to\")\n",
    "to.text = \"Tove\"\n",
    "\n",
    "note.append(to)\n",
    "\n",
    "# add new elements using SubElement\n",
    "SubElement(note, \"from\").text = \"Jani\"\n",
    "\n",
    "# add new attributes\n",
    "note.attrib[\"date\"] = \"20120104\"\n",
    "note.attrib[\"id\"] = \"Unique\""
   ]
  },
  {
   "cell_type": "code",
   "execution_count": 23,
   "metadata": {
    "scrolled": true
   },
   "outputs": [
    {
     "name": "stdout",
     "output_type": "stream",
     "text": [
      "<note date=\"20120104\" id=\"Unique\" name=\"CH Lee\">\n",
      "  <to>Tove</to>\n",
      "  <from>Jani</from>\n",
      "</note>\n"
     ]
    }
   ],
   "source": [
    "idump(note)"
   ]
  },
  {
   "cell_type": "markdown",
   "metadata": {},
   "source": [
    "<a id=\"insert_elements_append\"></a>\n",
    "<br>\n",
    "# Insert elements using append\n",
    "## *append elements always placed at last"
   ]
  },
  {
   "cell_type": "code",
   "execution_count": 105,
   "metadata": {
    "collapsed": true
   },
   "outputs": [],
   "source": [
    "note = Element(\"note\")\n",
    "to = Element(\"to\")\n",
    "to.text = \"Tove\"\n",
    "\n",
    "SubElement(note, \"From\").text = \"Jani\""
   ]
  },
  {
   "cell_type": "code",
   "execution_count": 106,
   "metadata": {},
   "outputs": [
    {
     "name": "stdout",
     "output_type": "stream",
     "text": [
      "<note>\n",
      "  <From>Jani</From>\n",
      "</note>\n"
     ]
    }
   ],
   "source": [
    "idump(note)"
   ]
  },
  {
   "cell_type": "code",
   "execution_count": 107,
   "metadata": {
    "collapsed": true
   },
   "outputs": [],
   "source": [
    "note.append(to)"
   ]
  },
  {
   "cell_type": "code",
   "execution_count": 108,
   "metadata": {},
   "outputs": [
    {
     "name": "stdout",
     "output_type": "stream",
     "text": [
      "<note>\n",
      "  <From>Jani</From>\n",
      "  <to>Tove</to>\n",
      "</note>\n"
     ]
    }
   ],
   "source": [
    "idump(note)"
   ]
  },
  {
   "cell_type": "markdown",
   "metadata": {},
   "source": [
    "<a id=\"insert_elements_insert\"></a>\n",
    "<br>\n",
    "# Insert elements using insert\n",
    "## insert method can indicate location where to insert"
   ]
  },
  {
   "cell_type": "code",
   "execution_count": 95,
   "metadata": {
    "collapsed": true
   },
   "outputs": [],
   "source": [
    "note = Element(\"note\")\n",
    "to = Element(\"to\")\n",
    "to.text = \"Tove\"\n",
    "\n",
    "note.append(to)\n",
    "SubElement(note, \"From\").text = \"Jani\""
   ]
  },
  {
   "cell_type": "code",
   "execution_count": 101,
   "metadata": {},
   "outputs": [
    {
     "name": "stdout",
     "output_type": "stream",
     "text": [
      "<note>\n",
      "  <to>Tove</to>\n",
      "  <From>Jani</From>\n",
      "</note>\n"
     ]
    }
   ],
   "source": [
    "idump(note)"
   ]
  },
  {
   "cell_type": "code",
   "execution_count": 97,
   "metadata": {
    "collapsed": true
   },
   "outputs": [],
   "source": [
    "dummy = Element(\"dummy\")\n",
    "\n",
    "note.insert(1, dummy)  # first arg is a position to be inserted"
   ]
  },
  {
   "cell_type": "code",
   "execution_count": 98,
   "metadata": {},
   "outputs": [
    {
     "name": "stdout",
     "output_type": "stream",
     "text": [
      "<note>\n",
      "  <to>Tove</to>\n",
      "  <dummy />\n",
      "  <From>Jani</From>\n",
      "</note>\n"
     ]
    }
   ],
   "source": [
    "idump(note)"
   ]
  }
 ],
 "metadata": {
  "kernelspec": {
   "display_name": "Python 3",
   "language": "python",
   "name": "python3"
  },
  "language_info": {
   "codemirror_mode": {
    "name": "ipython",
    "version": 3
   },
   "file_extension": ".py",
   "mimetype": "text/x-python",
   "name": "python",
   "nbconvert_exporter": "python",
   "pygments_lexer": "ipython3",
   "version": "3.6.1"
  }
 },
 "nbformat": 4,
 "nbformat_minor": 1
}
