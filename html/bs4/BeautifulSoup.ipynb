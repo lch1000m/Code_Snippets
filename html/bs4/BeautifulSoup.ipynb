{
 "cells": [
  {
   "cell_type": "markdown",
   "metadata": {},
   "source": [
    "# BeautifulSoup"
   ]
  },
  {
   "cell_type": "markdown",
   "metadata": {},
   "source": [
    "## read from file"
   ]
  },
  {
   "cell_type": "code",
   "execution_count": 3,
   "metadata": {
    "collapsed": true
   },
   "outputs": [],
   "source": [
    "from bs4 import BeautifulSoup\n",
    "\n",
    "from IPython.display import Image"
   ]
  },
  {
   "cell_type": "code",
   "execution_count": 2,
   "metadata": {
    "collapsed": true
   },
   "outputs": [],
   "source": [
    "xml = open('file.xml').read()\n",
    "soup = BeautifulSoup(xml, 'html.parser')"
   ]
  },
  {
   "cell_type": "markdown",
   "metadata": {},
   "source": [
    "## parsing url using urllib"
   ]
  },
  {
   "cell_type": "code",
   "execution_count": 3,
   "metadata": {
    "collapsed": true
   },
   "outputs": [],
   "source": [
    "import urllib.request"
   ]
  },
  {
   "cell_type": "code",
   "execution_count": 4,
   "metadata": {
    "collapsed": true
   },
   "outputs": [],
   "source": [
    "url = 'http://www.pythonforbeginners.com/beautifulsoup/beautifulsoup-4-python'\n",
    "\n",
    "resp = urllib.request.urlopen(url)\n",
    "\n",
    "data = resp.read()"
   ]
  },
  {
   "cell_type": "code",
   "execution_count": 5,
   "metadata": {},
   "outputs": [
    {
     "data": {
      "text/plain": [
       "bytes"
      ]
     },
     "execution_count": 5,
     "metadata": {},
     "output_type": "execute_result"
    }
   ],
   "source": [
    "type(data)"
   ]
  },
  {
   "cell_type": "code",
   "execution_count": 6,
   "metadata": {
    "collapsed": true
   },
   "outputs": [],
   "source": [
    "# convert bytes tp str\n",
    "text = data.decode('utf-8')"
   ]
  },
  {
   "cell_type": "code",
   "execution_count": 7,
   "metadata": {},
   "outputs": [
    {
     "data": {
      "text/plain": [
       "str"
      ]
     },
     "execution_count": 7,
     "metadata": {},
     "output_type": "execute_result"
    }
   ],
   "source": [
    "type(text)"
   ]
  },
  {
   "cell_type": "markdown",
   "metadata": {},
   "source": [
    "## save file from url"
   ]
  },
  {
   "cell_type": "code",
   "execution_count": 8,
   "metadata": {
    "collapsed": true
   },
   "outputs": [],
   "source": [
    "url = 'data:image/jpeg;base64,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'"
   ]
  },
  {
   "cell_type": "code",
   "execution_count": 9,
   "metadata": {
    "collapsed": true
   },
   "outputs": [],
   "source": [
    "pic_name = 'flower.png'"
   ]
  },
  {
   "cell_type": "code",
   "execution_count": 10,
   "metadata": {},
   "outputs": [
    {
     "data": {
      "text/plain": [
       "('flower.png', <email.message.Message at 0x28eea025518>)"
      ]
     },
     "execution_count": 10,
     "metadata": {},
     "output_type": "execute_result"
    }
   ],
   "source": [
    "urllib.request.urlretrieve(url, pic_name)"
   ]
  },
  {
   "cell_type": "code",
   "execution_count": 11,
   "metadata": {},
   "outputs": [
    {
     "data": {
      "image/png": "[encoded data removed]",
      "text/plain": [
       "<IPython.core.display.Image object>"
      ]
     },
     "execution_count": 11,
     "metadata": {},
     "output_type": "execute_result"
    }
   ],
   "source": [
    "# loading images on local pc\n",
    "Image(pic_name)"
   ]
  },
  {
   "cell_type": "markdown",
   "metadata": {},
   "source": [
    "# selection on bs4"
   ]
  },
  {
   "cell_type": "code",
   "execution_count": 12,
   "metadata": {
    "collapsed": true
   },
   "outputs": [],
   "source": [
    "html=\"\"\"\n",
    "<html>\n",
    "    <body>\n",
    "        <h1>Scraping 이란</h1>\n",
    "        <p>WebPage 를 분석하고</p>\n",
    "        <p>원하는 부분을 추출하는 것</p>\n",
    "    </body>\n",
    "</html>\n",
    "\"\"\""
   ]
  },
  {
   "cell_type": "code",
   "execution_count": 13,
   "metadata": {
    "collapsed": true
   },
   "outputs": [],
   "source": [
    "# parse using html.parser\n",
    "soup = BeautifulSoup(html, 'html.parser')"
   ]
  },
  {
   "cell_type": "code",
   "execution_count": 14,
   "metadata": {
    "collapsed": true
   },
   "outputs": [],
   "source": [
    "h1 = soup.html.body.h1   # = soup.find('h1')"
   ]
  },
  {
   "cell_type": "code",
   "execution_count": 15,
   "metadata": {},
   "outputs": [
    {
     "data": {
      "text/plain": [
       "<h1>Scraping 이란</h1>"
      ]
     },
     "execution_count": 15,
     "metadata": {},
     "output_type": "execute_result"
    }
   ],
   "source": [
    "h1"
   ]
  },
  {
   "cell_type": "code",
   "execution_count": 16,
   "metadata": {
    "collapsed": true
   },
   "outputs": [],
   "source": [
    "p1 = soup.html.body.p"
   ]
  },
  {
   "cell_type": "code",
   "execution_count": 17,
   "metadata": {},
   "outputs": [
    {
     "data": {
      "text/plain": [
       "<p>WebPage 를 분석하고</p>"
      ]
     },
     "execution_count": 17,
     "metadata": {},
     "output_type": "execute_result"
    }
   ],
   "source": [
    "p1"
   ]
  },
  {
   "cell_type": "code",
   "execution_count": 18,
   "metadata": {
    "collapsed": true
   },
   "outputs": [],
   "source": [
    "p2 = p1.next_sibling.next_sibling"
   ]
  },
  {
   "cell_type": "code",
   "execution_count": 19,
   "metadata": {},
   "outputs": [
    {
     "data": {
      "text/plain": [
       "<p>원하는 부분을 추출하는 것</p>"
      ]
     },
     "execution_count": 19,
     "metadata": {},
     "output_type": "execute_result"
    }
   ],
   "source": [
    "p2"
   ]
  },
  {
   "cell_type": "markdown",
   "metadata": {},
   "source": [
    "## selection by ID"
   ]
  },
  {
   "cell_type": "code",
   "execution_count": 20,
   "metadata": {
    "collapsed": true
   },
   "outputs": [],
   "source": [
    "html = \"\"\"\n",
    "<html>\n",
    "    <body>\n",
    "        <h1 id=\"title\">Scraping 이란</h1>\n",
    "        <p>WebPage 를 분석하고</p>\n",
    "        <p id=\"body\">원하는 부분을 추출하는 것</p>\n",
    "    </body>\n",
    "</html>\n",
    "\"\"\""
   ]
  },
  {
   "cell_type": "code",
   "execution_count": 21,
   "metadata": {
    "collapsed": true
   },
   "outputs": [],
   "source": [
    "soup = BeautifulSoup(html, 'html.parser')"
   ]
  },
  {
   "cell_type": "code",
   "execution_count": 22,
   "metadata": {
    "collapsed": true
   },
   "outputs": [],
   "source": [
    "title = soup.find(id='title')"
   ]
  },
  {
   "cell_type": "code",
   "execution_count": 23,
   "metadata": {},
   "outputs": [
    {
     "data": {
      "text/plain": [
       "<h1 id=\"title\">Scraping 이란</h1>"
      ]
     },
     "execution_count": 23,
     "metadata": {},
     "output_type": "execute_result"
    }
   ],
   "source": [
    "title"
   ]
  },
  {
   "cell_type": "code",
   "execution_count": 24,
   "metadata": {
    "collapsed": true
   },
   "outputs": [],
   "source": [
    "body = soup.find(id='body')"
   ]
  },
  {
   "cell_type": "code",
   "execution_count": 25,
   "metadata": {},
   "outputs": [
    {
     "data": {
      "text/plain": [
       "<p id=\"body\">원하는 부분을 추출하는 것</p>"
      ]
     },
     "execution_count": 25,
     "metadata": {},
     "output_type": "execute_result"
    }
   ],
   "source": [
    "body"
   ]
  },
  {
   "cell_type": "markdown",
   "metadata": {},
   "source": [
    "## selection using css selector"
   ]
  },
  {
   "cell_type": "code",
   "execution_count": 136,
   "metadata": {
    "collapsed": true
   },
   "outputs": [],
   "source": [
    "html = \"\"\"\n",
    "<html>\n",
    "    <body>\n",
    "        <div id=\"meigen\">\n",
    "            <h1>위키북스</h1>\n",
    "            <ul class=\"items\">\n",
    "                <li>list1</li>\n",
    "                <li>list2</li>\n",
    "                <li>list3</li>\n",
    "            </ul>\n",
    "        </div>\n",
    "    </body>\n",
    "</html>\n",
    "\"\"\""
   ]
  },
  {
   "cell_type": "code",
   "execution_count": 137,
   "metadata": {
    "collapsed": true
   },
   "outputs": [],
   "source": [
    "soup = BeautifulSoup(html, 'html.parser')"
   ]
  },
  {
   "cell_type": "code",
   "execution_count": 138,
   "metadata": {
    "collapsed": true,
    "scrolled": false
   },
   "outputs": [],
   "source": [
    "# select using css selector\n",
    "h1 = soup.select_one('div#meigen > h1').string"
   ]
  },
  {
   "cell_type": "code",
   "execution_count": 139,
   "metadata": {},
   "outputs": [
    {
     "data": {
      "text/plain": [
       "'위키북스'"
      ]
     },
     "execution_count": 139,
     "metadata": {},
     "output_type": "execute_result"
    }
   ],
   "source": [
    "h1"
   ]
  },
  {
   "cell_type": "code",
   "execution_count": 142,
   "metadata": {
    "collapsed": true
   },
   "outputs": [],
   "source": [
    "li_list = soup.select('div#meigen > ul.items > li')"
   ]
  },
  {
   "cell_type": "code",
   "execution_count": 143,
   "metadata": {},
   "outputs": [
    {
     "data": {
      "text/plain": [
       "list"
      ]
     },
     "execution_count": 143,
     "metadata": {},
     "output_type": "execute_result"
    }
   ],
   "source": [
    "type(li_list)"
   ]
  },
  {
   "cell_type": "code",
   "execution_count": 144,
   "metadata": {},
   "outputs": [
    {
     "data": {
      "text/plain": [
       "[<li>list1</li>, <li>list2</li>, <li>list3</li>]"
      ]
     },
     "execution_count": 144,
     "metadata": {},
     "output_type": "execute_result"
    }
   ],
   "source": [
    "li_list"
   ]
  },
  {
   "cell_type": "markdown",
   "metadata": {},
   "source": [
    "## select several components"
   ]
  },
  {
   "cell_type": "code",
   "execution_count": 26,
   "metadata": {
    "collapsed": true
   },
   "outputs": [],
   "source": [
    "html = \"\"\"\n",
    "<html>\n",
    "    <body>\n",
    "        <ul>\n",
    "            <li><a href=\"www.naver.com\">Naver</a></li>\n",
    "            <li><a href=\"www.daum.net\">Daum</a></li>\n",
    "        </ul>\n",
    "    </body>\n",
    "</html>\n",
    "\"\"\""
   ]
  },
  {
   "cell_type": "code",
   "execution_count": 27,
   "metadata": {
    "collapsed": true
   },
   "outputs": [],
   "source": [
    "soup = BeautifulSoup(html, 'html.parser')"
   ]
  },
  {
   "cell_type": "code",
   "execution_count": 28,
   "metadata": {
    "collapsed": true
   },
   "outputs": [],
   "source": [
    "links = soup.find_all('a')"
   ]
  },
  {
   "cell_type": "code",
   "execution_count": 29,
   "metadata": {},
   "outputs": [
    {
     "data": {
      "text/plain": [
       "bs4.element.ResultSet"
      ]
     },
     "execution_count": 29,
     "metadata": {},
     "output_type": "execute_result"
    }
   ],
   "source": [
    "type(links)"
   ]
  },
  {
   "cell_type": "code",
   "execution_count": 30,
   "metadata": {},
   "outputs": [
    {
     "name": "stdout",
     "output_type": "stream",
     "text": [
      "<class 'bs4.element.Tag'> : <a href=\"www.naver.com\">Naver</a>\n",
      "<class 'bs4.element.Tag'> : <a href=\"www.daum.net\">Daum</a>\n"
     ]
    }
   ],
   "source": [
    "for link in links:\n",
    "    print('{0} : {1}'.format(type(link), link))"
   ]
  },
  {
   "cell_type": "markdown",
   "metadata": {},
   "source": [
    "### convert type"
   ]
  },
  {
   "cell_type": "code",
   "execution_count": 31,
   "metadata": {},
   "outputs": [
    {
     "name": "stdout",
     "output_type": "stream",
     "text": [
      "Naver : www.naver.com\n",
      "Daum : www.daum.net\n"
     ]
    }
   ],
   "source": [
    "for link in links:\n",
    "    href = link.attrs['href']   # get attribute\n",
    "    text = link.string\n",
    "    \n",
    "    print('{0} : {1}'.format(text, href))"
   ]
  },
  {
   "cell_type": "markdown",
   "metadata": {},
   "source": [
    "# urlopen + bs4"
   ]
  },
  {
   "cell_type": "code",
   "execution_count": 32,
   "metadata": {
    "collapsed": true
   },
   "outputs": [],
   "source": [
    "import urllib.request as req"
   ]
  },
  {
   "cell_type": "code",
   "execution_count": 33,
   "metadata": {
    "collapsed": true
   },
   "outputs": [],
   "source": [
    "url = 'http://dbrang.tistory.com/1174'\n",
    "\n",
    "res = req.urlopen(url)"
   ]
  },
  {
   "cell_type": "code",
   "execution_count": 34,
   "metadata": {
    "collapsed": true
   },
   "outputs": [],
   "source": [
    "soup = BeautifulSoup(res, 'html.parser')"
   ]
  },
  {
   "cell_type": "code",
   "execution_count": 35,
   "metadata": {
    "collapsed": true
   },
   "outputs": [],
   "source": [
    "title = soup.find('title').string"
   ]
  },
  {
   "cell_type": "code",
   "execution_count": 36,
   "metadata": {},
   "outputs": [
    {
     "data": {
      "text/plain": [
       "'[Tools] Jupyter Notebook 단축키 :: dBRang'"
      ]
     },
     "execution_count": 36,
     "metadata": {},
     "output_type": "execute_result"
    }
   ],
   "source": [
    "title"
   ]
  },
  {
   "cell_type": "code",
   "execution_count": 37,
   "metadata": {
    "collapsed": true
   },
   "outputs": [],
   "source": [
    "table_title = soup.find('table')"
   ]
  },
  {
   "cell_type": "markdown",
   "metadata": {},
   "source": [
    "# bs4 - remove elements\n",
    "## using extract"
   ]
  },
  {
   "cell_type": "code",
   "execution_count": 92,
   "metadata": {
    "collapsed": true
   },
   "outputs": [],
   "source": [
    "html = \"\"\"\n",
    "<table>\n",
    "    <school>\n",
    "        <magic>1</magic>\n",
    "        <magic>2</magic>\n",
    "        <magic>3</magic>\n",
    "        <magic>4</magic>\n",
    "    </school>\n",
    "    <scc>\n",
    "        <magic>1</magic>\n",
    "        <magic>2</magic>\n",
    "        <magic>3</magic>\n",
    "        <magic>4</magic>\n",
    "    </scc>\n",
    "</table>\n",
    "\"\"\""
   ]
  },
  {
   "cell_type": "code",
   "execution_count": 93,
   "metadata": {
    "collapsed": true
   },
   "outputs": [],
   "source": [
    "soup = BeautifulSoup(html, 'html.parser')"
   ]
  },
  {
   "cell_type": "code",
   "execution_count": 88,
   "metadata": {
    "collapsed": true
   },
   "outputs": [],
   "source": [
    "inner_table = soup.find('table').find('school')"
   ]
  },
  {
   "cell_type": "code",
   "execution_count": 89,
   "metadata": {},
   "outputs": [
    {
     "data": {
      "text/plain": [
       "<school>\n",
       "<magic>1</magic>\n",
       "<magic>2</magic>\n",
       "<magic>3</magic>\n",
       "<magic>4</magic>\n",
       "</school>"
      ]
     },
     "execution_count": 89,
     "metadata": {},
     "output_type": "execute_result"
    }
   ],
   "source": [
    "inner_table"
   ]
  },
  {
   "cell_type": "code",
   "execution_count": 90,
   "metadata": {},
   "outputs": [
    {
     "data": {
      "text/plain": [
       "<school>\n",
       "<magic>1</magic>\n",
       "<magic>2</magic>\n",
       "<magic>3</magic>\n",
       "<magic>4</magic>\n",
       "</school>"
      ]
     },
     "execution_count": 90,
     "metadata": {},
     "output_type": "execute_result"
    }
   ],
   "source": [
    "# remove inner_table contetnts\n",
    "inner_table.extract()"
   ]
  },
  {
   "cell_type": "code",
   "execution_count": 91,
   "metadata": {},
   "outputs": [
    {
     "data": {
      "text/plain": [
       "\n",
       "<table>\n",
       "\n",
       "<scc>\n",
       "<magic>1</magic>\n",
       "<magic>2</magic>\n",
       "<magic>3</magic>\n",
       "<magic>4</magic>\n",
       "</scc>\n",
       "</table>"
      ]
     },
     "execution_count": 91,
     "metadata": {},
     "output_type": "execute_result"
    }
   ],
   "source": [
    "soup"
   ]
  },
  {
   "cell_type": "markdown",
   "metadata": {},
   "source": [
    "# bs4 - Create new tag"
   ]
  },
  {
   "cell_type": "code",
   "execution_count": 116,
   "metadata": {
    "collapsed": true
   },
   "outputs": [],
   "source": [
    "from bs4 import BeautifulSoup, Tag\n",
    "\n",
    "in_point = Tag(builder=soup.builder, \n",
    "               name='option',                \n",
    "               attrs={'value':'60','name':'start-time'})\n",
    "\n",
    "in_point.string = 'Value here~!'"
   ]
  },
  {
   "cell_type": "code",
   "execution_count": 117,
   "metadata": {},
   "outputs": [
    {
     "data": {
      "text/plain": [
       "bs4.element.Tag"
      ]
     },
     "execution_count": 117,
     "metadata": {},
     "output_type": "execute_result"
    }
   ],
   "source": [
    "type(in_point)"
   ]
  },
  {
   "cell_type": "code",
   "execution_count": 119,
   "metadata": {},
   "outputs": [
    {
     "data": {
      "text/plain": [
       "<option name=\"start-time\" value=\"60\">Value here~!</option>"
      ]
     },
     "execution_count": 119,
     "metadata": {},
     "output_type": "execute_result"
    }
   ],
   "source": [
    "in_point"
   ]
  },
  {
   "cell_type": "markdown",
   "metadata": {},
   "source": [
    "# Insert tags"
   ]
  },
  {
   "cell_type": "code",
   "execution_count": 120,
   "metadata": {
    "collapsed": true
   },
   "outputs": [],
   "source": [
    "html = \"\"\"\n",
    "<div>\n",
    "    test\n",
    "</div>\n",
    "\"\"\""
   ]
  },
  {
   "cell_type": "code",
   "execution_count": 121,
   "metadata": {
    "collapsed": true
   },
   "outputs": [],
   "source": [
    "soup = BeautifulSoup(html, 'html.parser')"
   ]
  },
  {
   "cell_type": "code",
   "execution_count": 122,
   "metadata": {
    "collapsed": true
   },
   "outputs": [],
   "source": [
    "soup.div.append(BeautifulSoup('<div>insert1</div>', 'html.parser'))"
   ]
  },
  {
   "cell_type": "code",
   "execution_count": 124,
   "metadata": {},
   "outputs": [
    {
     "name": "stdout",
     "output_type": "stream",
     "text": [
      "<div>\n",
      " test\n",
      "<div>\n",
      " insert1\n",
      "</div>\n",
      "</div>\n",
      "\n"
     ]
    }
   ],
   "source": [
    "print(soup.prettify())"
   ]
  },
  {
   "cell_type": "markdown",
   "metadata": {},
   "source": [
    "# Insert tags to given location"
   ]
  },
  {
   "cell_type": "code",
   "execution_count": 11,
   "metadata": {
    "collapsed": true
   },
   "outputs": [],
   "source": [
    "html = \"\"\"\n",
    "<html>\n",
    "    <body>\n",
    "        <div>\n",
    "            <h1>Title</h1>\n",
    "        </div>\n",
    "\n",
    "        <div id=\"table\">\n",
    "            <table>\n",
    "                11222\n",
    "            </table>\n",
    "        </div>\n",
    "    </body>\n",
    "</html>\n",
    "\"\"\""
   ]
  },
  {
   "cell_type": "code",
   "execution_count": 12,
   "metadata": {},
   "outputs": [],
   "source": [
    "soup = BeautifulSoup(html, 'html.parser')"
   ]
  },
  {
   "cell_type": "code",
   "execution_count": 20,
   "metadata": {},
   "outputs": [],
   "source": [
    "_table_delete = soup.select_one('#table > table')"
   ]
  },
  {
   "cell_type": "code",
   "execution_count": 21,
   "metadata": {},
   "outputs": [
    {
     "data": {
      "text/plain": [
       "<table>\n",
       "                11222\n",
       "            </table>"
      ]
     },
     "execution_count": 21,
     "metadata": {},
     "output_type": "execute_result"
    }
   ],
   "source": [
    "_table_delete"
   ]
  },
  {
   "cell_type": "code",
   "execution_count": 22,
   "metadata": {},
   "outputs": [
    {
     "data": {
      "text/plain": [
       "<table>\n",
       "                11222\n",
       "            </table>"
      ]
     },
     "execution_count": 22,
     "metadata": {},
     "output_type": "execute_result"
    }
   ],
   "source": [
    "_table_delete.extract()"
   ]
  },
  {
   "cell_type": "markdown",
   "metadata": {},
   "source": [
    "## remove successfully"
   ]
  },
  {
   "cell_type": "code",
   "execution_count": 25,
   "metadata": {},
   "outputs": [
    {
     "name": "stdout",
     "output_type": "stream",
     "text": [
      "<html>\n",
      " <body>\n",
      "  <div>\n",
      "   <h1>\n",
      "    Title\n",
      "   </h1>\n",
      "  </div>\n",
      "  <div id=\"table\">\n",
      "  </div>\n",
      " </body>\n",
      "</html>\n",
      "\n"
     ]
    }
   ],
   "source": [
    "print(soup.prettify())"
   ]
  },
  {
   "cell_type": "markdown",
   "metadata": {},
   "source": [
    "## insert new contens"
   ]
  },
  {
   "cell_type": "markdown",
   "metadata": {},
   "source": [
    "## make pseudo table"
   ]
  },
  {
   "cell_type": "code",
   "execution_count": 26,
   "metadata": {
    "collapsed": true
   },
   "outputs": [],
   "source": [
    "import pandas as pd"
   ]
  },
  {
   "cell_type": "code",
   "execution_count": 28,
   "metadata": {},
   "outputs": [],
   "source": [
    "df = pd.DataFrame({\n",
    "    'A':[1,2,3],\n",
    "    'B':['a','b','c'],\n",
    "})"
   ]
  },
  {
   "cell_type": "code",
   "execution_count": 29,
   "metadata": {},
   "outputs": [
    {
     "data": {
      "text/html": [
       "<div>\n",
       "<style>\n",
       "    .dataframe thead tr:only-child th {\n",
       "        text-align: right;\n",
       "    }\n",
       "\n",
       "    .dataframe thead th {\n",
       "        text-align: left;\n",
       "    }\n",
       "\n",
       "    .dataframe tbody tr th {\n",
       "        vertical-align: top;\n",
       "    }\n",
       "</style>\n",
       "<table border=\"1\" class=\"dataframe\">\n",
       "  <thead>\n",
       "    <tr style=\"text-align: right;\">\n",
       "      <th></th>\n",
       "      <th>A</th>\n",
       "      <th>B</th>\n",
       "    </tr>\n",
       "  </thead>\n",
       "  <tbody>\n",
       "    <tr>\n",
       "      <th>0</th>\n",
       "      <td>1</td>\n",
       "      <td>a</td>\n",
       "    </tr>\n",
       "    <tr>\n",
       "      <th>1</th>\n",
       "      <td>2</td>\n",
       "      <td>b</td>\n",
       "    </tr>\n",
       "    <tr>\n",
       "      <th>2</th>\n",
       "      <td>3</td>\n",
       "      <td>c</td>\n",
       "    </tr>\n",
       "  </tbody>\n",
       "</table>\n",
       "</div>"
      ],
      "text/plain": [
       "   A  B\n",
       "0  1  a\n",
       "1  2  b\n",
       "2  3  c"
      ]
     },
     "execution_count": 29,
     "metadata": {},
     "output_type": "execute_result"
    }
   ],
   "source": [
    "df"
   ]
  },
  {
   "cell_type": "markdown",
   "metadata": {},
   "source": [
    "## make html table from dataframe"
   ]
  },
  {
   "cell_type": "code",
   "execution_count": 31,
   "metadata": {},
   "outputs": [],
   "source": [
    "df_html = df.to_html(index=False, classes=\"table table_bordered\")"
   ]
  },
  {
   "cell_type": "code",
   "execution_count": 33,
   "metadata": {},
   "outputs": [
    {
     "name": "stdout",
     "output_type": "stream",
     "text": [
      "<table border=\"1\" class=\"dataframe table table_bordered\">\n",
      "  <thead>\n",
      "    <tr style=\"text-align: right;\">\n",
      "      <th>A</th>\n",
      "      <th>B</th>\n",
      "    </tr>\n",
      "  </thead>\n",
      "  <tbody>\n",
      "    <tr>\n",
      "      <td>1</td>\n",
      "      <td>a</td>\n",
      "    </tr>\n",
      "    <tr>\n",
      "      <td>2</td>\n",
      "      <td>b</td>\n",
      "    </tr>\n",
      "    <tr>\n",
      "      <td>3</td>\n",
      "      <td>c</td>\n",
      "    </tr>\n",
      "  </tbody>\n",
      "</table>\n"
     ]
    }
   ],
   "source": [
    "print(df_html)"
   ]
  },
  {
   "cell_type": "markdown",
   "metadata": {},
   "source": [
    "## insert table in typical location"
   ]
  },
  {
   "cell_type": "code",
   "execution_count": 44,
   "metadata": {
    "collapsed": true
   },
   "outputs": [],
   "source": [
    "_table_inert_loc = soup.select_one('div#table')"
   ]
  },
  {
   "cell_type": "code",
   "execution_count": 41,
   "metadata": {},
   "outputs": [
    {
     "data": {
      "text/plain": [
       "<div id=\"table\">\n",
       "\n",
       "</div>"
      ]
     },
     "execution_count": 41,
     "metadata": {},
     "output_type": "execute_result"
    }
   ],
   "source": [
    "_table_inert_loc"
   ]
  },
  {
   "cell_type": "code",
   "execution_count": 42,
   "metadata": {
    "collapsed": true
   },
   "outputs": [],
   "source": [
    "_table_inert_loc.append(df_html)"
   ]
  },
  {
   "cell_type": "code",
   "execution_count": 43,
   "metadata": {},
   "outputs": [
    {
     "data": {
      "text/plain": [
       "<div id=\"table\">\n",
       "\n",
       "&lt;table border=\"1\" class=\"dataframe table table_bordered\"&gt;\n",
       "  &lt;thead&gt;\n",
       "    &lt;tr style=\"text-align: right;\"&gt;\n",
       "      &lt;th&gt;A&lt;/th&gt;\n",
       "      &lt;th&gt;B&lt;/th&gt;\n",
       "    &lt;/tr&gt;\n",
       "  &lt;/thead&gt;\n",
       "  &lt;tbody&gt;\n",
       "    &lt;tr&gt;\n",
       "      &lt;td&gt;1&lt;/td&gt;\n",
       "      &lt;td&gt;a&lt;/td&gt;\n",
       "    &lt;/tr&gt;\n",
       "    &lt;tr&gt;\n",
       "      &lt;td&gt;2&lt;/td&gt;\n",
       "      &lt;td&gt;b&lt;/td&gt;\n",
       "    &lt;/tr&gt;\n",
       "    &lt;tr&gt;\n",
       "      &lt;td&gt;3&lt;/td&gt;\n",
       "      &lt;td&gt;c&lt;/td&gt;\n",
       "    &lt;/tr&gt;\n",
       "  &lt;/tbody&gt;\n",
       "&lt;/table&gt;</div>"
      ]
     },
     "execution_count": 43,
     "metadata": {},
     "output_type": "execute_result"
    }
   ],
   "source": [
    "_table_inert_loc"
   ]
  },
  {
   "cell_type": "markdown",
   "metadata": {},
   "source": [
    "## unescape characters"
   ]
  },
  {
   "cell_type": "code",
   "execution_count": 45,
   "metadata": {
    "collapsed": true
   },
   "outputs": [],
   "source": [
    "from html import unescape"
   ]
  },
  {
   "cell_type": "code",
   "execution_count": 51,
   "metadata": {
    "collapsed": true
   },
   "outputs": [],
   "source": [
    "# unescape soup str\n",
    "_table_inert_loc = unescape(str(soup))"
   ]
  },
  {
   "cell_type": "code",
   "execution_count": 52,
   "metadata": {},
   "outputs": [
    {
     "name": "stdout",
     "output_type": "stream",
     "text": [
      "\n",
      "<html>\n",
      "<body>\n",
      "<div>\n",
      "<h1>Title</h1>\n",
      "</div>\n",
      "<div id=\"table\">\n",
      "\n",
      "<table border=\"1\" class=\"dataframe table table_bordered\">\n",
      "  <thead>\n",
      "    <tr style=\"text-align: right;\">\n",
      "      <th>A</th>\n",
      "      <th>B</th>\n",
      "    </tr>\n",
      "  </thead>\n",
      "  <tbody>\n",
      "    <tr>\n",
      "      <td>1</td>\n",
      "      <td>a</td>\n",
      "    </tr>\n",
      "    <tr>\n",
      "      <td>2</td>\n",
      "      <td>b</td>\n",
      "    </tr>\n",
      "    <tr>\n",
      "      <td>3</td>\n",
      "      <td>c</td>\n",
      "    </tr>\n",
      "  </tbody>\n",
      "</table></div>\n",
      "</body>\n",
      "</html>\n",
      "\n"
     ]
    }
   ],
   "source": [
    "print(_table_inert_loc)"
   ]
  },
  {
   "cell_type": "markdown",
   "metadata": {},
   "source": [
    "## set attribute on tag"
   ]
  },
  {
   "cell_type": "code",
   "execution_count": 79,
   "metadata": {
    "collapsed": true
   },
   "outputs": [],
   "source": [
    "html = \"\"\"\n",
    "<html>\n",
    "    <body>\n",
    "        <div>\n",
    "            <h1>Title</h1>\n",
    "        </div>\n",
    "\n",
    "        <div id=\"table\">\n",
    "            <table>\n",
    "                11222\n",
    "            </table>\n",
    "        </div>\n",
    "    </body>\n",
    "</html>\n",
    "\"\"\""
   ]
  },
  {
   "cell_type": "code",
   "execution_count": 81,
   "metadata": {
    "collapsed": true
   },
   "outputs": [],
   "source": [
    "soup = BeautifulSoup(html, 'html.parser')"
   ]
  },
  {
   "cell_type": "code",
   "execution_count": 82,
   "metadata": {
    "collapsed": true
   },
   "outputs": [],
   "source": [
    "tag = soup.select_one('div#table > table')"
   ]
  },
  {
   "cell_type": "code",
   "execution_count": 83,
   "metadata": {},
   "outputs": [
    {
     "data": {
      "text/plain": [
       "<table>\n",
       "                11222\n",
       "            </table>"
      ]
     },
     "execution_count": 83,
     "metadata": {},
     "output_type": "execute_result"
    }
   ],
   "source": [
    "tag"
   ]
  },
  {
   "cell_type": "code",
   "execution_count": 86,
   "metadata": {
    "collapsed": true
   },
   "outputs": [],
   "source": [
    "tag['id'] = 'myTable'\n",
    "tag['class'] = 'dataframe table table_bordered'"
   ]
  },
  {
   "cell_type": "code",
   "execution_count": 87,
   "metadata": {},
   "outputs": [
    {
     "data": {
      "text/plain": [
       "<table class=\"dataframe table table_bordered\" id=\"myTable\">\n",
       "                11222\n",
       "            </table>"
      ]
     },
     "execution_count": 87,
     "metadata": {},
     "output_type": "execute_result"
    }
   ],
   "source": [
    "tag"
   ]
  },
  {
   "cell_type": "markdown",
   "metadata": {},
   "source": [
    "## change class info"
   ]
  },
  {
   "cell_type": "code",
   "execution_count": 88,
   "metadata": {
    "collapsed": true
   },
   "outputs": [],
   "source": [
    "tag['class'] = 'newclass here'"
   ]
  },
  {
   "cell_type": "code",
   "execution_count": 89,
   "metadata": {},
   "outputs": [
    {
     "data": {
      "text/plain": [
       "<table class=\"newclass here\" id=\"myTable\">\n",
       "                11222\n",
       "            </table>"
      ]
     },
     "execution_count": 89,
     "metadata": {},
     "output_type": "execute_result"
    }
   ],
   "source": [
    "tag"
   ]
  },
  {
   "cell_type": "code",
   "execution_count": 90,
   "metadata": {},
   "outputs": [
    {
     "name": "stdout",
     "output_type": "stream",
     "text": [
      "\n",
      "<html>\n",
      "<body>\n",
      "<div>\n",
      "<h1>Title</h1>\n",
      "</div>\n",
      "<div id=\"table\">\n",
      "<table class=\"newclass here\" id=\"myTable\">\n",
      "                11222\n",
      "            </table>\n",
      "</div>\n",
      "</body>\n",
      "</html>\n",
      "\n"
     ]
    }
   ],
   "source": [
    "print(str(soup))"
   ]
  },
  {
   "cell_type": "markdown",
   "metadata": {},
   "source": [
    "# 네이버 금융에서 환율 정보 추출"
   ]
  },
  {
   "cell_type": "code",
   "execution_count": 145,
   "metadata": {
    "collapsed": true
   },
   "outputs": [],
   "source": [
    "url = 'http://info.finance.naver.com/marketindex'"
   ]
  },
  {
   "cell_type": "code",
   "execution_count": 146,
   "metadata": {
    "collapsed": true
   },
   "outputs": [],
   "source": [
    "resp = req.urlopen(url)"
   ]
  },
  {
   "cell_type": "code",
   "execution_count": 147,
   "metadata": {
    "collapsed": true
   },
   "outputs": [],
   "source": [
    "soup = BeautifulSoup(resp, 'html.parser')"
   ]
  },
  {
   "cell_type": "code",
   "execution_count": 148,
   "metadata": {
    "collapsed": true
   },
   "outputs": [],
   "source": [
    "price = soup.select_one('div.head_info > span.value')"
   ]
  },
  {
   "cell_type": "code",
   "execution_count": 149,
   "metadata": {},
   "outputs": [
    {
     "data": {
      "text/plain": [
       "<span class=\"value\">1,086.50</span>"
      ]
     },
     "execution_count": 149,
     "metadata": {},
     "output_type": "execute_result"
    }
   ],
   "source": [
    "price"
   ]
  },
  {
   "cell_type": "code",
   "execution_count": 150,
   "metadata": {},
   "outputs": [
    {
     "name": "stdout",
     "output_type": "stream",
     "text": [
      "USD/KRW : 1,086.50\n"
     ]
    }
   ],
   "source": [
    "print('USD/KRW : {0}'.format(price.string))"
   ]
  },
  {
   "cell_type": "markdown",
   "metadata": {},
   "source": [
    "# 동탄 중앙 이음터 도서관 자동 로그인"
   ]
  },
  {
   "cell_type": "code",
   "execution_count": 151,
   "metadata": {
    "collapsed": true
   },
   "outputs": [],
   "source": [
    "import requests"
   ]
  },
  {
   "cell_type": "code",
   "execution_count": 152,
   "metadata": {
    "collapsed": true
   },
   "outputs": [],
   "source": [
    "user = 'lch1000m'"
   ]
  },
  {
   "cell_type": "code",
   "execution_count": 159,
   "metadata": {
    "collapsed": true
   },
   "outputs": [],
   "source": [
    "pwd = '\\@aaa7149sss'"
   ]
  },
  {
   "cell_type": "code",
   "execution_count": 156,
   "metadata": {
    "collapsed": true
   },
   "outputs": [],
   "source": [
    "session = requests.session()"
   ]
  },
  {
   "cell_type": "code",
   "execution_count": 168,
   "metadata": {
    "collapsed": true
   },
   "outputs": [],
   "source": [
    "login_info = {\n",
    "    'user_id':user,\n",
    "    'user_pwd':pwd,\n",
    "}"
   ]
  },
  {
   "cell_type": "code",
   "execution_count": 169,
   "metadata": {
    "collapsed": true
   },
   "outputs": [],
   "source": [
    "url_login = 'http://www.hscitylib.or.kr/iutlib/index.jsp'"
   ]
  },
  {
   "cell_type": "code",
   "execution_count": 170,
   "metadata": {
    "collapsed": true
   },
   "outputs": [],
   "source": [
    "res = session.post(url_login, data=login_info)"
   ]
  },
  {
   "cell_type": "code",
   "execution_count": 171,
   "metadata": {
    "collapsed": true
   },
   "outputs": [],
   "source": [
    "res.raise_for_status()"
   ]
  },
  {
   "cell_type": "code",
   "execution_count": 172,
   "metadata": {},
   "outputs": [
    {
     "data": {
      "text/plain": [
       "<Response [200]>"
      ]
     },
     "execution_count": 172,
     "metadata": {},
     "output_type": "execute_result"
    }
   ],
   "source": [
    "res"
   ]
  },
  {
   "cell_type": "markdown",
   "metadata": {},
   "source": [
    "# requests module"
   ]
  },
  {
   "cell_type": "markdown",
   "metadata": {},
   "source": [
    "## goto mypage & get information"
   ]
  },
  {
   "cell_type": "code",
   "execution_count": 185,
   "metadata": {
    "collapsed": true
   },
   "outputs": [],
   "source": [
    "url_mypage = 'http://www.hscitylib.or.kr/myloanStatus.do?LIBCODE=IUTLIB'"
   ]
  },
  {
   "cell_type": "code",
   "execution_count": 186,
   "metadata": {
    "collapsed": true
   },
   "outputs": [],
   "source": [
    "res = session.get(url_mypage)"
   ]
  },
  {
   "cell_type": "code",
   "execution_count": 187,
   "metadata": {
    "collapsed": true
   },
   "outputs": [],
   "source": [
    "res.raise_for_status()"
   ]
  },
  {
   "cell_type": "code",
   "execution_count": 188,
   "metadata": {
    "collapsed": true
   },
   "outputs": [],
   "source": [
    "soup = BeautifulSoup(res.text, 'html.parser')"
   ]
  },
  {
   "cell_type": "code",
   "execution_count": 189,
   "metadata": {},
   "outputs": [
    {
     "data": {
      "text/plain": [
       "'\\n\\n\\n\\n\\n화성시문화재단 인트로 팝업존\\n\\r\\n\\r\\n\\t\\t\\t\\talert(\"로그인이 필요한 서비스입니다.\");\\r\\n\\r\\n\\t\\t\\t\\tlocation.replace(\"/loginForm.do\");\\r\\n\\r\\n\\n\\n\\n\\n'"
      ]
     },
     "execution_count": 189,
     "metadata": {},
     "output_type": "execute_result"
    }
   ],
   "source": [
    "soup.text"
   ]
  },
  {
   "cell_type": "markdown",
   "metadata": {},
   "source": [
    "## get data using requests"
   ]
  },
  {
   "cell_type": "code",
   "execution_count": 190,
   "metadata": {
    "collapsed": true
   },
   "outputs": [],
   "source": [
    "url = 'https://python.swaroopch.com/op_exp.html'"
   ]
  },
  {
   "cell_type": "code",
   "execution_count": 191,
   "metadata": {
    "collapsed": true
   },
   "outputs": [],
   "source": [
    "r = requests.get(url)"
   ]
  },
  {
   "cell_type": "code",
   "execution_count": 193,
   "metadata": {},
   "outputs": [
    {
     "data": {
      "text/plain": [
       "<Response [200]>"
      ]
     },
     "execution_count": 193,
     "metadata": {},
     "output_type": "execute_result"
    }
   ],
   "source": [
    "r"
   ]
  },
  {
   "cell_type": "code",
   "execution_count": 198,
   "metadata": {
    "collapsed": true
   },
   "outputs": [],
   "source": [
    "# get data as string\n",
    "text = r.text"
   ]
  },
  {
   "cell_type": "code",
   "execution_count": 197,
   "metadata": {},
   "outputs": [
    {
     "data": {
      "text/plain": [
       "str"
      ]
     },
     "execution_count": 197,
     "metadata": {},
     "output_type": "execute_result"
    }
   ],
   "source": [
    "type(text)"
   ]
  },
  {
   "cell_type": "code",
   "execution_count": 200,
   "metadata": {
    "collapsed": true
   },
   "outputs": [],
   "source": [
    "# get data as binary\n",
    "bin = r.content"
   ]
  },
  {
   "cell_type": "code",
   "execution_count": 201,
   "metadata": {},
   "outputs": [
    {
     "data": {
      "text/plain": [
       "bytes"
      ]
     },
     "execution_count": 201,
     "metadata": {},
     "output_type": "execute_result"
    }
   ],
   "source": [
    "type(bin)"
   ]
  },
  {
   "cell_type": "markdown",
   "metadata": {},
   "source": [
    "## download image data using requests"
   ]
  },
  {
   "cell_type": "code",
   "execution_count": 204,
   "metadata": {
    "collapsed": true
   },
   "outputs": [],
   "source": [
    "url = 'https://www.w3schools.com/w3css/img_fjords.jpg'\n",
    "\n",
    "r = requests.get(url)"
   ]
  },
  {
   "cell_type": "code",
   "execution_count": 209,
   "metadata": {
    "collapsed": true
   },
   "outputs": [],
   "source": [
    "# save data as binary\n",
    "with open('image_requests_binary.png', 'wb') as f:\n",
    "    f.write(r.content)"
   ]
  },
  {
   "cell_type": "code",
   "execution_count": 210,
   "metadata": {},
   "outputs": [
    {
     "data": {
      "image/png": "[encoded data removed]",
      "text/plain": [
       "<IPython.core.display.Image object>"
      ]
     },
     "execution_count": 210,
     "metadata": {},
     "output_type": "execute_result"
    }
   ],
   "source": [
    "Image('image_requests_binary.png')"
   ]
  },
  {
   "cell_type": "code",
   "execution_count": null,
   "metadata": {
    "collapsed": true
   },
   "outputs": [],
   "source": []
  },
  {
   "cell_type": "code",
   "execution_count": null,
   "metadata": {
    "collapsed": true
   },
   "outputs": [],
   "source": []
  },
  {
   "cell_type": "code",
   "execution_count": null,
   "metadata": {
    "collapsed": true
   },
   "outputs": [],
   "source": []
  },
  {
   "cell_type": "code",
   "execution_count": null,
   "metadata": {
    "collapsed": true
   },
   "outputs": [],
   "source": []
  },
  {
   "cell_type": "code",
   "execution_count": null,
   "metadata": {
    "collapsed": true
   },
   "outputs": [],
   "source": []
  },
  {
   "cell_type": "code",
   "execution_count": null,
   "metadata": {
    "collapsed": true
   },
   "outputs": [],
   "source": []
  }
 ],
 "metadata": {
  "kernelspec": {
   "display_name": "Python 3",
   "language": "python",
   "name": "python3"
  },
  "language_info": {
   "codemirror_mode": {
    "name": "ipython",
    "version": 3
   },
   "file_extension": ".py",
   "mimetype": "text/x-python",
   "name": "python",
   "nbconvert_exporter": "python",
   "pygments_lexer": "ipython3",
   "version": "3.6.1"
  }
 },
 "nbformat": 4,
 "nbformat_minor": 2
}
