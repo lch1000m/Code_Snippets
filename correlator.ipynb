{
 "cells": [
  {
   "cell_type": "markdown",
   "metadata": {},
   "source": [
    "# Correlator"
   ]
  },
  {
   "cell_type": "markdown",
   "metadata": {},
   "source": [
    " "
   ]
  },
  {
   "cell_type": "markdown",
   "metadata": {},
   "source": [
    "---"
   ]
  },
  {
   "cell_type": "markdown",
   "metadata": {},
   "source": [
    "# Table of Contents"
   ]
  },
  {
   "cell_type": "markdown",
   "metadata": {},
   "source": [
    "### 1. [time generator](#t_gen)\n",
    "\n",
    "\n",
    "\n",
    "\n",
    "<br><br><br><br><br><br>"
   ]
  },
  {
   "cell_type": "markdown",
   "metadata": {},
   "source": [
    "---"
   ]
  },
  {
   "cell_type": "markdown",
   "metadata": {},
   "source": [
    "<a id=\"t_gen\"></a>\n",
    "## Time generator\n",
    "### w.r.t given time period"
   ]
  },
  {
   "cell_type": "code",
   "execution_count": 1,
   "metadata": {
    "collapsed": true
   },
   "outputs": [],
   "source": [
    "from datetime import datetime as dt\n",
    "from datetime import timedelta as td"
   ]
  },
  {
   "cell_type": "code",
   "execution_count": 2,
   "metadata": {
    "collapsed": true
   },
   "outputs": [],
   "source": [
    "from dateutil import parser"
   ]
  },
  {
   "cell_type": "markdown",
   "metadata": {},
   "source": [
    "#### set time interval : start to end"
   ]
  },
  {
   "cell_type": "code",
   "execution_count": 3,
   "metadata": {
    "collapsed": true
   },
   "outputs": [],
   "source": [
    "start = '2019-01-01'\n",
    "end = '2019-02-01'"
   ]
  },
  {
   "cell_type": "code",
   "execution_count": 4,
   "metadata": {
    "collapsed": true
   },
   "outputs": [],
   "source": [
    "_start = parser.parse(start)\n",
    "_end = parser.parse(end)"
   ]
  },
  {
   "cell_type": "markdown",
   "metadata": {},
   "source": [
    "#### set delta time as unit of days"
   ]
  },
  {
   "cell_type": "code",
   "execution_count": 5,
   "metadata": {
    "collapsed": true
   },
   "outputs": [],
   "source": [
    "def time_generator(date_start='', date_end='', delta=1):\n",
    "    \n",
    "    _start = parser.parse(date_start)\n",
    "    _end = parser.parse(date_end)\n",
    "    \n",
    "    result = []\n",
    "\n",
    "    last_date = _start\n",
    "\n",
    "    while last_date < _end:\n",
    "        temp = []\n",
    "        temp.append(str(last_date))\n",
    "        \n",
    "        # define last date\n",
    "        last_date += td(days=delta)\n",
    "        if last_date < _end:\n",
    "            temp.append(str(last_date))\n",
    "        else:\n",
    "            temp.append(str(_end))\n",
    "        \n",
    "        result.append(temp)\n",
    "        \n",
    "    return result"
   ]
  },
  {
   "cell_type": "markdown",
   "metadata": {},
   "source": [
    "#### output form as list of [start, end] form"
   ]
  },
  {
   "cell_type": "code",
   "execution_count": 9,
   "metadata": {},
   "outputs": [
    {
     "name": "stdout",
     "output_type": "stream",
     "text": [
      "from 2019-01-01 00:00:00 to 2019-01-02 00:00:00\n",
      "from 2019-01-02 00:00:00 to 2019-01-03 00:00:00\n",
      "from 2019-01-03 00:00:00 to 2019-01-04 00:00:00\n",
      "from 2019-01-04 00:00:00 to 2019-01-05 00:00:00\n",
      "from 2019-01-05 00:00:00 to 2019-01-06 00:00:00\n",
      "from 2019-01-06 00:00:00 to 2019-01-07 00:00:00\n",
      "from 2019-01-07 00:00:00 to 2019-01-08 00:00:00\n",
      "from 2019-01-08 00:00:00 to 2019-01-09 00:00:00\n",
      "from 2019-01-09 00:00:00 to 2019-01-10 00:00:00\n",
      "from 2019-01-10 00:00:00 to 2019-01-11 00:00:00\n",
      "from 2019-01-11 00:00:00 to 2019-01-12 00:00:00\n",
      "from 2019-01-12 00:00:00 to 2019-01-13 00:00:00\n",
      "from 2019-01-13 00:00:00 to 2019-01-14 00:00:00\n",
      "from 2019-01-14 00:00:00 to 2019-01-15 00:00:00\n",
      "from 2019-01-15 00:00:00 to 2019-01-16 00:00:00\n",
      "from 2019-01-16 00:00:00 to 2019-01-17 00:00:00\n",
      "from 2019-01-17 00:00:00 to 2019-01-18 00:00:00\n",
      "from 2019-01-18 00:00:00 to 2019-01-19 00:00:00\n",
      "from 2019-01-19 00:00:00 to 2019-01-20 00:00:00\n",
      "from 2019-01-20 00:00:00 to 2019-01-21 00:00:00\n",
      "from 2019-01-21 00:00:00 to 2019-01-22 00:00:00\n",
      "from 2019-01-22 00:00:00 to 2019-01-23 00:00:00\n",
      "from 2019-01-23 00:00:00 to 2019-01-24 00:00:00\n",
      "from 2019-01-24 00:00:00 to 2019-01-25 00:00:00\n",
      "from 2019-01-25 00:00:00 to 2019-01-26 00:00:00\n",
      "from 2019-01-26 00:00:00 to 2019-01-27 00:00:00\n",
      "from 2019-01-27 00:00:00 to 2019-01-28 00:00:00\n",
      "from 2019-01-28 00:00:00 to 2019-01-29 00:00:00\n",
      "from 2019-01-29 00:00:00 to 2019-01-30 00:00:00\n",
      "from 2019-01-30 00:00:00 to 2019-01-31 00:00:00\n",
      "from 2019-01-31 00:00:00 to 2019-02-01 00:00:00\n"
     ]
    }
   ],
   "source": [
    "res = time_generator(date_start=start, date_end=end, delta=1)\n",
    "\n",
    "for it in res:\n",
    "    print('from {0} to {1}'.format(it[0], it[1]))"
   ]
  },
  {
   "cell_type": "code",
   "execution_count": null,
   "metadata": {
    "collapsed": true
   },
   "outputs": [],
   "source": []
  }
 ],
 "metadata": {
  "kernelspec": {
   "display_name": "Python 3",
   "language": "python",
   "name": "python3"
  },
  "language_info": {
   "codemirror_mode": {
    "name": "ipython",
    "version": 3
   },
   "file_extension": ".py",
   "mimetype": "text/x-python",
   "name": "python",
   "nbconvert_exporter": "python",
   "pygments_lexer": "ipython3",
   "version": "3.6.3"
  }
 },
 "nbformat": 4,
 "nbformat_minor": 2
}
