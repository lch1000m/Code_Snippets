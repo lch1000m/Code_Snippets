{
 "cells": [
  {
   "cell_type": "markdown",
   "metadata": {
    "collapsed": true
   },
   "source": [
    "# XML manipulation by etree"
   ]
  },
  {
   "cell_type": "code",
   "execution_count": 1,
   "metadata": {
    "collapsed": true
   },
   "outputs": [],
   "source": [
    "from xml.etree.ElementTree import Element, SubElement, dump\n",
    "import xml.etree.ElementTree as et\n",
    "\n",
    "# Indentation function\n",
    "def indent(elem, level=0):\n",
    "    i = \"\\n\" + level*\"  \"\n",
    "    if len(elem):\n",
    "        if not elem.text or not elem.text.strip():\n",
    "            elem.text = i + \"  \"\n",
    "        if not elem.tail or not elem.tail.strip():\n",
    "            elem.tail = i\n",
    "        for elem in elem:\n",
    "            indent(elem, level+1)\n",
    "        if not elem.tail or not elem.tail.strip():\n",
    "            elem.tail = i\n",
    "    else:\n",
    "        if level and (not elem.tail or not elem.tail.strip()):\n",
    "            elem.tail = i\n",
    "            \n",
    "def idump(root):\n",
    "    indent(root)\n",
    "    dump(root)"
   ]
  },
  {
   "cell_type": "markdown",
   "metadata": {},
   "source": [
    "# Make simple XML dom"
   ]
  },
  {
   "cell_type": "code",
   "execution_count": 2,
   "metadata": {},
   "outputs": [
    {
     "name": "stdout",
     "output_type": "stream",
     "text": [
      "<note>\n",
      "  <to>Tove</to>\n",
      "</note>\n"
     ]
    }
   ],
   "source": [
    "note = Element(\"note\")\n",
    "to = Element(\"to\")\n",
    "to.text = \"Tove\"\n",
    "\n",
    "note.append(to)\n",
    "\n",
    "indent(note)\n",
    "\n",
    "dump(note)"
   ]
  },
  {
   "cell_type": "markdown",
   "metadata": {},
   "source": [
    "# add SubElement to Element"
   ]
  },
  {
   "cell_type": "code",
   "execution_count": 27,
   "metadata": {},
   "outputs": [],
   "source": [
    "note = Element(\"note\")\n",
    "note.attrib[\"date\"] = \"20120104\"\n",
    "\n",
    "to = Element(\"to\")\n",
    "to.text = \"Tove\"\n",
    "note.append(to)\n",
    "\n",
    "SubElement(note, \"from\", attrib={'id':'from', 'name':'form'}).text = \"Jani\"   # add attribute\n",
    "SubElement(note, \"heading\").text = \"Reminder\"\n",
    "SubElement(note, \"body\").text = \"Don't forget me this weekend!\""
   ]
  },
  {
   "cell_type": "code",
   "execution_count": 28,
   "metadata": {},
   "outputs": [
    {
     "name": "stdout",
     "output_type": "stream",
     "text": [
      "<note date=\"20120104\">\n",
      "  <to>Tove</to>\n",
      "  <from id=\"from\" name=\"form\">Jani</from>\n",
      "  <heading>Reminder</heading>\n",
      "  <body>Don't forget me this weekend!</body>\n",
      "</note>\n"
     ]
    }
   ],
   "source": [
    "indent(note)\n",
    "\n",
    "dump(note)"
   ]
  },
  {
   "cell_type": "markdown",
   "metadata": {},
   "source": [
    "# add SubElement to on selected Hierarchy"
   ]
  },
  {
   "cell_type": "code",
   "execution_count": 31,
   "metadata": {
    "collapsed": true
   },
   "outputs": [],
   "source": [
    "addr = Element('address')\n",
    "addr.text = 'yemiji'\n",
    "\n",
    "location = note.find('to')\n",
    "location.append(addr)"
   ]
  },
  {
   "cell_type": "code",
   "execution_count": 32,
   "metadata": {},
   "outputs": [
    {
     "name": "stdout",
     "output_type": "stream",
     "text": [
      "<note date=\"20120104\">\n",
      "  <to>Tove<address>yemiji</address>\n",
      "  </to>\n",
      "  <from id=\"from\" name=\"form\">Jani</from>\n",
      "  <heading>Reminder</heading>\n",
      "  <body>Don't forget me this weekend!</body>\n",
      "</note>\n"
     ]
    }
   ],
   "source": [
    "idump(note)"
   ]
  },
  {
   "cell_type": "markdown",
   "metadata": {},
   "source": [
    "# read xml file"
   ]
  },
  {
   "cell_type": "code",
   "execution_count": 5,
   "metadata": {},
   "outputs": [
    {
     "name": "stdout",
     "output_type": "stream",
     "text": [
      "<note>\n",
      "  <info id=\"1st\">\n",
      "    <name>Tove</name>\n",
      "    <addr>11</addr>\n",
      "    <addr>12</addr>\n",
      "    <addr>13</addr>\n",
      "  </info>\n",
      "  <info id=\"2nd\">\n",
      "    <name>Jane</name>\n",
      "    <addr>21</addr>\n",
      "    <addr>22</addr>\n",
      "    <addr>23</addr>\n",
      "  </info>\n",
      "</note>\n"
     ]
    }
   ],
   "source": [
    "xml = open('input.xml').read()\n",
    "root = et.fromstring(xml)\n",
    "\n",
    "indent(root)\n",
    "dump(root)"
   ]
  },
  {
   "cell_type": "markdown",
   "metadata": {},
   "source": [
    "# add SubElement to root"
   ]
  },
  {
   "cell_type": "code",
   "execution_count": 6,
   "metadata": {
    "collapsed": true
   },
   "outputs": [],
   "source": [
    "# add subelement\n",
    "_Element = Element('age', {'loc':'Boston'})\n",
    "_Element.text = '23'\n",
    "\n",
    "info = root.findall(\"info[@id='2nd']\")   # find by tag name & attributes\n",
    "\n",
    "for _info in info:\n",
    "    addrs = _info.findall(\"addr\")\n",
    "    for addr in addrs:\n",
    "        addr.append(_Element)"
   ]
  },
  {
   "cell_type": "code",
   "execution_count": 7,
   "metadata": {},
   "outputs": [
    {
     "name": "stdout",
     "output_type": "stream",
     "text": [
      "<note>\n",
      "  <info id=\"1st\">\n",
      "    <name>Tove</name>\n",
      "    <addr>11</addr>\n",
      "    <addr>12</addr>\n",
      "    <addr>13</addr>\n",
      "  </info>\n",
      "  <info id=\"2nd\">\n",
      "    <name>Jane</name>\n",
      "    <addr>21<age loc=\"Boston\">23</age>\n",
      "    </addr>\n",
      "    <addr>22<age loc=\"Boston\">23</age>\n",
      "    </addr>\n",
      "    <addr>23<age loc=\"Boston\">23</age>\n",
      "    </addr>\n",
      "  </info>\n",
      "</note>\n"
     ]
    }
   ],
   "source": [
    "idump(root)"
   ]
  },
  {
   "cell_type": "markdown",
   "metadata": {},
   "source": [
    "# set attributes"
   ]
  },
  {
   "cell_type": "code",
   "execution_count": 26,
   "metadata": {
    "collapsed": true
   },
   "outputs": [],
   "source": [
    "note = Element(\"note\", name=\"CH Lee\")\n",
    "to = Element(\"to\")\n",
    "to.text = \"Tove\"\n",
    "\n",
    "note.append(to)\n",
    "\n",
    "# add new elements using SubElement\n",
    "SubElement(note, \"from\").text = \"Jani\"\n",
    "\n",
    "# add new attributes\n",
    "note.attrib[\"date\"] = \"20120104\"\n",
    "note.attrib[\"id\"] = \"Unique\""
   ]
  },
  {
   "cell_type": "code",
   "execution_count": 9,
   "metadata": {},
   "outputs": [
    {
     "name": "stdout",
     "output_type": "stream",
     "text": [
      "<note date=\"20120104\" id=\"Unique\" name=\"CH Lee\">\n",
      "  <to>Tove</to>\n",
      "  <from>Jani</from>\n",
      "</note>\n"
     ]
    }
   ],
   "source": [
    "idump(note)"
   ]
  },
  {
   "cell_type": "markdown",
   "metadata": {},
   "source": [
    "# remove elements"
   ]
  },
  {
   "cell_type": "code",
   "execution_count": 10,
   "metadata": {
    "collapsed": true
   },
   "outputs": [],
   "source": [
    "note = Element(\"note\")\n",
    "to = Element(\"to\")\n",
    "to.text = \"Tove\"\n",
    "\n",
    "note.append(to)\n",
    "SubElement(note, \"From\").text = \"Jani\""
   ]
  },
  {
   "cell_type": "code",
   "execution_count": 11,
   "metadata": {},
   "outputs": [
    {
     "name": "stdout",
     "output_type": "stream",
     "text": [
      "<note>\n",
      "  <to>Tove</to>\n",
      "  <From>Jani</From>\n",
      "</note>\n"
     ]
    }
   ],
   "source": [
    "idump(note)"
   ]
  },
  {
   "cell_type": "code",
   "execution_count": 12,
   "metadata": {
    "collapsed": true
   },
   "outputs": [],
   "source": [
    "dummy = Element(\"dummy\")\n",
    "note.remove(to)"
   ]
  },
  {
   "cell_type": "code",
   "execution_count": 13,
   "metadata": {},
   "outputs": [
    {
     "name": "stdout",
     "output_type": "stream",
     "text": [
      "<note>\n",
      "  <From>Jani</From>\n",
      "</note>\n"
     ]
    }
   ],
   "source": [
    "idump(note)"
   ]
  },
  {
   "cell_type": "markdown",
   "metadata": {},
   "source": [
    "# remove all sub elements"
   ]
  },
  {
   "cell_type": "code",
   "execution_count": 49,
   "metadata": {
    "collapsed": true
   },
   "outputs": [],
   "source": [
    "note = Element(\"note\")\n",
    "to = Element(\"to\")\n",
    "to.text = \"Tove\"\n",
    "\n",
    "note.append(to)\n",
    "SubElement(note, \"From\").text = \"Jani\""
   ]
  },
  {
   "cell_type": "code",
   "execution_count": 50,
   "metadata": {},
   "outputs": [
    {
     "name": "stdout",
     "output_type": "stream",
     "text": [
      "<note>\n",
      "  <to>Tove</to>\n",
      "  <From>Jani</From>\n",
      "</note>\n"
     ]
    }
   ],
   "source": [
    "idump(note)"
   ]
  },
  {
   "cell_type": "code",
   "execution_count": 51,
   "metadata": {
    "collapsed": true
   },
   "outputs": [],
   "source": [
    "# fill subelements in to\n",
    "to_loc = note.find('to')\n",
    "\n",
    "for i in  range(5):\n",
    "    addr = Element('addr')\n",
    "    addr.text = str(i+1)\n",
    "    \n",
    "    to_loc.append(addr)"
   ]
  },
  {
   "cell_type": "code",
   "execution_count": 52,
   "metadata": {},
   "outputs": [
    {
     "name": "stdout",
     "output_type": "stream",
     "text": [
      "<note>\n",
      "  <to>Tove<addr>1</addr>\n",
      "    <addr>2</addr>\n",
      "    <addr>3</addr>\n",
      "    <addr>4</addr>\n",
      "    <addr>5</addr>\n",
      "  </to>\n",
      "  <From>Jani</From>\n",
      "</note>\n"
     ]
    }
   ],
   "source": [
    "idump(note)"
   ]
  },
  {
   "cell_type": "markdown",
   "metadata": {},
   "source": [
    "# remove all childrens of selected tag\n",
    "## using getchildren"
   ]
  },
  {
   "cell_type": "code",
   "execution_count": 47,
   "metadata": {},
   "outputs": [],
   "source": [
    "loc_to = note.find('to')\n",
    "\n",
    "# get childrens of loc_to\n",
    "iter_child = loc_to.getchildren()\n",
    "\n",
    "for child in iter_child:\n",
    "    loc_to.remove(child)"
   ]
  },
  {
   "cell_type": "code",
   "execution_count": 48,
   "metadata": {},
   "outputs": [
    {
     "name": "stdout",
     "output_type": "stream",
     "text": [
      "<note>\n",
      "  <to>Tove</to>\n",
      "  <From>Jani</From>\n",
      "</note>\n"
     ]
    }
   ],
   "source": [
    "idump(note)"
   ]
  },
  {
   "cell_type": "markdown",
   "metadata": {},
   "source": [
    "## using getiterator"
   ]
  },
  {
   "cell_type": "code",
   "execution_count": 85,
   "metadata": {},
   "outputs": [],
   "source": [
    "loc_to = note.find('to')\n",
    "\n",
    "# get all parent & childrens using getiterator\n",
    "iter = loc_to.getiterator()"
   ]
  },
  {
   "cell_type": "code",
   "execution_count": 86,
   "metadata": {},
   "outputs": [
    {
     "name": "stdout",
     "output_type": "stream",
     "text": [
      "<Element 'to' at 0x0000022E195CCB38> : Tove - []\n",
      "<Element 'addr' at 0x0000022E1A1D3368> : 1 - []\n",
      "<Element 'addr' at 0x0000022E1A1D34F8> : 2 - []\n",
      "<Element 'addr' at 0x0000022E1A1D3548> : 3 - []\n",
      "<Element 'addr' at 0x0000022E1A1D3638> : 4 - []\n",
      "<Element 'addr' at 0x0000022E1A1D37C8> : 5 - []\n"
     ]
    }
   ],
   "source": [
    "for tag in iter:\n",
    "    print('{0} : {1} - {2}'.format(tag, tag.text, tag.items()))"
   ]
  },
  {
   "cell_type": "markdown",
   "metadata": {},
   "source": [
    "# Insert elements"
   ]
  },
  {
   "cell_type": "code",
   "execution_count": 14,
   "metadata": {
    "collapsed": true
   },
   "outputs": [],
   "source": [
    "note = Element(\"note\")\n",
    "to = Element(\"to\")\n",
    "to.text = \"Tove\"\n",
    "\n",
    "note.append(to)\n",
    "SubElement(note, \"From\").text = \"Jani\""
   ]
  },
  {
   "cell_type": "code",
   "execution_count": 15,
   "metadata": {},
   "outputs": [
    {
     "name": "stdout",
     "output_type": "stream",
     "text": [
      "<note>\n",
      "  <to>Tove</to>\n",
      "  <From>Jani</From>\n",
      "</note>\n"
     ]
    }
   ],
   "source": [
    "idump(note)"
   ]
  },
  {
   "cell_type": "code",
   "execution_count": 16,
   "metadata": {
    "collapsed": true
   },
   "outputs": [],
   "source": [
    "dummy = Element(\"dummy\")\n",
    "\n",
    "note.insert(0, dummy)  # first arg is a position to be inserted"
   ]
  },
  {
   "cell_type": "code",
   "execution_count": 17,
   "metadata": {},
   "outputs": [
    {
     "name": "stdout",
     "output_type": "stream",
     "text": [
      "<note>\n",
      "  <dummy />\n",
      "  <to>Tove</to>\n",
      "  <From>Jani</From>\n",
      "</note>\n"
     ]
    }
   ],
   "source": [
    "idump(note)"
   ]
  },
  {
   "cell_type": "markdown",
   "metadata": {},
   "source": [
    "# Insert contents to typical location"
   ]
  },
  {
   "cell_type": "code",
   "execution_count": 18,
   "metadata": {
    "collapsed": true
   },
   "outputs": [],
   "source": [
    "note = Element(\"note\")\n",
    "to = Element(\"to\")\n",
    "to.text = \"Tove\"\n",
    "\n",
    "note.append(to)\n",
    "SubElement(note, \"From\").text = \"Jani\""
   ]
  },
  {
   "cell_type": "code",
   "execution_count": 19,
   "metadata": {},
   "outputs": [
    {
     "name": "stdout",
     "output_type": "stream",
     "text": [
      "<note>\n",
      "  <to>Tove</to>\n",
      "  <From>Jani</From>\n",
      "</note>\n"
     ]
    }
   ],
   "source": [
    "idump(note)"
   ]
  },
  {
   "cell_type": "code",
   "execution_count": 20,
   "metadata": {
    "collapsed": true
   },
   "outputs": [],
   "source": [
    "search = note.find('to')"
   ]
  },
  {
   "cell_type": "code",
   "execution_count": 21,
   "metadata": {},
   "outputs": [
    {
     "data": {
      "text/plain": [
       "<Element 'to' at 0x0000022E195A9AE8>"
      ]
     },
     "execution_count": 21,
     "metadata": {},
     "output_type": "execute_result"
    }
   ],
   "source": [
    "search"
   ]
  },
  {
   "cell_type": "markdown",
   "metadata": {},
   "source": [
    "## using insert"
   ]
  },
  {
   "cell_type": "code",
   "execution_count": 22,
   "metadata": {
    "collapsed": true
   },
   "outputs": [],
   "source": [
    "content = Element('mailcontents')\n",
    "\n",
    "search.insert(0, content)"
   ]
  },
  {
   "cell_type": "code",
   "execution_count": 23,
   "metadata": {},
   "outputs": [
    {
     "name": "stdout",
     "output_type": "stream",
     "text": [
      "<note>\n",
      "  <to>Tove<mailcontents />\n",
      "  </to>\n",
      "  <From>Jani</From>\n",
      "</note>\n"
     ]
    }
   ],
   "source": [
    "idump(note)"
   ]
  },
  {
   "cell_type": "markdown",
   "metadata": {},
   "source": [
    "## using append"
   ]
  },
  {
   "cell_type": "code",
   "execution_count": 24,
   "metadata": {},
   "outputs": [],
   "source": [
    "search2 = note.find('From')\n",
    "content.text = 'mail contents'\n",
    "\n",
    "search2.append(content)"
   ]
  },
  {
   "cell_type": "code",
   "execution_count": 25,
   "metadata": {},
   "outputs": [
    {
     "name": "stdout",
     "output_type": "stream",
     "text": [
      "<note>\n",
      "  <to>Tove<mailcontents>mail contents</mailcontents>\n",
      "  </to>\n",
      "  <From>Jani<mailcontents>mail contents</mailcontents>\n",
      "  </From>\n",
      "</note>\n"
     ]
    }
   ],
   "source": [
    "idump(note)"
   ]
  }
 ],
 "metadata": {
  "kernelspec": {
   "display_name": "Python 3",
   "language": "python",
   "name": "python3"
  },
  "language_info": {
   "codemirror_mode": {
    "name": "ipython",
    "version": 3
   },
   "file_extension": ".py",
   "mimetype": "text/x-python",
   "name": "python",
   "nbconvert_exporter": "python",
   "pygments_lexer": "ipython3",
   "version": "3.6.1"
  }
 },
 "nbformat": 4,
 "nbformat_minor": 1
}
