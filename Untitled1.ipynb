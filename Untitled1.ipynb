{
 "cells": [
  {
   "cell_type": "code",
   "execution_count": 113,
   "id": "a2a7358e",
   "metadata": {},
   "outputs": [],
   "source": [
    "import pandas as pd"
   ]
  },
  {
   "cell_type": "code",
   "execution_count": 114,
   "id": "65ddb275",
   "metadata": {},
   "outputs": [],
   "source": [
    "import goldentiger as gt"
   ]
  },
  {
   "cell_type": "code",
   "execution_count": 115,
   "id": "94fd82b4",
   "metadata": {},
   "outputs": [],
   "source": [
    "sp = pd.read_excel(\n",
    "    r'E:\\Codes\\sample.xlsx',\n",
    "    sheet_name='output',\n",
    ")"
   ]
  },
  {
   "cell_type": "code",
   "execution_count": 116,
   "id": "5b287800",
   "metadata": {},
   "outputs": [
    {
     "data": {
      "text/html": [
       "<div>\n",
       "<style scoped>\n",
       "    .dataframe tbody tr th:only-of-type {\n",
       "        vertical-align: middle;\n",
       "    }\n",
       "\n",
       "    .dataframe tbody tr th {\n",
       "        vertical-align: top;\n",
       "    }\n",
       "\n",
       "    .dataframe thead th {\n",
       "        text-align: right;\n",
       "    }\n",
       "</style>\n",
       "<table border=\"1\" class=\"dataframe\">\n",
       "  <thead>\n",
       "    <tr style=\"text-align: right;\">\n",
       "      <th></th>\n",
       "      <th>Week</th>\n",
       "      <th>LOT_WF</th>\n",
       "      <th>ITEM_ID</th>\n",
       "      <th>Pass</th>\n",
       "      <th>Unnamed: 4</th>\n",
       "    </tr>\n",
       "  </thead>\n",
       "  <tbody>\n",
       "    <tr>\n",
       "      <th>0</th>\n",
       "      <td>19.0</td>\n",
       "      <td>A</td>\n",
       "      <td>a</td>\n",
       "      <td>1.0</td>\n",
       "      <td>NaN</td>\n",
       "    </tr>\n",
       "    <tr>\n",
       "      <th>1</th>\n",
       "      <td>19.0</td>\n",
       "      <td>A</td>\n",
       "      <td>a</td>\n",
       "      <td>1.0</td>\n",
       "      <td>NaN</td>\n",
       "    </tr>\n",
       "    <tr>\n",
       "      <th>2</th>\n",
       "      <td>19.0</td>\n",
       "      <td>A</td>\n",
       "      <td>a</td>\n",
       "      <td>0.0</td>\n",
       "      <td>NaN</td>\n",
       "    </tr>\n",
       "    <tr>\n",
       "      <th>3</th>\n",
       "      <td>NaN</td>\n",
       "      <td>B</td>\n",
       "      <td>a</td>\n",
       "      <td>NaN</td>\n",
       "      <td>NaN</td>\n",
       "    </tr>\n",
       "    <tr>\n",
       "      <th>4</th>\n",
       "      <td>NaN</td>\n",
       "      <td>B</td>\n",
       "      <td>a</td>\n",
       "      <td>NaN</td>\n",
       "      <td>NaN</td>\n",
       "    </tr>\n",
       "    <tr>\n",
       "      <th>5</th>\n",
       "      <td>19.0</td>\n",
       "      <td>B</td>\n",
       "      <td>a</td>\n",
       "      <td>1.0</td>\n",
       "      <td>NaN</td>\n",
       "    </tr>\n",
       "    <tr>\n",
       "      <th>6</th>\n",
       "      <td>NaN</td>\n",
       "      <td>C</td>\n",
       "      <td>b</td>\n",
       "      <td>NaN</td>\n",
       "      <td>NaN</td>\n",
       "    </tr>\n",
       "    <tr>\n",
       "      <th>7</th>\n",
       "      <td>18.0</td>\n",
       "      <td>A</td>\n",
       "      <td>a</td>\n",
       "      <td>1.0</td>\n",
       "      <td>NaN</td>\n",
       "    </tr>\n",
       "    <tr>\n",
       "      <th>8</th>\n",
       "      <td>18.0</td>\n",
       "      <td>A</td>\n",
       "      <td>a</td>\n",
       "      <td>1.0</td>\n",
       "      <td>NaN</td>\n",
       "    </tr>\n",
       "    <tr>\n",
       "      <th>9</th>\n",
       "      <td>18.0</td>\n",
       "      <td>A</td>\n",
       "      <td>a</td>\n",
       "      <td>0.0</td>\n",
       "      <td>NaN</td>\n",
       "    </tr>\n",
       "    <tr>\n",
       "      <th>10</th>\n",
       "      <td>18.0</td>\n",
       "      <td>B</td>\n",
       "      <td>a</td>\n",
       "      <td>1.0</td>\n",
       "      <td>NaN</td>\n",
       "    </tr>\n",
       "    <tr>\n",
       "      <th>11</th>\n",
       "      <td>18.0</td>\n",
       "      <td>B</td>\n",
       "      <td>a</td>\n",
       "      <td>1.0</td>\n",
       "      <td>NaN</td>\n",
       "    </tr>\n",
       "    <tr>\n",
       "      <th>12</th>\n",
       "      <td>18.0</td>\n",
       "      <td>B</td>\n",
       "      <td>a</td>\n",
       "      <td>1.0</td>\n",
       "      <td>NaN</td>\n",
       "    </tr>\n",
       "    <tr>\n",
       "      <th>13</th>\n",
       "      <td>18.0</td>\n",
       "      <td>C</td>\n",
       "      <td>b</td>\n",
       "      <td>1.0</td>\n",
       "      <td>NaN</td>\n",
       "    </tr>\n",
       "  </tbody>\n",
       "</table>\n",
       "</div>"
      ],
      "text/plain": [
       "    Week LOT_WF ITEM_ID  Pass  Unnamed: 4\n",
       "0   19.0      A       a   1.0         NaN\n",
       "1   19.0      A       a   1.0         NaN\n",
       "2   19.0      A       a   0.0         NaN\n",
       "3    NaN      B       a   NaN         NaN\n",
       "4    NaN      B       a   NaN         NaN\n",
       "5   19.0      B       a   1.0         NaN\n",
       "6    NaN      C       b   NaN         NaN\n",
       "7   18.0      A       a   1.0         NaN\n",
       "8   18.0      A       a   1.0         NaN\n",
       "9   18.0      A       a   0.0         NaN\n",
       "10  18.0      B       a   1.0         NaN\n",
       "11  18.0      B       a   1.0         NaN\n",
       "12  18.0      B       a   1.0         NaN\n",
       "13  18.0      C       b   1.0         NaN"
      ]
     },
     "execution_count": 116,
     "metadata": {},
     "output_type": "execute_result"
    }
   ],
   "source": [
    "sp"
   ]
  },
  {
   "cell_type": "code",
   "execution_count": 117,
   "id": "a0192740",
   "metadata": {},
   "outputs": [
    {
     "name": "stdout",
     "output_type": "stream",
     "text": [
      "('A', 'a')\n",
      "   Week LOT_WF ITEM_ID  Pass  Unnamed: 4\n",
      "0  19.0      A       a   1.0         NaN\n",
      "1  19.0      A       a   1.0         NaN\n",
      "2  19.0      A       a   0.0         NaN\n",
      "7  18.0      A       a   1.0         NaN\n",
      "8  18.0      A       a   1.0         NaN\n",
      "9  18.0      A       a   0.0         NaN\n",
      "('B', 'a')\n",
      "    Week LOT_WF ITEM_ID  Pass  Unnamed: 4\n",
      "3    NaN      B       a   NaN         NaN\n",
      "4    NaN      B       a   NaN         NaN\n",
      "5   19.0      B       a   1.0         NaN\n",
      "10  18.0      B       a   1.0         NaN\n",
      "11  18.0      B       a   1.0         NaN\n",
      "12  18.0      B       a   1.0         NaN\n",
      "('C', 'b')\n",
      "    Week LOT_WF ITEM_ID  Pass  Unnamed: 4\n",
      "6    NaN      C       b   NaN         NaN\n",
      "13  18.0      C       b   1.0         NaN\n"
     ]
    }
   ],
   "source": [
    "grp = sp.groupby(['LOT_WF','ITEM_ID'])[['Pass']]\n",
    "\n",
    "for _n, _df in grp:\n",
    "    print(_n)\n",
    "    print(_df)"
   ]
  },
  {
   "cell_type": "markdown",
   "id": "9fd6ef4a",
   "metadata": {},
   "source": [
    "### sample 전체 count"
   ]
  },
  {
   "cell_type": "code",
   "execution_count": 118,
   "id": "a99ff604",
   "metadata": {},
   "outputs": [
    {
     "data": {
      "text/plain": [
       "LOT_WF  ITEM_ID\n",
       "A       a          6.0\n",
       "B       a          4.0\n",
       "C       b          1.0\n",
       "Name: Pass, dtype: float64"
      ]
     },
     "execution_count": 118,
     "metadata": {},
     "output_type": "execute_result"
    }
   ],
   "source": [
    "res = sp.groupby(['LOT_WF','ITEM_ID'])['Pass'].aggregate(lambda x: x.count())\n",
    "\n",
    "res"
   ]
  },
  {
   "cell_type": "markdown",
   "id": "417139f1",
   "metadata": {},
   "source": [
    "### sample 중 Pass 가 1인 count"
   ]
  },
  {
   "cell_type": "code",
   "execution_count": 119,
   "id": "e3a8e3bb",
   "metadata": {},
   "outputs": [
    {
     "data": {
      "text/plain": [
       "LOT_WF  ITEM_ID\n",
       "A       a          4.0\n",
       "B       a          4.0\n",
       "C       b          1.0\n",
       "Name: Pass, dtype: float64"
      ]
     },
     "execution_count": 119,
     "metadata": {},
     "output_type": "execute_result"
    }
   ],
   "source": [
    "res = sp.groupby(['LOT_WF','ITEM_ID'])['Pass'].aggregate(lambda x: x[x==1].count())\n",
    "\n",
    "res"
   ]
  },
  {
   "cell_type": "markdown",
   "id": "de63d74b",
   "metadata": {},
   "source": [
    "### sample 중 Pass 가 0인 count"
   ]
  },
  {
   "cell_type": "code",
   "execution_count": 120,
   "id": "983fc929",
   "metadata": {},
   "outputs": [
    {
     "data": {
      "text/plain": [
       "LOT_WF  ITEM_ID\n",
       "A       a          2.0\n",
       "B       a          0.0\n",
       "C       b          0.0\n",
       "Name: Pass, dtype: float64"
      ]
     },
     "execution_count": 120,
     "metadata": {},
     "output_type": "execute_result"
    }
   ],
   "source": [
    "res = sp.groupby(['LOT_WF','ITEM_ID'])['Pass'].aggregate(lambda x: x[x==0].count())\n",
    "\n",
    "res"
   ]
  },
  {
   "cell_type": "markdown",
   "id": "fbdbc1b2",
   "metadata": {},
   "source": [
    "### sample 중 Pass 의 합 구하기"
   ]
  },
  {
   "cell_type": "code",
   "execution_count": 121,
   "id": "4a2b1e22",
   "metadata": {},
   "outputs": [
    {
     "data": {
      "text/plain": [
       "LOT_WF  ITEM_ID\n",
       "A       a          4.0\n",
       "B       a          4.0\n",
       "C       b          1.0\n",
       "Name: Pass, dtype: float64"
      ]
     },
     "execution_count": 121,
     "metadata": {},
     "output_type": "execute_result"
    }
   ],
   "source": [
    "res = sp.groupby(['LOT_WF','ITEM_ID'])['Pass'].aggregate(lambda x: x.sum())\n",
    "\n",
    "res"
   ]
  },
  {
   "cell_type": "code",
   "execution_count": 122,
   "id": "8d91d785",
   "metadata": {},
   "outputs": [
    {
     "data": {
      "text/plain": [
       "LOT_WF  ITEM_ID\n",
       "A       a          4.0\n",
       "B       a          4.0\n",
       "C       b          1.0\n",
       "Name: Pass, dtype: float64"
      ]
     },
     "execution_count": 122,
     "metadata": {},
     "output_type": "execute_result"
    }
   ],
   "source": [
    "res = sp.groupby(['LOT_WF','ITEM_ID'], dropna=False)['Pass'].aggregate(lambda x: x.sum())\n",
    "\n",
    "res"
   ]
  },
  {
   "cell_type": "code",
   "execution_count": 123,
   "id": "0e15b0e5",
   "metadata": {},
   "outputs": [
    {
     "data": {
      "text/plain": [
       "LOT_WF  ITEM_ID  Week\n",
       "A       a        18.0    2.0\n",
       "                 19.0    2.0\n",
       "B       a        18.0    3.0\n",
       "                 19.0    1.0\n",
       "C       b        18.0    1.0\n",
       "Name: Pass, dtype: float64"
      ]
     },
     "execution_count": 123,
     "metadata": {},
     "output_type": "execute_result"
    }
   ],
   "source": [
    "res = sp.groupby(['LOT_WF','ITEM_ID', 'Week'], dropna=True)['Pass'].aggregate(lambda x: x.sum())\n",
    "\n",
    "res"
   ]
  },
  {
   "cell_type": "code",
   "execution_count": 124,
   "id": "1882857b",
   "metadata": {},
   "outputs": [
    {
     "data": {
      "text/plain": [
       "LOT_WF  ITEM_ID  Week\n",
       "A       a        18.0    3.0\n",
       "                 19.0    3.0\n",
       "B       a        18.0    3.0\n",
       "                 19.0    1.0\n",
       "C       b        18.0    1.0\n",
       "Name: Pass, dtype: float64"
      ]
     },
     "execution_count": 124,
     "metadata": {},
     "output_type": "execute_result"
    }
   ],
   "source": [
    "res = sp.groupby(['LOT_WF','ITEM_ID', 'Week'])['Pass'].aggregate(lambda x: x.count())\n",
    "\n",
    "res"
   ]
  },
  {
   "cell_type": "code",
   "execution_count": 125,
   "id": "9d32590f",
   "metadata": {},
   "outputs": [
    {
     "data": {
      "text/html": [
       "<div>\n",
       "<style scoped>\n",
       "    .dataframe tbody tr th:only-of-type {\n",
       "        vertical-align: middle;\n",
       "    }\n",
       "\n",
       "    .dataframe tbody tr th {\n",
       "        vertical-align: top;\n",
       "    }\n",
       "\n",
       "    .dataframe thead th {\n",
       "        text-align: right;\n",
       "    }\n",
       "</style>\n",
       "<table border=\"1\" class=\"dataframe\">\n",
       "  <thead>\n",
       "    <tr style=\"text-align: right;\">\n",
       "      <th></th>\n",
       "      <th></th>\n",
       "      <th>n_of_sample</th>\n",
       "      <th>n_of_pass</th>\n",
       "      <th>pass_rate</th>\n",
       "    </tr>\n",
       "    <tr>\n",
       "      <th>LOT_WF</th>\n",
       "      <th>ITEM_ID</th>\n",
       "      <th></th>\n",
       "      <th></th>\n",
       "      <th></th>\n",
       "    </tr>\n",
       "  </thead>\n",
       "  <tbody>\n",
       "    <tr>\n",
       "      <th>A</th>\n",
       "      <th>a</th>\n",
       "      <td>6.0</td>\n",
       "      <td>4.0</td>\n",
       "      <td>66.666667</td>\n",
       "    </tr>\n",
       "    <tr>\n",
       "      <th>B</th>\n",
       "      <th>a</th>\n",
       "      <td>4.0</td>\n",
       "      <td>4.0</td>\n",
       "      <td>100.000000</td>\n",
       "    </tr>\n",
       "    <tr>\n",
       "      <th>C</th>\n",
       "      <th>b</th>\n",
       "      <td>1.0</td>\n",
       "      <td>1.0</td>\n",
       "      <td>100.000000</td>\n",
       "    </tr>\n",
       "  </tbody>\n",
       "</table>\n",
       "</div>"
      ],
      "text/plain": [
       "                n_of_sample  n_of_pass   pass_rate\n",
       "LOT_WF ITEM_ID                                    \n",
       "A      a                6.0        4.0   66.666667\n",
       "B      a                4.0        4.0  100.000000\n",
       "C      b                1.0        1.0  100.000000"
      ]
     },
     "execution_count": 125,
     "metadata": {},
     "output_type": "execute_result"
    }
   ],
   "source": [
    "res = sp.groupby(['LOT_WF','ITEM_ID'])[['Pass']].agg(\n",
    "    n_of_sample = pd.NamedAgg(column='Pass', aggfunc=lambda x: x.count()),\n",
    "    n_of_pass = pd.NamedAgg(column='Pass', aggfunc=lambda x: x.sum()),\n",
    "    pass_rate = pd.NamedAgg(column='Pass', aggfunc=lambda x: x.sum()/x.count()*100),\n",
    ")\n",
    "    \n",
    "\n",
    "res"
   ]
  },
  {
   "cell_type": "code",
   "execution_count": 126,
   "id": "9d4e2895",
   "metadata": {},
   "outputs": [
    {
     "data": {
      "text/html": [
       "<div>\n",
       "<style scoped>\n",
       "    .dataframe tbody tr th:only-of-type {\n",
       "        vertical-align: middle;\n",
       "    }\n",
       "\n",
       "    .dataframe tbody tr th {\n",
       "        vertical-align: top;\n",
       "    }\n",
       "\n",
       "    .dataframe thead th {\n",
       "        text-align: right;\n",
       "    }\n",
       "</style>\n",
       "<table border=\"1\" class=\"dataframe\">\n",
       "  <thead>\n",
       "    <tr style=\"text-align: right;\">\n",
       "      <th></th>\n",
       "      <th>Week</th>\n",
       "      <th>ITEM_ID</th>\n",
       "      <th>LOT_WF</th>\n",
       "      <th>n_of_sample</th>\n",
       "      <th>n_of_pass</th>\n",
       "      <th>pass_rate</th>\n",
       "    </tr>\n",
       "  </thead>\n",
       "  <tbody>\n",
       "    <tr>\n",
       "      <th>0</th>\n",
       "      <td>18.0</td>\n",
       "      <td>a</td>\n",
       "      <td>A</td>\n",
       "      <td>3.0</td>\n",
       "      <td>2.0</td>\n",
       "      <td>66.666667</td>\n",
       "    </tr>\n",
       "    <tr>\n",
       "      <th>1</th>\n",
       "      <td>18.0</td>\n",
       "      <td>a</td>\n",
       "      <td>B</td>\n",
       "      <td>3.0</td>\n",
       "      <td>3.0</td>\n",
       "      <td>100.000000</td>\n",
       "    </tr>\n",
       "    <tr>\n",
       "      <th>2</th>\n",
       "      <td>18.0</td>\n",
       "      <td>b</td>\n",
       "      <td>C</td>\n",
       "      <td>1.0</td>\n",
       "      <td>1.0</td>\n",
       "      <td>100.000000</td>\n",
       "    </tr>\n",
       "    <tr>\n",
       "      <th>3</th>\n",
       "      <td>19.0</td>\n",
       "      <td>a</td>\n",
       "      <td>A</td>\n",
       "      <td>3.0</td>\n",
       "      <td>2.0</td>\n",
       "      <td>66.666667</td>\n",
       "    </tr>\n",
       "    <tr>\n",
       "      <th>4</th>\n",
       "      <td>19.0</td>\n",
       "      <td>a</td>\n",
       "      <td>B</td>\n",
       "      <td>1.0</td>\n",
       "      <td>1.0</td>\n",
       "      <td>100.000000</td>\n",
       "    </tr>\n",
       "  </tbody>\n",
       "</table>\n",
       "</div>"
      ],
      "text/plain": [
       "   Week ITEM_ID LOT_WF  n_of_sample  n_of_pass   pass_rate\n",
       "0  18.0       a      A          3.0        2.0   66.666667\n",
       "1  18.0       a      B          3.0        3.0  100.000000\n",
       "2  18.0       b      C          1.0        1.0  100.000000\n",
       "3  19.0       a      A          3.0        2.0   66.666667\n",
       "4  19.0       a      B          1.0        1.0  100.000000"
      ]
     },
     "execution_count": 126,
     "metadata": {},
     "output_type": "execute_result"
    }
   ],
   "source": [
    "res = sp.groupby(['Week','ITEM_ID','LOT_WF'])[['Pass']].agg(\n",
    "    n_of_sample = pd.NamedAgg(column='Pass', aggfunc=lambda x: x.count()),\n",
    "    n_of_pass = pd.NamedAgg(column='Pass', aggfunc=lambda x: x.sum()),\n",
    "    pass_rate = pd.NamedAgg(column='Pass', aggfunc=lambda x: x.sum()/x.count()*100),\n",
    ")\n",
    "    \n",
    "res.reset_index()"
   ]
  },
  {
   "cell_type": "code",
   "execution_count": 127,
   "id": "4b41398a",
   "metadata": {},
   "outputs": [
    {
     "data": {
      "text/html": [
       "<div>\n",
       "<style scoped>\n",
       "    .dataframe tbody tr th:only-of-type {\n",
       "        vertical-align: middle;\n",
       "    }\n",
       "\n",
       "    .dataframe tbody tr th {\n",
       "        vertical-align: top;\n",
       "    }\n",
       "\n",
       "    .dataframe thead th {\n",
       "        text-align: right;\n",
       "    }\n",
       "</style>\n",
       "<table border=\"1\" class=\"dataframe\">\n",
       "  <thead>\n",
       "    <tr style=\"text-align: right;\">\n",
       "      <th></th>\n",
       "      <th>Week</th>\n",
       "      <th>ITEM_ID</th>\n",
       "      <th>LOT_WF</th>\n",
       "      <th>n_of_sample</th>\n",
       "      <th>n_of_pass</th>\n",
       "      <th>pass_rate</th>\n",
       "      <th>Pass/Fail</th>\n",
       "    </tr>\n",
       "  </thead>\n",
       "  <tbody>\n",
       "    <tr>\n",
       "      <th>0</th>\n",
       "      <td>18.0</td>\n",
       "      <td>a</td>\n",
       "      <td>A</td>\n",
       "      <td>3.0</td>\n",
       "      <td>2.0</td>\n",
       "      <td>66.666667</td>\n",
       "      <td>Fail</td>\n",
       "    </tr>\n",
       "    <tr>\n",
       "      <th>1</th>\n",
       "      <td>18.0</td>\n",
       "      <td>a</td>\n",
       "      <td>B</td>\n",
       "      <td>3.0</td>\n",
       "      <td>3.0</td>\n",
       "      <td>100.000000</td>\n",
       "      <td>Pass</td>\n",
       "    </tr>\n",
       "    <tr>\n",
       "      <th>2</th>\n",
       "      <td>18.0</td>\n",
       "      <td>b</td>\n",
       "      <td>C</td>\n",
       "      <td>1.0</td>\n",
       "      <td>1.0</td>\n",
       "      <td>100.000000</td>\n",
       "      <td>Pass</td>\n",
       "    </tr>\n",
       "    <tr>\n",
       "      <th>3</th>\n",
       "      <td>19.0</td>\n",
       "      <td>a</td>\n",
       "      <td>A</td>\n",
       "      <td>3.0</td>\n",
       "      <td>2.0</td>\n",
       "      <td>66.666667</td>\n",
       "      <td>Fail</td>\n",
       "    </tr>\n",
       "    <tr>\n",
       "      <th>4</th>\n",
       "      <td>19.0</td>\n",
       "      <td>a</td>\n",
       "      <td>B</td>\n",
       "      <td>1.0</td>\n",
       "      <td>1.0</td>\n",
       "      <td>100.000000</td>\n",
       "      <td>Pass</td>\n",
       "    </tr>\n",
       "  </tbody>\n",
       "</table>\n",
       "</div>"
      ],
      "text/plain": [
       "   Week ITEM_ID LOT_WF  n_of_sample  n_of_pass   pass_rate Pass/Fail\n",
       "0  18.0       a      A          3.0        2.0   66.666667      Fail\n",
       "1  18.0       a      B          3.0        3.0  100.000000      Pass\n",
       "2  18.0       b      C          1.0        1.0  100.000000      Pass\n",
       "3  19.0       a      A          3.0        2.0   66.666667      Fail\n",
       "4  19.0       a      B          1.0        1.0  100.000000      Pass"
      ]
     },
     "execution_count": 127,
     "metadata": {},
     "output_type": "execute_result"
    }
   ],
   "source": [
    "r = res.reset_index()\n",
    "\n",
    "r.loc[r['pass_rate']>80, 'Pass/Fail'] = \"Pass\"\n",
    "r.loc[r['pass_rate']<=80, 'Pass/Fail'] = \"Fail\"\n",
    "\n",
    "r"
   ]
  },
  {
   "cell_type": "code",
   "execution_count": null,
   "id": "95b2b565",
   "metadata": {},
   "outputs": [],
   "source": []
  },
  {
   "cell_type": "code",
   "execution_count": null,
   "id": "8d53dd52",
   "metadata": {},
   "outputs": [],
   "source": []
  },
  {
   "cell_type": "code",
   "execution_count": null,
   "id": "8677ce11",
   "metadata": {},
   "outputs": [],
   "source": []
  },
  {
   "cell_type": "code",
   "execution_count": null,
   "id": "405bf96f",
   "metadata": {},
   "outputs": [],
   "source": []
  },
  {
   "cell_type": "code",
   "execution_count": null,
   "id": "9683d3ce",
   "metadata": {},
   "outputs": [],
   "source": []
  },
  {
   "cell_type": "code",
   "execution_count": null,
   "id": "40ad5add",
   "metadata": {},
   "outputs": [],
   "source": []
  },
  {
   "cell_type": "code",
   "execution_count": null,
   "id": "ee5d21a7",
   "metadata": {},
   "outputs": [],
   "source": []
  },
  {
   "cell_type": "code",
   "execution_count": null,
   "id": "7b61a94a",
   "metadata": {},
   "outputs": [],
   "source": []
  },
  {
   "cell_type": "code",
   "execution_count": null,
   "id": "d5dbc0b7",
   "metadata": {},
   "outputs": [],
   "source": []
  },
  {
   "cell_type": "code",
   "execution_count": null,
   "id": "1b8e1a2b",
   "metadata": {},
   "outputs": [],
   "source": []
  },
  {
   "cell_type": "code",
   "execution_count": null,
   "id": "00cbfd03",
   "metadata": {},
   "outputs": [],
   "source": []
  },
  {
   "cell_type": "code",
   "execution_count": null,
   "id": "21a7cc38",
   "metadata": {},
   "outputs": [],
   "source": []
  },
  {
   "cell_type": "code",
   "execution_count": null,
   "id": "142ef862",
   "metadata": {},
   "outputs": [],
   "source": []
  },
  {
   "cell_type": "code",
   "execution_count": null,
   "id": "036582fe",
   "metadata": {},
   "outputs": [],
   "source": []
  },
  {
   "cell_type": "code",
   "execution_count": null,
   "id": "db69a5a0",
   "metadata": {},
   "outputs": [],
   "source": []
  },
  {
   "cell_type": "code",
   "execution_count": null,
   "id": "9088f50c",
   "metadata": {},
   "outputs": [],
   "source": []
  },
  {
   "cell_type": "code",
   "execution_count": null,
   "id": "32ff48ac",
   "metadata": {},
   "outputs": [],
   "source": []
  },
  {
   "cell_type": "code",
   "execution_count": null,
   "id": "63b619dc",
   "metadata": {},
   "outputs": [],
   "source": []
  },
  {
   "cell_type": "code",
   "execution_count": null,
   "id": "d190aaff",
   "metadata": {},
   "outputs": [],
   "source": []
  }
 ],
 "metadata": {
  "kernelspec": {
   "display_name": "Python [conda env:root] *",
   "language": "python",
   "name": "conda-root-py"
  },
  "language_info": {
   "codemirror_mode": {
    "name": "ipython",
    "version": 3
   },
   "file_extension": ".py",
   "mimetype": "text/x-python",
   "name": "python",
   "nbconvert_exporter": "python",
   "pygments_lexer": "ipython3",
   "version": "3.8.3"
  }
 },
 "nbformat": 4,
 "nbformat_minor": 5
}
