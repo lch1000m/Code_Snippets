{
 "cells": [
  {
   "cell_type": "markdown",
   "metadata": {},
   "source": [
    "# MongoDB"
   ]
  },
  {
   "cell_type": "code",
   "execution_count": 35,
   "metadata": {
    "collapsed": true
   },
   "outputs": [],
   "source": [
    "import pymongo\n",
    "from pymongo import MongoClient\n",
    "\n",
    "from pprint import pprint"
   ]
  },
  {
   "cell_type": "markdown",
   "metadata": {},
   "source": [
    "# connect to Client"
   ]
  },
  {
   "cell_type": "code",
   "execution_count": 2,
   "metadata": {},
   "outputs": [],
   "source": [
    "mongo_client = MongoClient('localhost',27017)"
   ]
  },
  {
   "cell_type": "code",
   "execution_count": 3,
   "metadata": {},
   "outputs": [
    {
     "data": {
      "text/plain": [
       "MongoClient(host=['localhost:27017'], document_class=dict, tz_aware=False, connect=True)"
      ]
     },
     "execution_count": 3,
     "metadata": {},
     "output_type": "execute_result"
    }
   ],
   "source": [
    "mongo_client"
   ]
  },
  {
   "cell_type": "markdown",
   "metadata": {},
   "source": [
    "# connect to DB"
   ]
  },
  {
   "cell_type": "code",
   "execution_count": 4,
   "metadata": {
    "collapsed": true
   },
   "outputs": [],
   "source": [
    "mongo_db = mongo_client['test_db']"
   ]
  },
  {
   "cell_type": "code",
   "execution_count": 5,
   "metadata": {},
   "outputs": [
    {
     "data": {
      "text/plain": [
       "Database(MongoClient(host=['localhost:27017'], document_class=dict, tz_aware=False, connect=True), 'test_db')"
      ]
     },
     "execution_count": 5,
     "metadata": {},
     "output_type": "execute_result"
    }
   ],
   "source": [
    "mongo_db"
   ]
  },
  {
   "cell_type": "markdown",
   "metadata": {},
   "source": [
    "# connect to Collection"
   ]
  },
  {
   "cell_type": "code",
   "execution_count": 6,
   "metadata": {
    "collapsed": true
   },
   "outputs": [],
   "source": [
    "mongo_collection = mongo_db['node_sample']"
   ]
  },
  {
   "cell_type": "code",
   "execution_count": 7,
   "metadata": {},
   "outputs": [
    {
     "data": {
      "text/plain": [
       "Collection(Database(MongoClient(host=['localhost:27017'], document_class=dict, tz_aware=False, connect=True), 'test_db'), 'node_sample')"
      ]
     },
     "execution_count": 7,
     "metadata": {},
     "output_type": "execute_result"
    }
   ],
   "source": [
    "mongo_collection"
   ]
  },
  {
   "cell_type": "markdown",
   "metadata": {},
   "source": [
    "# read collection data"
   ]
  },
  {
   "cell_type": "markdown",
   "metadata": {},
   "source": [
    "## using find_one"
   ]
  },
  {
   "cell_type": "code",
   "execution_count": 8,
   "metadata": {
    "collapsed": true
   },
   "outputs": [],
   "source": [
    "data = mongo_collection.find_one()"
   ]
  },
  {
   "cell_type": "code",
   "execution_count": 9,
   "metadata": {},
   "outputs": [
    {
     "data": {
      "text/plain": [
       "{'_id': ObjectId('5a1297c4aeea91055838099b'),\n",
       " 'comment': 'value1',\n",
       " 'order': 1,\n",
       " 'title': 'whatever'}"
      ]
     },
     "execution_count": 9,
     "metadata": {},
     "output_type": "execute_result"
    }
   ],
   "source": [
    "# return 1st document of collection\n",
    "data"
   ]
  },
  {
   "cell_type": "markdown",
   "metadata": {},
   "source": [
    "## using find"
   ]
  },
  {
   "cell_type": "code",
   "execution_count": 10,
   "metadata": {
    "collapsed": true
   },
   "outputs": [],
   "source": [
    "data = mongo_collection.find()"
   ]
  },
  {
   "cell_type": "code",
   "execution_count": 11,
   "metadata": {},
   "outputs": [
    {
     "data": {
      "text/plain": [
       "<pymongo.cursor.Cursor at 0x1edbd42fba8>"
      ]
     },
     "execution_count": 11,
     "metadata": {},
     "output_type": "execute_result"
    }
   ],
   "source": [
    "data"
   ]
  },
  {
   "cell_type": "code",
   "execution_count": 12,
   "metadata": {},
   "outputs": [
    {
     "name": "stdout",
     "output_type": "stream",
     "text": [
      "<class 'dict'>\n",
      "{'_id': ObjectId('5a1297c4aeea91055838099b'),\n",
      " 'comment': 'value1',\n",
      " 'order': 1,\n",
      " 'title': 'whatever'}\n",
      "<class 'dict'>\n",
      "{'_id': ObjectId('5a1297c4aeea91055838099c'),\n",
      " 'comment': 'value2',\n",
      " 'order': 2,\n",
      " 'title': 'whenever'}\n",
      "<class 'dict'>\n",
      "{'_id': ObjectId('5a1297c4aeea91055838099d'),\n",
      " 'comment': 'value3',\n",
      " 'order': 3,\n",
      " 'title': 'whoever'}\n",
      "<class 'dict'>\n",
      "{'_id': ObjectId('5a1a21c5aeea9118e02d64c7'),\n",
      " 'comment': 'insert by insert_one',\n",
      " 'order': 4,\n",
      " 'title': 'no matter'}\n",
      "<class 'dict'>\n",
      "{'_id': ObjectId('5a1a226baeea9118e02d64cb'),\n",
      " 'comment': 'insert by insert_many',\n",
      " 'order': 5,\n",
      " 'title': 'no matter'}\n",
      "<class 'dict'>\n",
      "{'_id': ObjectId('5a1a226baeea9118e02d64cc'),\n",
      " 'comment': 'insert by insert_many',\n",
      " 'order': 6,\n",
      " 'title': 'no matter'}\n"
     ]
    }
   ],
   "source": [
    "for datum in data:\n",
    "    print(type(datum))\n",
    "    pprint(datum)"
   ]
  },
  {
   "cell_type": "markdown",
   "metadata": {},
   "source": [
    "## using find with query"
   ]
  },
  {
   "cell_type": "code",
   "execution_count": 13,
   "metadata": {
    "collapsed": true
   },
   "outputs": [],
   "source": [
    "query = {\n",
    "    'order':2,\n",
    "}\n",
    "\n",
    "data = mongo_collection.find(query)"
   ]
  },
  {
   "cell_type": "code",
   "execution_count": 14,
   "metadata": {},
   "outputs": [
    {
     "data": {
      "text/plain": [
       "<pymongo.cursor.Cursor at 0x1edbd452e10>"
      ]
     },
     "execution_count": 14,
     "metadata": {},
     "output_type": "execute_result"
    }
   ],
   "source": [
    "data"
   ]
  },
  {
   "cell_type": "code",
   "execution_count": 15,
   "metadata": {},
   "outputs": [
    {
     "name": "stdout",
     "output_type": "stream",
     "text": [
      "<class 'dict'>\n",
      "{'_id': ObjectId('5a1297c4aeea91055838099c'),\n",
      " 'comment': 'value2',\n",
      " 'order': 2,\n",
      " 'title': 'whenever'}\n"
     ]
    }
   ],
   "source": [
    "for datum in data:\n",
    "    print(type(datum))\n",
    "    pprint(datum)"
   ]
  },
  {
   "cell_type": "markdown",
   "metadata": {},
   "source": [
    "## query with multiple condition"
   ]
  },
  {
   "cell_type": "code",
   "execution_count": 16,
   "metadata": {},
   "outputs": [],
   "source": [
    "query = {\n",
    "    '$and':[\n",
    "        {'order':2},\n",
    "        {'title':'whenever'},\n",
    "    ]\n",
    "}\n",
    "\n",
    "data = mongo_collection.find_one(query)"
   ]
  },
  {
   "cell_type": "code",
   "execution_count": 17,
   "metadata": {},
   "outputs": [
    {
     "name": "stdout",
     "output_type": "stream",
     "text": [
      "{'_id': ObjectId('5a1297c4aeea91055838099c'),\n",
      " 'comment': 'value2',\n",
      " 'order': 2,\n",
      " 'title': 'whenever'}\n"
     ]
    }
   ],
   "source": [
    "pprint(data)"
   ]
  },
  {
   "cell_type": "markdown",
   "metadata": {},
   "source": [
    "## query only typical column"
   ]
  },
  {
   "cell_type": "code",
   "execution_count": 18,
   "metadata": {
    "collapsed": true
   },
   "outputs": [],
   "source": [
    "query = {    \n",
    "    'order':2,\n",
    "}\n",
    "\n",
    "cols = {'order':1, 'comment':1}\n",
    "\n",
    "data = mongo_collection.find_one(query, cols)"
   ]
  },
  {
   "cell_type": "markdown",
   "metadata": {},
   "source": [
    "## id pk field added by default"
   ]
  },
  {
   "cell_type": "code",
   "execution_count": 19,
   "metadata": {},
   "outputs": [
    {
     "name": "stdout",
     "output_type": "stream",
     "text": [
      "{'_id': ObjectId('5a1297c4aeea91055838099c'), 'comment': 'value2', 'order': 2}\n"
     ]
    }
   ],
   "source": [
    "pprint(data)"
   ]
  },
  {
   "cell_type": "code",
   "execution_count": 20,
   "metadata": {
    "collapsed": true
   },
   "outputs": [],
   "source": [
    "query = {    \n",
    "    'order':2,\n",
    "}\n",
    "\n",
    "# force remove _id field\n",
    "cols = {\n",
    "    '_id':0,\n",
    "    'order':1, \n",
    "    'comment':1,\n",
    "}\n",
    "\n",
    "data = mongo_collection.find_one(query, cols)"
   ]
  },
  {
   "cell_type": "code",
   "execution_count": 21,
   "metadata": {},
   "outputs": [
    {
     "data": {
      "text/plain": [
       "{'comment': 'value2', 'order': 2}"
      ]
     },
     "execution_count": 21,
     "metadata": {},
     "output_type": "execute_result"
    }
   ],
   "source": [
    "data"
   ]
  },
  {
   "cell_type": "markdown",
   "metadata": {},
   "source": [
    "# MongoDB CRUD\n"
   ]
  },
  {
   "cell_type": "markdown",
   "metadata": {},
   "source": [
    "## Insert using insert_one"
   ]
  },
  {
   "cell_type": "code",
   "execution_count": 22,
   "metadata": {},
   "outputs": [
    {
     "data": {
      "text/plain": [
       "<pymongo.results.InsertOneResult at 0x1edbd456888>"
      ]
     },
     "execution_count": 22,
     "metadata": {},
     "output_type": "execute_result"
    }
   ],
   "source": [
    "document = {\n",
    "    'order':4,\n",
    "    'title':'no matter',\n",
    "    'comment':'insert by insert_one',\n",
    "}\n",
    "\n",
    "mongo_collection.insert_one(document)"
   ]
  },
  {
   "cell_type": "markdown",
   "metadata": {},
   "source": [
    "## Bulk insert using insert_many"
   ]
  },
  {
   "cell_type": "code",
   "execution_count": 23,
   "metadata": {
    "collapsed": true
   },
   "outputs": [],
   "source": [
    "documents = [\n",
    "    {\n",
    "    'order':5,\n",
    "    'title':'no matter',\n",
    "    'comment':'insert by insert_many',\n",
    "    },\n",
    "    {\n",
    "    'order':6,\n",
    "    'title':'no matter',\n",
    "    'comment':'insert by insert_many',\n",
    "    },\n",
    "]"
   ]
  },
  {
   "cell_type": "code",
   "execution_count": 24,
   "metadata": {},
   "outputs": [
    {
     "data": {
      "text/plain": [
       "list"
      ]
     },
     "execution_count": 24,
     "metadata": {},
     "output_type": "execute_result"
    }
   ],
   "source": [
    "type(documents)"
   ]
  },
  {
   "cell_type": "code",
   "execution_count": 36,
   "metadata": {},
   "outputs": [
    {
     "data": {
      "text/plain": [
       "<pymongo.results.InsertManyResult at 0x1edbd4a8a88>"
      ]
     },
     "execution_count": 36,
     "metadata": {},
     "output_type": "execute_result"
    }
   ],
   "source": [
    "mongo_collection.insert_many(documents)"
   ]
  },
  {
   "cell_type": "markdown",
   "metadata": {},
   "source": [
    "## Modify document"
   ]
  },
  {
   "cell_type": "code",
   "execution_count": 57,
   "metadata": {
    "collapsed": true
   },
   "outputs": [],
   "source": [
    "document = mongo_collection.find_one({'order':2})"
   ]
  },
  {
   "cell_type": "code",
   "execution_count": 62,
   "metadata": {},
   "outputs": [
    {
     "data": {
      "text/plain": [
       "{'_id': ObjectId('5a1297c4aeea91055838099c'),\n",
       " 'comment': 'value2',\n",
       " 'order': 2,\n",
       " 'title': 'whenever'}"
      ]
     },
     "execution_count": 62,
     "metadata": {},
     "output_type": "execute_result"
    }
   ],
   "source": [
    "document"
   ]
  },
  {
   "cell_type": "markdown",
   "metadata": {},
   "source": [
    "## only change typical parts"
   ]
  },
  {
   "cell_type": "code",
   "execution_count": 68,
   "metadata": {},
   "outputs": [
    {
     "name": "stderr",
     "output_type": "stream",
     "text": [
      "C:\\ProgramData\\Anaconda3\\lib\\site-packages\\ipykernel_launcher.py:4: DeprecationWarning: update is deprecated. Use replace_one, update_one or update_many instead.\n",
      "  after removing the cwd from sys.path.\n"
     ]
    },
    {
     "data": {
      "text/plain": [
       "{'n': 1, 'nModified': 1, 'ok': 1.0, 'updatedExisting': True}"
      ]
     },
     "execution_count": 68,
     "metadata": {},
     "output_type": "execute_result"
    }
   ],
   "source": [
    "mongo_collection.update(\n",
    "    {'order':2},\n",
    "    {'$set':\n",
    "        {'comment':'new comment', 'title': 'also changed'},        \n",
    "    },\n",
    ")"
   ]
  },
  {
   "cell_type": "markdown",
   "metadata": {},
   "source": [
    "## replace document"
   ]
  },
  {
   "cell_type": "code",
   "execution_count": 71,
   "metadata": {},
   "outputs": [
    {
     "name": "stderr",
     "output_type": "stream",
     "text": [
      "C:\\ProgramData\\Anaconda3\\lib\\site-packages\\ipykernel_launcher.py:10: DeprecationWarning: update is deprecated. Use replace_one, update_one or update_many instead.\n",
      "  # Remove the CWD from sys.path while we load stuff.\n"
     ]
    },
    {
     "data": {
      "text/plain": [
       "{'n': 1, 'nModified': 1, 'ok': 1.0, 'updatedExisting': True}"
      ]
     },
     "execution_count": 71,
     "metadata": {},
     "output_type": "execute_result"
    }
   ],
   "source": [
    "replace = {\n",
    "    'order':1.0,\n",
    "    'title':'new title',\n",
    "    'comment':'new comment',\n",
    "}\n",
    "\n",
    "mongo_collection.update(\n",
    "    {'order':1},\n",
    "    replace,\n",
    "    upsert=True,   # when upser=True, creates document when query result is None\n",
    ")"
   ]
  },
  {
   "cell_type": "markdown",
   "metadata": {},
   "source": [
    "## remove document"
   ]
  },
  {
   "cell_type": "markdown",
   "metadata": {},
   "source": [
    "### using delete_one"
   ]
  },
  {
   "cell_type": "code",
   "execution_count": 79,
   "metadata": {},
   "outputs": [
    {
     "data": {
      "text/plain": [
       "<pymongo.results.DeleteResult at 0x1edbd542588>"
      ]
     },
     "execution_count": 79,
     "metadata": {},
     "output_type": "execute_result"
    }
   ],
   "source": [
    "query = {\n",
    "    'order':1.1,\n",
    "}\n",
    "\n",
    "mongo_collection.delete_one(query)"
   ]
  },
  {
   "cell_type": "code",
   "execution_count": 80,
   "metadata": {},
   "outputs": [
    {
     "name": "stdout",
     "output_type": "stream",
     "text": [
      "{'_id': ObjectId('5a1297c4aeea91055838099c'),\n",
      " 'comment': 'new comment',\n",
      " 'order': 2,\n",
      " 'title': 'also changed'}\n",
      "{'_id': ObjectId('5a1297c4aeea91055838099d'),\n",
      " 'comment': 'value3',\n",
      " 'order': 3,\n",
      " 'title': 'whoever'}\n",
      "{'_id': ObjectId('5a1a21c5aeea9118e02d64c7'),\n",
      " 'comment': 'insert by insert_one',\n",
      " 'order': 4,\n",
      " 'title': 'no matter'}\n",
      "{'_id': ObjectId('5a1a226baeea9118e02d64cb'),\n",
      " 'comment': 'insert by insert_many',\n",
      " 'order': 5,\n",
      " 'title': 'no matter'}\n",
      "{'_id': ObjectId('5a1a226baeea9118e02d64cc'),\n",
      " 'comment': 'insert by insert_many',\n",
      " 'order': 6,\n",
      " 'title': 'no matter'}\n"
     ]
    }
   ],
   "source": [
    "data = mongo_collection.find()\n",
    "\n",
    "for datum in data:\n",
    "    pprint(datum)"
   ]
  },
  {
   "cell_type": "markdown",
   "metadata": {},
   "source": [
    "### using delete_many"
   ]
  },
  {
   "cell_type": "code",
   "execution_count": 84,
   "metadata": {},
   "outputs": [
    {
     "data": {
      "text/plain": [
       "<pymongo.results.DeleteResult at 0x1edbd542b08>"
      ]
     },
     "execution_count": 84,
     "metadata": {},
     "output_type": "execute_result"
    }
   ],
   "source": [
    "query = {\n",
    "    '$and':[\n",
    "        {'order':{'$gte':4}},\n",
    "        {'order':{'$lte':5}},\n",
    "    ]\n",
    "}\n",
    "\n",
    "mongo_collection.delete_many(query)"
   ]
  },
  {
   "cell_type": "code",
   "execution_count": 85,
   "metadata": {},
   "outputs": [
    {
     "name": "stdout",
     "output_type": "stream",
     "text": [
      "{'_id': ObjectId('5a1297c4aeea91055838099c'),\n",
      " 'comment': 'new comment',\n",
      " 'order': 2,\n",
      " 'title': 'also changed'}\n",
      "{'_id': ObjectId('5a1297c4aeea91055838099d'),\n",
      " 'comment': 'value3',\n",
      " 'order': 3,\n",
      " 'title': 'whoever'}\n",
      "{'_id': ObjectId('5a1a226baeea9118e02d64cc'),\n",
      " 'comment': 'insert by insert_many',\n",
      " 'order': 6,\n",
      " 'title': 'no matter'}\n"
     ]
    }
   ],
   "source": [
    "data = mongo_collection.find()\n",
    "\n",
    "for datum in data:\n",
    "    pprint(datum)"
   ]
  },
  {
   "cell_type": "markdown",
   "metadata": {},
   "source": [
    "## count of documents"
   ]
  },
  {
   "cell_type": "code",
   "execution_count": 37,
   "metadata": {},
   "outputs": [
    {
     "data": {
      "text/plain": [
       "8"
      ]
     },
     "execution_count": 37,
     "metadata": {},
     "output_type": "execute_result"
    }
   ],
   "source": [
    "mongo_collection.count()"
   ]
  },
  {
   "cell_type": "markdown",
   "metadata": {},
   "source": [
    "# Sorting find result"
   ]
  },
  {
   "cell_type": "code",
   "execution_count": 46,
   "metadata": {},
   "outputs": [],
   "source": [
    "data = mongo_collection.find().sort('order', pymongo.ASCENDING)"
   ]
  },
  {
   "cell_type": "code",
   "execution_count": 47,
   "metadata": {},
   "outputs": [
    {
     "name": "stdout",
     "output_type": "stream",
     "text": [
      "{'_id': ObjectId('5a1297c4aeea91055838099b'),\n",
      " 'comment': 'value1',\n",
      " 'order': 1,\n",
      " 'title': 'whatever'}\n",
      "{'_id': ObjectId('5a1297c4aeea91055838099c'),\n",
      " 'comment': 'value2',\n",
      " 'order': 2,\n",
      " 'title': 'whenever'}\n",
      "{'_id': ObjectId('5a1297c4aeea91055838099d'),\n",
      " 'comment': 'value3',\n",
      " 'order': 3,\n",
      " 'title': 'whoever'}\n",
      "{'_id': ObjectId('5a1a21c5aeea9118e02d64c7'),\n",
      " 'comment': 'insert by insert_one',\n",
      " 'order': 4,\n",
      " 'title': 'no matter'}\n",
      "{'_id': ObjectId('5a1a226baeea9118e02d64cb'),\n",
      " 'comment': 'insert by insert_many',\n",
      " 'order': 5,\n",
      " 'title': 'no matter'}\n",
      "{'_id': ObjectId('5a1a226baeea9118e02d64cc'),\n",
      " 'comment': 'insert by insert_many',\n",
      " 'order': 6,\n",
      " 'title': 'no matter'}\n"
     ]
    }
   ],
   "source": [
    "for datum in data:\n",
    "    pprint(datum)"
   ]
  },
  {
   "cell_type": "code",
   "execution_count": 52,
   "metadata": {
    "collapsed": true
   },
   "outputs": [],
   "source": [
    "data = mongo_collection.find().sort('order', pymongo.DESCENDING)"
   ]
  },
  {
   "cell_type": "code",
   "execution_count": 53,
   "metadata": {},
   "outputs": [
    {
     "name": "stdout",
     "output_type": "stream",
     "text": [
      "{'_id': ObjectId('5a1a226baeea9118e02d64cc'),\n",
      " 'comment': 'insert by insert_many',\n",
      " 'order': 6,\n",
      " 'title': 'no matter'}\n",
      "{'_id': ObjectId('5a1a226baeea9118e02d64cb'),\n",
      " 'comment': 'insert by insert_many',\n",
      " 'order': 5,\n",
      " 'title': 'no matter'}\n",
      "{'_id': ObjectId('5a1a21c5aeea9118e02d64c7'),\n",
      " 'comment': 'insert by insert_one',\n",
      " 'order': 4,\n",
      " 'title': 'no matter'}\n",
      "{'_id': ObjectId('5a1297c4aeea91055838099d'),\n",
      " 'comment': 'value3',\n",
      " 'order': 3,\n",
      " 'title': 'whoever'}\n",
      "{'_id': ObjectId('5a1297c4aeea91055838099c'),\n",
      " 'comment': 'value2',\n",
      " 'order': 2,\n",
      " 'title': 'whenever'}\n",
      "{'_id': ObjectId('5a1297c4aeea91055838099b'),\n",
      " 'comment': 'value1',\n",
      " 'order': 1,\n",
      " 'title': 'whatever'}\n"
     ]
    }
   ],
   "source": [
    "for datum in data:\n",
    "    pprint(datum)"
   ]
  },
  {
   "cell_type": "markdown",
   "metadata": {},
   "source": [
    "# limits number of results with sorting"
   ]
  },
  {
   "cell_type": "code",
   "execution_count": 54,
   "metadata": {
    "collapsed": true
   },
   "outputs": [],
   "source": [
    "data = mongo_collection.find().sort('order', pymongo.DESCENDING).limit(3)"
   ]
  },
  {
   "cell_type": "code",
   "execution_count": 56,
   "metadata": {},
   "outputs": [
    {
     "name": "stdout",
     "output_type": "stream",
     "text": [
      "{'_id': ObjectId('5a1a226baeea9118e02d64cc'),\n",
      " 'comment': 'insert by insert_many',\n",
      " 'order': 6,\n",
      " 'title': 'no matter'}\n",
      "{'_id': ObjectId('5a1a226baeea9118e02d64cb'),\n",
      " 'comment': 'insert by insert_many',\n",
      " 'order': 5,\n",
      " 'title': 'no matter'}\n",
      "{'_id': ObjectId('5a1a21c5aeea9118e02d64c7'),\n",
      " 'comment': 'insert by insert_one',\n",
      " 'order': 4,\n",
      " 'title': 'no matter'}\n"
     ]
    }
   ],
   "source": [
    "for datum in data:\n",
    "    pprint(datum)"
   ]
  },
  {
   "cell_type": "markdown",
   "metadata": {},
   "source": [
    "# Indexing Collection"
   ]
  },
  {
   "cell_type": "code",
   "execution_count": 86,
   "metadata": {},
   "outputs": [
    {
     "data": {
      "text/plain": [
       "{'_id_': {'key': [('_id', 1)], 'ns': 'test_db.node_sample', 'v': 2}}"
      ]
     },
     "execution_count": 86,
     "metadata": {},
     "output_type": "execute_result"
    }
   ],
   "source": [
    "mongo_collection.index_information()"
   ]
  },
  {
   "cell_type": "code",
   "execution_count": 87,
   "metadata": {
    "collapsed": true
   },
   "outputs": [],
   "source": [
    "result = mongo_collection.create_index(\n",
    "    [\n",
    "        ('order', pymongo.ASCENDING),\n",
    "        ('title', pymongo.ASCENDING),\n",
    "        ('comment', pymongo.ASCENDING),\n",
    "    ]\n",
    ")"
   ]
  },
  {
   "cell_type": "markdown",
   "metadata": {},
   "source": [
    "## get index information of collection"
   ]
  },
  {
   "cell_type": "code",
   "execution_count": 91,
   "metadata": {},
   "outputs": [
    {
     "name": "stdout",
     "output_type": "stream",
     "text": [
      "{'_id_': {'key': [('_id', 1)], 'ns': 'test_db.node_sample', 'v': 2},\n",
      " 'order_1_title_1_comment_1': {'key': [('order', 1),\n",
      "                                       ('title', 1),\n",
      "                                       ('comment', 1)],\n",
      "                               'ns': 'test_db.node_sample',\n",
      "                               'v': 2}}\n"
     ]
    }
   ],
   "source": [
    "pprint(mongo_collection.index_information())"
   ]
  },
  {
   "cell_type": "markdown",
   "metadata": {},
   "source": [
    "# Basic Map/Reduce"
   ]
  },
  {
   "cell_type": "code",
   "execution_count": 92,
   "metadata": {
    "collapsed": true
   },
   "outputs": [],
   "source": [
    "from bson.code import Code"
   ]
  },
  {
   "cell_type": "code",
   "execution_count": 98,
   "metadata": {
    "collapsed": true
   },
   "outputs": [],
   "source": [
    "map = Code(\"function () {\"\n",
    "           \"  this.order.forEach(function(z) {\"\n",
    "           \"    emit(z, 1);\"\n",
    "           \"  });\"\n",
    "           \"}\")"
   ]
  },
  {
   "cell_type": "code",
   "execution_count": 99,
   "metadata": {},
   "outputs": [
    {
     "data": {
      "text/plain": [
       "Code('function () {  this.order.forEach(function(z) {    emit(z, 1);  });}', None)"
      ]
     },
     "execution_count": 99,
     "metadata": {},
     "output_type": "execute_result"
    }
   ],
   "source": [
    "map"
   ]
  },
  {
   "cell_type": "code",
   "execution_count": 100,
   "metadata": {
    "collapsed": true
   },
   "outputs": [],
   "source": [
    "reduce = Code(\"function (key, values) {\"\n",
    "              \"  var total = 0;\"\n",
    "              \"  for (var i = 0; i < values.length; i++) {\"\n",
    "              \"    total += values[i];\"\n",
    "              \"  }\"\n",
    "              \"  return total;\"\n",
    "              \"}\")"
   ]
  },
  {
   "cell_type": "code",
   "execution_count": 101,
   "metadata": {},
   "outputs": [
    {
     "data": {
      "text/plain": [
       "Code('function (key, values) {  var total = 0;  for (var i = 0; i < values.length; i++) {    total += values[i];  }  return total;}', None)"
      ]
     },
     "execution_count": 101,
     "metadata": {},
     "output_type": "execute_result"
    }
   ],
   "source": [
    "reduce"
   ]
  },
  {
   "cell_type": "markdown",
   "metadata": {},
   "source": [
    "# mapreduce example on mongo shell"
   ]
  },
  {
   "cell_type": "code",
   "execution_count": 105,
   "metadata": {},
   "outputs": [
    {
     "data": {
      "text/plain": [
       "'\\nfunction map() {emit(this.order, this.comment)}\\nfunction reduce(key, value) { return value.join() }\\n\\ndb.node_sample.mapReduce(map, reduce, {out: {inline:1}});\\n'"
      ]
     },
     "execution_count": 105,
     "metadata": {},
     "output_type": "execute_result"
    }
   ],
   "source": [
    "\"\"\"\n",
    "function map() {emit(this.order, this.comment)}\n",
    "function reduce(key, value) { return value.join() }\n",
    "\n",
    "db.node_sample.mapReduce(map, reduce, {out: {inline:1}});\n",
    "\"\"\""
   ]
  },
  {
   "cell_type": "code",
   "execution_count": null,
   "metadata": {
    "collapsed": true
   },
   "outputs": [],
   "source": []
  },
  {
   "cell_type": "code",
   "execution_count": null,
   "metadata": {
    "collapsed": true
   },
   "outputs": [],
   "source": []
  },
  {
   "cell_type": "code",
   "execution_count": null,
   "metadata": {
    "collapsed": true
   },
   "outputs": [],
   "source": []
  },
  {
   "cell_type": "code",
   "execution_count": null,
   "metadata": {
    "collapsed": true
   },
   "outputs": [],
   "source": []
  },
  {
   "cell_type": "code",
   "execution_count": null,
   "metadata": {
    "collapsed": true
   },
   "outputs": [],
   "source": []
  },
  {
   "cell_type": "code",
   "execution_count": null,
   "metadata": {
    "collapsed": true
   },
   "outputs": [],
   "source": []
  },
  {
   "cell_type": "code",
   "execution_count": null,
   "metadata": {
    "collapsed": true
   },
   "outputs": [],
   "source": []
  },
  {
   "cell_type": "code",
   "execution_count": null,
   "metadata": {
    "collapsed": true
   },
   "outputs": [],
   "source": []
  },
  {
   "cell_type": "code",
   "execution_count": null,
   "metadata": {
    "collapsed": true
   },
   "outputs": [],
   "source": []
  }
 ],
 "metadata": {
  "kernelspec": {
   "display_name": "Python 3",
   "language": "python",
   "name": "python3"
  },
  "language_info": {
   "codemirror_mode": {
    "name": "ipython",
    "version": 3
   },
   "file_extension": ".py",
   "mimetype": "text/x-python",
   "name": "python",
   "nbconvert_exporter": "python",
   "pygments_lexer": "ipython3",
   "version": "3.6.1"
  }
 },
 "nbformat": 4,
 "nbformat_minor": 2
}
